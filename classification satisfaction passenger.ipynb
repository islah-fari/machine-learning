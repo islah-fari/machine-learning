{
  "nbformat": 4,
  "nbformat_minor": 0,
  "metadata": {
    "colab": {
      "name": "MID DM.ipynb",
      "provenance": [],
      "collapsed_sections": []
    },
    "kernelspec": {
      "name": "python3",
      "display_name": "Python 3"
    }
  },
  "cells": [
    {
      "cell_type": "code",
      "metadata": {
        "id": "f--iFEFy10U2",
        "colab": {
          "resources": {
            "http://localhost:8080/nbextensions/google.colab/files.js": {
              "data": "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",
              "ok": true,
              "headers": [
                [
                  "content-type",
                  "application/javascript"
                ]
              ],
              "status": 200,
              "status_text": ""
            }
          },
          "base_uri": "https://localhost:8080/",
          "height": 73
        },
        "outputId": "2b2d048f-60ff-4343-c893-f83142e9107b"
      },
      "source": [
        "from google.colab import files\n",
        "uploaded = files.upload()"
      ],
      "execution_count": null,
      "outputs": [
        {
          "output_type": "display_data",
          "data": {
            "text/html": [
              "\n",
              "     <input type=\"file\" id=\"files-63e76d81-5d8f-4cab-abed-024324d75efe\" name=\"files[]\" multiple disabled\n",
              "        style=\"border:none\" />\n",
              "     <output id=\"result-63e76d81-5d8f-4cab-abed-024324d75efe\">\n",
              "      Upload widget is only available when the cell has been executed in the\n",
              "      current browser session. Please rerun this cell to enable.\n",
              "      </output>\n",
              "      <script src=\"/nbextensions/google.colab/files.js\"></script> "
            ],
            "text/plain": [
              "<IPython.core.display.HTML object>"
            ]
          },
          "metadata": {
            "tags": []
          }
        },
        {
          "output_type": "stream",
          "text": [
            "Saving test.csv to test.csv\n"
          ],
          "name": "stdout"
        }
      ]
    },
    {
      "cell_type": "code",
      "metadata": {
        "id": "a8Wc4X0G2kn6"
      },
      "source": [
        "import pandas as pd"
      ],
      "execution_count": null,
      "outputs": []
    },
    {
      "cell_type": "code",
      "metadata": {
        "id": "DkPFCO5a2heW",
        "colab": {
          "base_uri": "https://localhost:8080/",
          "height": 361
        },
        "outputId": "c0e3d6e9-7fca-44d0-b192-d0f72b9649f5"
      },
      "source": [
        "import io\n",
        "df = pd.read_csv(io.BytesIO(uploaded['test.csv']))\n",
        "df.head()"
      ],
      "execution_count": null,
      "outputs": [
        {
          "output_type": "execute_result",
          "data": {
            "text/html": [
              "<div>\n",
              "<style scoped>\n",
              "    .dataframe tbody tr th:only-of-type {\n",
              "        vertical-align: middle;\n",
              "    }\n",
              "\n",
              "    .dataframe tbody tr th {\n",
              "        vertical-align: top;\n",
              "    }\n",
              "\n",
              "    .dataframe thead th {\n",
              "        text-align: right;\n",
              "    }\n",
              "</style>\n",
              "<table border=\"1\" class=\"dataframe\">\n",
              "  <thead>\n",
              "    <tr style=\"text-align: right;\">\n",
              "      <th></th>\n",
              "      <th>Unnamed: 0</th>\n",
              "      <th>id</th>\n",
              "      <th>Gender</th>\n",
              "      <th>Customer Type</th>\n",
              "      <th>Age</th>\n",
              "      <th>Type of Travel</th>\n",
              "      <th>Class</th>\n",
              "      <th>Flight Distance</th>\n",
              "      <th>Inflight wifi service</th>\n",
              "      <th>Departure/Arrival time convenient</th>\n",
              "      <th>Ease of Online booking</th>\n",
              "      <th>Gate location</th>\n",
              "      <th>Food and drink</th>\n",
              "      <th>Online boarding</th>\n",
              "      <th>Seat comfort</th>\n",
              "      <th>Inflight entertainment</th>\n",
              "      <th>On-board service</th>\n",
              "      <th>Leg room service</th>\n",
              "      <th>Baggage handling</th>\n",
              "      <th>Checkin service</th>\n",
              "      <th>Inflight service</th>\n",
              "      <th>Cleanliness</th>\n",
              "      <th>Departure Delay in Minutes</th>\n",
              "      <th>Arrival Delay in Minutes</th>\n",
              "      <th>satisfaction</th>\n",
              "    </tr>\n",
              "  </thead>\n",
              "  <tbody>\n",
              "    <tr>\n",
              "      <th>0</th>\n",
              "      <td>0</td>\n",
              "      <td>19556</td>\n",
              "      <td>Female</td>\n",
              "      <td>Loyal Customer</td>\n",
              "      <td>52</td>\n",
              "      <td>Business travel</td>\n",
              "      <td>Eco</td>\n",
              "      <td>160</td>\n",
              "      <td>5</td>\n",
              "      <td>4</td>\n",
              "      <td>3</td>\n",
              "      <td>4</td>\n",
              "      <td>3</td>\n",
              "      <td>4</td>\n",
              "      <td>3</td>\n",
              "      <td>5</td>\n",
              "      <td>5</td>\n",
              "      <td>5</td>\n",
              "      <td>5</td>\n",
              "      <td>2</td>\n",
              "      <td>5</td>\n",
              "      <td>5</td>\n",
              "      <td>50</td>\n",
              "      <td>44.0</td>\n",
              "      <td>satisfied</td>\n",
              "    </tr>\n",
              "    <tr>\n",
              "      <th>1</th>\n",
              "      <td>1</td>\n",
              "      <td>90035</td>\n",
              "      <td>Female</td>\n",
              "      <td>Loyal Customer</td>\n",
              "      <td>36</td>\n",
              "      <td>Business travel</td>\n",
              "      <td>Business</td>\n",
              "      <td>2863</td>\n",
              "      <td>1</td>\n",
              "      <td>1</td>\n",
              "      <td>3</td>\n",
              "      <td>1</td>\n",
              "      <td>5</td>\n",
              "      <td>4</td>\n",
              "      <td>5</td>\n",
              "      <td>4</td>\n",
              "      <td>4</td>\n",
              "      <td>4</td>\n",
              "      <td>4</td>\n",
              "      <td>3</td>\n",
              "      <td>4</td>\n",
              "      <td>5</td>\n",
              "      <td>0</td>\n",
              "      <td>0.0</td>\n",
              "      <td>satisfied</td>\n",
              "    </tr>\n",
              "    <tr>\n",
              "      <th>2</th>\n",
              "      <td>2</td>\n",
              "      <td>12360</td>\n",
              "      <td>Male</td>\n",
              "      <td>disloyal Customer</td>\n",
              "      <td>20</td>\n",
              "      <td>Business travel</td>\n",
              "      <td>Eco</td>\n",
              "      <td>192</td>\n",
              "      <td>2</td>\n",
              "      <td>0</td>\n",
              "      <td>2</td>\n",
              "      <td>4</td>\n",
              "      <td>2</td>\n",
              "      <td>2</td>\n",
              "      <td>2</td>\n",
              "      <td>2</td>\n",
              "      <td>4</td>\n",
              "      <td>1</td>\n",
              "      <td>3</td>\n",
              "      <td>2</td>\n",
              "      <td>2</td>\n",
              "      <td>2</td>\n",
              "      <td>0</td>\n",
              "      <td>0.0</td>\n",
              "      <td>neutral or dissatisfied</td>\n",
              "    </tr>\n",
              "    <tr>\n",
              "      <th>3</th>\n",
              "      <td>3</td>\n",
              "      <td>77959</td>\n",
              "      <td>Male</td>\n",
              "      <td>Loyal Customer</td>\n",
              "      <td>44</td>\n",
              "      <td>Business travel</td>\n",
              "      <td>Business</td>\n",
              "      <td>3377</td>\n",
              "      <td>0</td>\n",
              "      <td>0</td>\n",
              "      <td>0</td>\n",
              "      <td>2</td>\n",
              "      <td>3</td>\n",
              "      <td>4</td>\n",
              "      <td>4</td>\n",
              "      <td>1</td>\n",
              "      <td>1</td>\n",
              "      <td>1</td>\n",
              "      <td>1</td>\n",
              "      <td>3</td>\n",
              "      <td>1</td>\n",
              "      <td>4</td>\n",
              "      <td>0</td>\n",
              "      <td>6.0</td>\n",
              "      <td>satisfied</td>\n",
              "    </tr>\n",
              "    <tr>\n",
              "      <th>4</th>\n",
              "      <td>4</td>\n",
              "      <td>36875</td>\n",
              "      <td>Female</td>\n",
              "      <td>Loyal Customer</td>\n",
              "      <td>49</td>\n",
              "      <td>Business travel</td>\n",
              "      <td>Eco</td>\n",
              "      <td>1182</td>\n",
              "      <td>2</td>\n",
              "      <td>3</td>\n",
              "      <td>4</td>\n",
              "      <td>3</td>\n",
              "      <td>4</td>\n",
              "      <td>1</td>\n",
              "      <td>2</td>\n",
              "      <td>2</td>\n",
              "      <td>2</td>\n",
              "      <td>2</td>\n",
              "      <td>2</td>\n",
              "      <td>4</td>\n",
              "      <td>2</td>\n",
              "      <td>4</td>\n",
              "      <td>0</td>\n",
              "      <td>20.0</td>\n",
              "      <td>satisfied</td>\n",
              "    </tr>\n",
              "  </tbody>\n",
              "</table>\n",
              "</div>"
            ],
            "text/plain": [
              "   Unnamed: 0     id  ... Arrival Delay in Minutes             satisfaction\n",
              "0           0  19556  ...                     44.0                satisfied\n",
              "1           1  90035  ...                      0.0                satisfied\n",
              "2           2  12360  ...                      0.0  neutral or dissatisfied\n",
              "3           3  77959  ...                      6.0                satisfied\n",
              "4           4  36875  ...                     20.0                satisfied\n",
              "\n",
              "[5 rows x 25 columns]"
            ]
          },
          "metadata": {
            "tags": []
          },
          "execution_count": 3
        }
      ]
    },
    {
      "cell_type": "code",
      "metadata": {
        "id": "dGR83t0Y26-V",
        "colab": {
          "base_uri": "https://localhost:8080/",
          "height": 121
        },
        "outputId": "630b250a-293b-43a3-9336-332c68bb847b"
      },
      "source": [
        "df[df.duplicated()]"
      ],
      "execution_count": null,
      "outputs": [
        {
          "output_type": "execute_result",
          "data": {
            "text/html": [
              "<div>\n",
              "<style scoped>\n",
              "    .dataframe tbody tr th:only-of-type {\n",
              "        vertical-align: middle;\n",
              "    }\n",
              "\n",
              "    .dataframe tbody tr th {\n",
              "        vertical-align: top;\n",
              "    }\n",
              "\n",
              "    .dataframe thead th {\n",
              "        text-align: right;\n",
              "    }\n",
              "</style>\n",
              "<table border=\"1\" class=\"dataframe\">\n",
              "  <thead>\n",
              "    <tr style=\"text-align: right;\">\n",
              "      <th></th>\n",
              "      <th>Unnamed: 0</th>\n",
              "      <th>id</th>\n",
              "      <th>Gender</th>\n",
              "      <th>Customer Type</th>\n",
              "      <th>Age</th>\n",
              "      <th>Type of Travel</th>\n",
              "      <th>Class</th>\n",
              "      <th>Flight Distance</th>\n",
              "      <th>Inflight wifi service</th>\n",
              "      <th>Departure/Arrival time convenient</th>\n",
              "      <th>Ease of Online booking</th>\n",
              "      <th>Gate location</th>\n",
              "      <th>Food and drink</th>\n",
              "      <th>Online boarding</th>\n",
              "      <th>Seat comfort</th>\n",
              "      <th>Inflight entertainment</th>\n",
              "      <th>On-board service</th>\n",
              "      <th>Leg room service</th>\n",
              "      <th>Baggage handling</th>\n",
              "      <th>Checkin service</th>\n",
              "      <th>Inflight service</th>\n",
              "      <th>Cleanliness</th>\n",
              "      <th>Departure Delay in Minutes</th>\n",
              "      <th>Arrival Delay in Minutes</th>\n",
              "      <th>satisfaction</th>\n",
              "    </tr>\n",
              "  </thead>\n",
              "  <tbody>\n",
              "  </tbody>\n",
              "</table>\n",
              "</div>"
            ],
            "text/plain": [
              "Empty DataFrame\n",
              "Columns: [Unnamed: 0, id, Gender, Customer Type, Age, Type of Travel, Class, Flight Distance, Inflight wifi service, Departure/Arrival time convenient, Ease of Online booking, Gate location, Food and drink, Online boarding, Seat comfort, Inflight entertainment, On-board service, Leg room service, Baggage handling, Checkin service, Inflight service, Cleanliness, Departure Delay in Minutes, Arrival Delay in Minutes, satisfaction]\n",
              "Index: []"
            ]
          },
          "metadata": {
            "tags": []
          },
          "execution_count": 4
        }
      ]
    },
    {
      "cell_type": "code",
      "metadata": {
        "id": "KUuR5nek2_YN",
        "colab": {
          "base_uri": "https://localhost:8080/",
          "height": 572
        },
        "outputId": "009ed61b-64f2-4723-b704-c279001dc78e"
      },
      "source": [
        "df.info()"
      ],
      "execution_count": null,
      "outputs": [
        {
          "output_type": "stream",
          "text": [
            "<class 'pandas.core.frame.DataFrame'>\n",
            "RangeIndex: 25976 entries, 0 to 25975\n",
            "Data columns (total 25 columns):\n",
            " #   Column                             Non-Null Count  Dtype  \n",
            "---  ------                             --------------  -----  \n",
            " 0   Unnamed: 0                         25976 non-null  int64  \n",
            " 1   id                                 25976 non-null  int64  \n",
            " 2   Gender                             25976 non-null  object \n",
            " 3   Customer Type                      25976 non-null  object \n",
            " 4   Age                                25976 non-null  int64  \n",
            " 5   Type of Travel                     25976 non-null  object \n",
            " 6   Class                              25976 non-null  object \n",
            " 7   Flight Distance                    25976 non-null  int64  \n",
            " 8   Inflight wifi service              25976 non-null  int64  \n",
            " 9   Departure/Arrival time convenient  25976 non-null  int64  \n",
            " 10  Ease of Online booking             25976 non-null  int64  \n",
            " 11  Gate location                      25976 non-null  int64  \n",
            " 12  Food and drink                     25976 non-null  int64  \n",
            " 13  Online boarding                    25976 non-null  int64  \n",
            " 14  Seat comfort                       25976 non-null  int64  \n",
            " 15  Inflight entertainment             25976 non-null  int64  \n",
            " 16  On-board service                   25976 non-null  int64  \n",
            " 17  Leg room service                   25976 non-null  int64  \n",
            " 18  Baggage handling                   25976 non-null  int64  \n",
            " 19  Checkin service                    25976 non-null  int64  \n",
            " 20  Inflight service                   25976 non-null  int64  \n",
            " 21  Cleanliness                        25976 non-null  int64  \n",
            " 22  Departure Delay in Minutes         25976 non-null  int64  \n",
            " 23  Arrival Delay in Minutes           25893 non-null  float64\n",
            " 24  satisfaction                       25976 non-null  object \n",
            "dtypes: float64(1), int64(19), object(5)\n",
            "memory usage: 5.0+ MB\n"
          ],
          "name": "stdout"
        }
      ]
    },
    {
      "cell_type": "code",
      "metadata": {
        "id": "q48CWOUK3EK0",
        "colab": {
          "base_uri": "https://localhost:8080/",
          "height": 35
        },
        "outputId": "aff421dd-c9ff-4f9b-d019-cbd74172458c"
      },
      "source": [
        "df.shape"
      ],
      "execution_count": null,
      "outputs": [
        {
          "output_type": "execute_result",
          "data": {
            "text/plain": [
              "(25976, 25)"
            ]
          },
          "metadata": {
            "tags": []
          },
          "execution_count": 6
        }
      ]
    },
    {
      "cell_type": "code",
      "metadata": {
        "id": "-ICfk0gw3GZt",
        "colab": {
          "base_uri": "https://localhost:8080/",
          "height": 662
        },
        "outputId": "b4b052f4-bb24-47d8-81f1-ddf0fbc4f63a"
      },
      "source": [
        "df.describe().transpose()"
      ],
      "execution_count": null,
      "outputs": [
        {
          "output_type": "execute_result",
          "data": {
            "text/html": [
              "<div>\n",
              "<style scoped>\n",
              "    .dataframe tbody tr th:only-of-type {\n",
              "        vertical-align: middle;\n",
              "    }\n",
              "\n",
              "    .dataframe tbody tr th {\n",
              "        vertical-align: top;\n",
              "    }\n",
              "\n",
              "    .dataframe thead th {\n",
              "        text-align: right;\n",
              "    }\n",
              "</style>\n",
              "<table border=\"1\" class=\"dataframe\">\n",
              "  <thead>\n",
              "    <tr style=\"text-align: right;\">\n",
              "      <th></th>\n",
              "      <th>count</th>\n",
              "      <th>mean</th>\n",
              "      <th>std</th>\n",
              "      <th>min</th>\n",
              "      <th>25%</th>\n",
              "      <th>50%</th>\n",
              "      <th>75%</th>\n",
              "      <th>max</th>\n",
              "    </tr>\n",
              "  </thead>\n",
              "  <tbody>\n",
              "    <tr>\n",
              "      <th>Unnamed: 0</th>\n",
              "      <td>25976.0</td>\n",
              "      <td>12987.500000</td>\n",
              "      <td>7498.769632</td>\n",
              "      <td>0.0</td>\n",
              "      <td>6493.75</td>\n",
              "      <td>12987.5</td>\n",
              "      <td>19481.25</td>\n",
              "      <td>25975.0</td>\n",
              "    </tr>\n",
              "    <tr>\n",
              "      <th>id</th>\n",
              "      <td>25976.0</td>\n",
              "      <td>65005.657992</td>\n",
              "      <td>37611.526647</td>\n",
              "      <td>17.0</td>\n",
              "      <td>32170.50</td>\n",
              "      <td>65319.5</td>\n",
              "      <td>97584.25</td>\n",
              "      <td>129877.0</td>\n",
              "    </tr>\n",
              "    <tr>\n",
              "      <th>Age</th>\n",
              "      <td>25976.0</td>\n",
              "      <td>39.620958</td>\n",
              "      <td>15.135685</td>\n",
              "      <td>7.0</td>\n",
              "      <td>27.00</td>\n",
              "      <td>40.0</td>\n",
              "      <td>51.00</td>\n",
              "      <td>85.0</td>\n",
              "    </tr>\n",
              "    <tr>\n",
              "      <th>Flight Distance</th>\n",
              "      <td>25976.0</td>\n",
              "      <td>1193.788459</td>\n",
              "      <td>998.683999</td>\n",
              "      <td>31.0</td>\n",
              "      <td>414.00</td>\n",
              "      <td>849.0</td>\n",
              "      <td>1744.00</td>\n",
              "      <td>4983.0</td>\n",
              "    </tr>\n",
              "    <tr>\n",
              "      <th>Inflight wifi service</th>\n",
              "      <td>25976.0</td>\n",
              "      <td>2.724746</td>\n",
              "      <td>1.335384</td>\n",
              "      <td>0.0</td>\n",
              "      <td>2.00</td>\n",
              "      <td>3.0</td>\n",
              "      <td>4.00</td>\n",
              "      <td>5.0</td>\n",
              "    </tr>\n",
              "    <tr>\n",
              "      <th>Departure/Arrival time convenient</th>\n",
              "      <td>25976.0</td>\n",
              "      <td>3.046812</td>\n",
              "      <td>1.533371</td>\n",
              "      <td>0.0</td>\n",
              "      <td>2.00</td>\n",
              "      <td>3.0</td>\n",
              "      <td>4.00</td>\n",
              "      <td>5.0</td>\n",
              "    </tr>\n",
              "    <tr>\n",
              "      <th>Ease of Online booking</th>\n",
              "      <td>25976.0</td>\n",
              "      <td>2.756775</td>\n",
              "      <td>1.412951</td>\n",
              "      <td>0.0</td>\n",
              "      <td>2.00</td>\n",
              "      <td>3.0</td>\n",
              "      <td>4.00</td>\n",
              "      <td>5.0</td>\n",
              "    </tr>\n",
              "    <tr>\n",
              "      <th>Gate location</th>\n",
              "      <td>25976.0</td>\n",
              "      <td>2.977094</td>\n",
              "      <td>1.282133</td>\n",
              "      <td>1.0</td>\n",
              "      <td>2.00</td>\n",
              "      <td>3.0</td>\n",
              "      <td>4.00</td>\n",
              "      <td>5.0</td>\n",
              "    </tr>\n",
              "    <tr>\n",
              "      <th>Food and drink</th>\n",
              "      <td>25976.0</td>\n",
              "      <td>3.215353</td>\n",
              "      <td>1.331506</td>\n",
              "      <td>0.0</td>\n",
              "      <td>2.00</td>\n",
              "      <td>3.0</td>\n",
              "      <td>4.00</td>\n",
              "      <td>5.0</td>\n",
              "    </tr>\n",
              "    <tr>\n",
              "      <th>Online boarding</th>\n",
              "      <td>25976.0</td>\n",
              "      <td>3.261665</td>\n",
              "      <td>1.355536</td>\n",
              "      <td>0.0</td>\n",
              "      <td>2.00</td>\n",
              "      <td>4.0</td>\n",
              "      <td>4.00</td>\n",
              "      <td>5.0</td>\n",
              "    </tr>\n",
              "    <tr>\n",
              "      <th>Seat comfort</th>\n",
              "      <td>25976.0</td>\n",
              "      <td>3.449222</td>\n",
              "      <td>1.320090</td>\n",
              "      <td>1.0</td>\n",
              "      <td>2.00</td>\n",
              "      <td>4.0</td>\n",
              "      <td>5.00</td>\n",
              "      <td>5.0</td>\n",
              "    </tr>\n",
              "    <tr>\n",
              "      <th>Inflight entertainment</th>\n",
              "      <td>25976.0</td>\n",
              "      <td>3.357753</td>\n",
              "      <td>1.338299</td>\n",
              "      <td>0.0</td>\n",
              "      <td>2.00</td>\n",
              "      <td>4.0</td>\n",
              "      <td>4.00</td>\n",
              "      <td>5.0</td>\n",
              "    </tr>\n",
              "    <tr>\n",
              "      <th>On-board service</th>\n",
              "      <td>25976.0</td>\n",
              "      <td>3.385664</td>\n",
              "      <td>1.282088</td>\n",
              "      <td>0.0</td>\n",
              "      <td>2.00</td>\n",
              "      <td>4.0</td>\n",
              "      <td>4.00</td>\n",
              "      <td>5.0</td>\n",
              "    </tr>\n",
              "    <tr>\n",
              "      <th>Leg room service</th>\n",
              "      <td>25976.0</td>\n",
              "      <td>3.350169</td>\n",
              "      <td>1.318862</td>\n",
              "      <td>0.0</td>\n",
              "      <td>2.00</td>\n",
              "      <td>4.0</td>\n",
              "      <td>4.00</td>\n",
              "      <td>5.0</td>\n",
              "    </tr>\n",
              "    <tr>\n",
              "      <th>Baggage handling</th>\n",
              "      <td>25976.0</td>\n",
              "      <td>3.633238</td>\n",
              "      <td>1.176525</td>\n",
              "      <td>1.0</td>\n",
              "      <td>3.00</td>\n",
              "      <td>4.0</td>\n",
              "      <td>5.00</td>\n",
              "      <td>5.0</td>\n",
              "    </tr>\n",
              "    <tr>\n",
              "      <th>Checkin service</th>\n",
              "      <td>25976.0</td>\n",
              "      <td>3.314175</td>\n",
              "      <td>1.269332</td>\n",
              "      <td>1.0</td>\n",
              "      <td>3.00</td>\n",
              "      <td>3.0</td>\n",
              "      <td>4.00</td>\n",
              "      <td>5.0</td>\n",
              "    </tr>\n",
              "    <tr>\n",
              "      <th>Inflight service</th>\n",
              "      <td>25976.0</td>\n",
              "      <td>3.649253</td>\n",
              "      <td>1.180681</td>\n",
              "      <td>0.0</td>\n",
              "      <td>3.00</td>\n",
              "      <td>4.0</td>\n",
              "      <td>5.00</td>\n",
              "      <td>5.0</td>\n",
              "    </tr>\n",
              "    <tr>\n",
              "      <th>Cleanliness</th>\n",
              "      <td>25976.0</td>\n",
              "      <td>3.286226</td>\n",
              "      <td>1.319330</td>\n",
              "      <td>0.0</td>\n",
              "      <td>2.00</td>\n",
              "      <td>3.0</td>\n",
              "      <td>4.00</td>\n",
              "      <td>5.0</td>\n",
              "    </tr>\n",
              "    <tr>\n",
              "      <th>Departure Delay in Minutes</th>\n",
              "      <td>25976.0</td>\n",
              "      <td>14.306090</td>\n",
              "      <td>37.423160</td>\n",
              "      <td>0.0</td>\n",
              "      <td>0.00</td>\n",
              "      <td>0.0</td>\n",
              "      <td>12.00</td>\n",
              "      <td>1128.0</td>\n",
              "    </tr>\n",
              "    <tr>\n",
              "      <th>Arrival Delay in Minutes</th>\n",
              "      <td>25893.0</td>\n",
              "      <td>14.740857</td>\n",
              "      <td>37.517539</td>\n",
              "      <td>0.0</td>\n",
              "      <td>0.00</td>\n",
              "      <td>0.0</td>\n",
              "      <td>13.00</td>\n",
              "      <td>1115.0</td>\n",
              "    </tr>\n",
              "  </tbody>\n",
              "</table>\n",
              "</div>"
            ],
            "text/plain": [
              "                                     count          mean  ...       75%       max\n",
              "Unnamed: 0                         25976.0  12987.500000  ...  19481.25   25975.0\n",
              "id                                 25976.0  65005.657992  ...  97584.25  129877.0\n",
              "Age                                25976.0     39.620958  ...     51.00      85.0\n",
              "Flight Distance                    25976.0   1193.788459  ...   1744.00    4983.0\n",
              "Inflight wifi service              25976.0      2.724746  ...      4.00       5.0\n",
              "Departure/Arrival time convenient  25976.0      3.046812  ...      4.00       5.0\n",
              "Ease of Online booking             25976.0      2.756775  ...      4.00       5.0\n",
              "Gate location                      25976.0      2.977094  ...      4.00       5.0\n",
              "Food and drink                     25976.0      3.215353  ...      4.00       5.0\n",
              "Online boarding                    25976.0      3.261665  ...      4.00       5.0\n",
              "Seat comfort                       25976.0      3.449222  ...      5.00       5.0\n",
              "Inflight entertainment             25976.0      3.357753  ...      4.00       5.0\n",
              "On-board service                   25976.0      3.385664  ...      4.00       5.0\n",
              "Leg room service                   25976.0      3.350169  ...      4.00       5.0\n",
              "Baggage handling                   25976.0      3.633238  ...      5.00       5.0\n",
              "Checkin service                    25976.0      3.314175  ...      4.00       5.0\n",
              "Inflight service                   25976.0      3.649253  ...      5.00       5.0\n",
              "Cleanliness                        25976.0      3.286226  ...      4.00       5.0\n",
              "Departure Delay in Minutes         25976.0     14.306090  ...     12.00    1128.0\n",
              "Arrival Delay in Minutes           25893.0     14.740857  ...     13.00    1115.0\n",
              "\n",
              "[20 rows x 8 columns]"
            ]
          },
          "metadata": {
            "tags": []
          },
          "execution_count": 7
        }
      ]
    },
    {
      "cell_type": "code",
      "metadata": {
        "id": "BxtFSx_e3USP"
      },
      "source": [
        "import matplotlib\n",
        "import matplotlib.pyplot as plt\n",
        "import seaborn as sns"
      ],
      "execution_count": null,
      "outputs": []
    },
    {
      "cell_type": "code",
      "metadata": {
        "id": "kIydJyt63aa6",
        "colab": {
          "base_uri": "https://localhost:8080/",
          "height": 297
        },
        "outputId": "1da76601-76ce-4942-8fdc-bfdf9ab99b09"
      },
      "source": [
        "sns.countplot(x='satisfaction',data=df)"
      ],
      "execution_count": null,
      "outputs": [
        {
          "output_type": "execute_result",
          "data": {
            "text/plain": [
              "<matplotlib.axes._subplots.AxesSubplot at 0x7faae641b668>"
            ]
          },
          "metadata": {
            "tags": []
          },
          "execution_count": 9
        },
        {
          "output_type": "display_data",
          "data": {
            "image/png": "[encoded data removed]",
            "text/plain": [
              "<Figure size 432x288 with 1 Axes>"
            ]
          },
          "metadata": {
            "tags": [],
            "needs_background": "light"
          }
        }
      ]
    },
    {
      "cell_type": "code",
      "metadata": {
        "id": "at7TKCmZ3c2o",
        "colab": {
          "base_uri": "https://localhost:8080/",
          "height": 386
        },
        "outputId": "dae84e21-c973-4c62-87ba-a596053a8e74"
      },
      "source": [
        "plt.figure(figsize=(12,4))\n",
        "plt.subplot(1,2,1)\n",
        "sns.countplot('satisfaction',data=df,hue='Class')\n",
        "plt.subplot(1,2,2)\n",
        "sns.countplot('satisfaction',data=df,hue='Type of Travel')"
      ],
      "execution_count": null,
      "outputs": [
        {
          "output_type": "stream",
          "text": [
            "/usr/local/lib/python3.6/dist-packages/seaborn/_decorators.py:43: FutureWarning: Pass the following variable as a keyword arg: x. From version 0.12, the only valid positional argument will be `data`, and passing other arguments without an explicit keyword will result in an error or misinterpretation.\n",
            "  FutureWarning\n",
            "/usr/local/lib/python3.6/dist-packages/seaborn/_decorators.py:43: FutureWarning: Pass the following variable as a keyword arg: x. From version 0.12, the only valid positional argument will be `data`, and passing other arguments without an explicit keyword will result in an error or misinterpretation.\n",
            "  FutureWarning\n"
          ],
          "name": "stderr"
        },
        {
          "output_type": "execute_result",
          "data": {
            "text/plain": [
              "<matplotlib.axes._subplots.AxesSubplot at 0x7faae5750ef0>"
            ]
          },
          "metadata": {
            "tags": []
          },
          "execution_count": 10
        },
        {
          "output_type": "display_data",
          "data": {
            "image/png": "[encoded data removed]",
            "text/plain": [
              "<Figure size 864x288 with 2 Axes>"
            ]
          },
          "metadata": {
            "tags": [],
            "needs_background": "light"
          }
        }
      ]
    },
    {
      "cell_type": "code",
      "metadata": {
        "id": "niKWrcVA3l3I",
        "colab": {
          "base_uri": "https://localhost:8080/",
          "height": 386
        },
        "outputId": "a24ebc93-5af4-4036-bf49-96ef78273122"
      },
      "source": [
        "plt.figure(figsize=(12,4))\n",
        "plt.subplot(1,2,1)\n",
        "sns.countplot('satisfaction',data=df,hue='Gender')\n",
        "plt.subplot(1,2,2)\n",
        "sns.countplot('satisfaction',data=df,hue='Customer Type')"
      ],
      "execution_count": null,
      "outputs": [
        {
          "output_type": "stream",
          "text": [
            "/usr/local/lib/python3.6/dist-packages/seaborn/_decorators.py:43: FutureWarning: Pass the following variable as a keyword arg: x. From version 0.12, the only valid positional argument will be `data`, and passing other arguments without an explicit keyword will result in an error or misinterpretation.\n",
            "  FutureWarning\n",
            "/usr/local/lib/python3.6/dist-packages/seaborn/_decorators.py:43: FutureWarning: Pass the following variable as a keyword arg: x. From version 0.12, the only valid positional argument will be `data`, and passing other arguments without an explicit keyword will result in an error or misinterpretation.\n",
            "  FutureWarning\n"
          ],
          "name": "stderr"
        },
        {
          "output_type": "execute_result",
          "data": {
            "text/plain": [
              "<matplotlib.axes._subplots.AxesSubplot at 0x7faae562f9e8>"
            ]
          },
          "metadata": {
            "tags": []
          },
          "execution_count": 11
        },
        {
          "output_type": "display_data",
          "data": {
            "image/png": "[encoded data removed]",
            "text/plain": [
              "<Figure size 864x288 with 2 Axes>"
            ]
          },
          "metadata": {
            "tags": [],
            "needs_background": "light"
          }
        }
      ]
    },
    {
      "cell_type": "code",
      "metadata": {
        "id": "l6cjVozg3z8V",
        "colab": {
          "base_uri": "https://localhost:8080/",
          "height": 1000
        },
        "outputId": "7093666d-5501-4771-ad72-877f111f3a77"
      },
      "source": [
        "plt.figure(figsize=(20,15))\n",
        "sns.heatmap(df.corr(),annot=True,cmap='Blues')\n",
        "plt.tight_layout"
      ],
      "execution_count": null,
      "outputs": [
        {
          "output_type": "execute_result",
          "data": {
            "text/plain": [
              "<function matplotlib.pyplot.tight_layout>"
            ]
          },
          "metadata": {
            "tags": []
          },
          "execution_count": 12
        },
        {
          "output_type": "display_data",
          "data": {
            "image/png": "[encoded data removed]",
            "text/plain": [
              "<Figure size 1440x1080 with 2 Axes>"
            ]
          },
          "metadata": {
            "tags": [],
            "needs_background": "light"
          }
        }
      ]
    },
    {
      "cell_type": "code",
      "metadata": {
        "id": "9BAQFdPl38CW",
        "colab": {
          "base_uri": "https://localhost:8080/",
          "height": 401
        },
        "outputId": "7c97d4ee-e39d-4f5c-deff-dce858faafcb"
      },
      "source": [
        "import seaborn as sns\n",
        "sns.lmplot(x='Departure Delay in Minutes',y='Arrival Delay in Minutes',data=df)"
      ],
      "execution_count": null,
      "outputs": [
        {
          "output_type": "execute_result",
          "data": {
            "text/plain": [
              "<seaborn.axisgrid.FacetGrid at 0x7faae563d518>"
            ]
          },
          "metadata": {
            "tags": []
          },
          "execution_count": 13
        },
        {
          "output_type": "display_data",
          "data": {
            "image/png": "[encoded data removed]",
            "text/plain": [
              "<Figure size 360x360 with 1 Axes>"
            ]
          },
          "metadata": {
            "tags": [],
            "needs_background": "light"
          }
        }
      ]
    },
    {
      "cell_type": "code",
      "metadata": {
        "id": "QMRXS4Fz4Fip",
        "colab": {
          "base_uri": "https://localhost:8080/",
          "height": 468
        },
        "outputId": "7c6f0396-8af8-497b-a2f0-3163595a526b"
      },
      "source": [
        "df.isnull().sum()"
      ],
      "execution_count": null,
      "outputs": [
        {
          "output_type": "execute_result",
          "data": {
            "text/plain": [
              "Unnamed: 0                            0\n",
              "id                                    0\n",
              "Gender                                0\n",
              "Customer Type                         0\n",
              "Age                                   0\n",
              "Type of Travel                        0\n",
              "Class                                 0\n",
              "Flight Distance                       0\n",
              "Inflight wifi service                 0\n",
              "Departure/Arrival time convenient     0\n",
              "Ease of Online booking                0\n",
              "Gate location                         0\n",
              "Food and drink                        0\n",
              "Online boarding                       0\n",
              "Seat comfort                          0\n",
              "Inflight entertainment                0\n",
              "On-board service                      0\n",
              "Leg room service                      0\n",
              "Baggage handling                      0\n",
              "Checkin service                       0\n",
              "Inflight service                      0\n",
              "Cleanliness                           0\n",
              "Departure Delay in Minutes            0\n",
              "Arrival Delay in Minutes             83\n",
              "satisfaction                          0\n",
              "dtype: int64"
            ]
          },
          "metadata": {
            "tags": []
          },
          "execution_count": 14
        }
      ]
    },
    {
      "cell_type": "code",
      "metadata": {
        "id": "MeTiFQXc4NUv",
        "colab": {
          "base_uri": "https://localhost:8080/",
          "height": 468
        },
        "outputId": "a96fef51-0cbe-449e-f11a-a865d9aa22a7"
      },
      "source": [
        "df = df.dropna(axis=0)\n",
        "df.isnull().sum()"
      ],
      "execution_count": null,
      "outputs": [
        {
          "output_type": "execute_result",
          "data": {
            "text/plain": [
              "Unnamed: 0                           0\n",
              "id                                   0\n",
              "Gender                               0\n",
              "Customer Type                        0\n",
              "Age                                  0\n",
              "Type of Travel                       0\n",
              "Class                                0\n",
              "Flight Distance                      0\n",
              "Inflight wifi service                0\n",
              "Departure/Arrival time convenient    0\n",
              "Ease of Online booking               0\n",
              "Gate location                        0\n",
              "Food and drink                       0\n",
              "Online boarding                      0\n",
              "Seat comfort                         0\n",
              "Inflight entertainment               0\n",
              "On-board service                     0\n",
              "Leg room service                     0\n",
              "Baggage handling                     0\n",
              "Checkin service                      0\n",
              "Inflight service                     0\n",
              "Cleanliness                          0\n",
              "Departure Delay in Minutes           0\n",
              "Arrival Delay in Minutes             0\n",
              "satisfaction                         0\n",
              "dtype: int64"
            ]
          },
          "metadata": {
            "tags": []
          },
          "execution_count": 15
        }
      ]
    },
    {
      "cell_type": "code",
      "metadata": {
        "id": "TczwkxY441ct",
        "colab": {
          "base_uri": "https://localhost:8080/",
          "height": 361
        },
        "outputId": "80bcc7d2-3aad-4aca-ac71-3b76947d1b87"
      },
      "source": [
        "df = df.drop(['Unnamed: 0','id'],axis=1)\n",
        "df.head()"
      ],
      "execution_count": null,
      "outputs": [
        {
          "output_type": "execute_result",
          "data": {
            "text/html": [
              "<div>\n",
              "<style scoped>\n",
              "    .dataframe tbody tr th:only-of-type {\n",
              "        vertical-align: middle;\n",
              "    }\n",
              "\n",
              "    .dataframe tbody tr th {\n",
              "        vertical-align: top;\n",
              "    }\n",
              "\n",
              "    .dataframe thead th {\n",
              "        text-align: right;\n",
              "    }\n",
              "</style>\n",
              "<table border=\"1\" class=\"dataframe\">\n",
              "  <thead>\n",
              "    <tr style=\"text-align: right;\">\n",
              "      <th></th>\n",
              "      <th>Gender</th>\n",
              "      <th>Customer Type</th>\n",
              "      <th>Age</th>\n",
              "      <th>Type of Travel</th>\n",
              "      <th>Class</th>\n",
              "      <th>Flight Distance</th>\n",
              "      <th>Inflight wifi service</th>\n",
              "      <th>Departure/Arrival time convenient</th>\n",
              "      <th>Ease of Online booking</th>\n",
              "      <th>Gate location</th>\n",
              "      <th>Food and drink</th>\n",
              "      <th>Online boarding</th>\n",
              "      <th>Seat comfort</th>\n",
              "      <th>Inflight entertainment</th>\n",
              "      <th>On-board service</th>\n",
              "      <th>Leg room service</th>\n",
              "      <th>Baggage handling</th>\n",
              "      <th>Checkin service</th>\n",
              "      <th>Inflight service</th>\n",
              "      <th>Cleanliness</th>\n",
              "      <th>Departure Delay in Minutes</th>\n",
              "      <th>Arrival Delay in Minutes</th>\n",
              "      <th>satisfaction</th>\n",
              "    </tr>\n",
              "  </thead>\n",
              "  <tbody>\n",
              "    <tr>\n",
              "      <th>0</th>\n",
              "      <td>Female</td>\n",
              "      <td>Loyal Customer</td>\n",
              "      <td>52</td>\n",
              "      <td>Business travel</td>\n",
              "      <td>Eco</td>\n",
              "      <td>160</td>\n",
              "      <td>5</td>\n",
              "      <td>4</td>\n",
              "      <td>3</td>\n",
              "      <td>4</td>\n",
              "      <td>3</td>\n",
              "      <td>4</td>\n",
              "      <td>3</td>\n",
              "      <td>5</td>\n",
              "      <td>5</td>\n",
              "      <td>5</td>\n",
              "      <td>5</td>\n",
              "      <td>2</td>\n",
              "      <td>5</td>\n",
              "      <td>5</td>\n",
              "      <td>50</td>\n",
              "      <td>44.0</td>\n",
              "      <td>satisfied</td>\n",
              "    </tr>\n",
              "    <tr>\n",
              "      <th>1</th>\n",
              "      <td>Female</td>\n",
              "      <td>Loyal Customer</td>\n",
              "      <td>36</td>\n",
              "      <td>Business travel</td>\n",
              "      <td>Business</td>\n",
              "      <td>2863</td>\n",
              "      <td>1</td>\n",
              "      <td>1</td>\n",
              "      <td>3</td>\n",
              "      <td>1</td>\n",
              "      <td>5</td>\n",
              "      <td>4</td>\n",
              "      <td>5</td>\n",
              "      <td>4</td>\n",
              "      <td>4</td>\n",
              "      <td>4</td>\n",
              "      <td>4</td>\n",
              "      <td>3</td>\n",
              "      <td>4</td>\n",
              "      <td>5</td>\n",
              "      <td>0</td>\n",
              "      <td>0.0</td>\n",
              "      <td>satisfied</td>\n",
              "    </tr>\n",
              "    <tr>\n",
              "      <th>2</th>\n",
              "      <td>Male</td>\n",
              "      <td>disloyal Customer</td>\n",
              "      <td>20</td>\n",
              "      <td>Business travel</td>\n",
              "      <td>Eco</td>\n",
              "      <td>192</td>\n",
              "      <td>2</td>\n",
              "      <td>0</td>\n",
              "      <td>2</td>\n",
              "      <td>4</td>\n",
              "      <td>2</td>\n",
              "      <td>2</td>\n",
              "      <td>2</td>\n",
              "      <td>2</td>\n",
              "      <td>4</td>\n",
              "      <td>1</td>\n",
              "      <td>3</td>\n",
              "      <td>2</td>\n",
              "      <td>2</td>\n",
              "      <td>2</td>\n",
              "      <td>0</td>\n",
              "      <td>0.0</td>\n",
              "      <td>neutral or dissatisfied</td>\n",
              "    </tr>\n",
              "    <tr>\n",
              "      <th>3</th>\n",
              "      <td>Male</td>\n",
              "      <td>Loyal Customer</td>\n",
              "      <td>44</td>\n",
              "      <td>Business travel</td>\n",
              "      <td>Business</td>\n",
              "      <td>3377</td>\n",
              "      <td>0</td>\n",
              "      <td>0</td>\n",
              "      <td>0</td>\n",
              "      <td>2</td>\n",
              "      <td>3</td>\n",
              "      <td>4</td>\n",
              "      <td>4</td>\n",
              "      <td>1</td>\n",
              "      <td>1</td>\n",
              "      <td>1</td>\n",
              "      <td>1</td>\n",
              "      <td>3</td>\n",
              "      <td>1</td>\n",
              "      <td>4</td>\n",
              "      <td>0</td>\n",
              "      <td>6.0</td>\n",
              "      <td>satisfied</td>\n",
              "    </tr>\n",
              "    <tr>\n",
              "      <th>4</th>\n",
              "      <td>Female</td>\n",
              "      <td>Loyal Customer</td>\n",
              "      <td>49</td>\n",
              "      <td>Business travel</td>\n",
              "      <td>Eco</td>\n",
              "      <td>1182</td>\n",
              "      <td>2</td>\n",
              "      <td>3</td>\n",
              "      <td>4</td>\n",
              "      <td>3</td>\n",
              "      <td>4</td>\n",
              "      <td>1</td>\n",
              "      <td>2</td>\n",
              "      <td>2</td>\n",
              "      <td>2</td>\n",
              "      <td>2</td>\n",
              "      <td>2</td>\n",
              "      <td>4</td>\n",
              "      <td>2</td>\n",
              "      <td>4</td>\n",
              "      <td>0</td>\n",
              "      <td>20.0</td>\n",
              "      <td>satisfied</td>\n",
              "    </tr>\n",
              "  </tbody>\n",
              "</table>\n",
              "</div>"
            ],
            "text/plain": [
              "   Gender      Customer Type  ...  Arrival Delay in Minutes             satisfaction\n",
              "0  Female     Loyal Customer  ...                      44.0                satisfied\n",
              "1  Female     Loyal Customer  ...                       0.0                satisfied\n",
              "2    Male  disloyal Customer  ...                       0.0  neutral or dissatisfied\n",
              "3    Male     Loyal Customer  ...                       6.0                satisfied\n",
              "4  Female     Loyal Customer  ...                      20.0                satisfied\n",
              "\n",
              "[5 rows x 23 columns]"
            ]
          },
          "metadata": {
            "tags": []
          },
          "execution_count": 16
        }
      ]
    },
    {
      "cell_type": "code",
      "metadata": {
        "id": "Tok4tY2d5woc"
      },
      "source": [
        "df['satisfaction'].replace({'satisfied': 1, 'neutral or dissatisfied': 0}, inplace=True)\n",
        "df['Gender'].replace({'Male': 0, 'Female': 1}, inplace=True)\n",
        "df['Type of Travel'].replace({'Personal Travel': 0, 'Business travel': 1}, inplace=True)\n",
        "df['Customer Type'].replace({'Loyal Customer': 0, 'disloyal Customer': 1}, inplace=True)\n",
        "df['Class'].replace({'Eco Plus': 0, 'Business': 1, 'Eco': 2}, inplace=True)"
      ],
      "execution_count": null,
      "outputs": []
    },
    {
      "cell_type": "code",
      "metadata": {
        "id": "1V6HHUvt6qjA"
      },
      "source": [
        "from sklearn.preprocessing import MinMaxScaler\n",
        "column_name = list(df.columns) \n",
        "scaler = MinMaxScaler()\n",
        "data_scaled = scaler.fit_transform(df)"
      ],
      "execution_count": null,
      "outputs": []
    },
    {
      "cell_type": "code",
      "metadata": {
        "id": "KdXjJrOc7pzz",
        "colab": {
          "base_uri": "https://localhost:8080/",
          "height": 52
        },
        "outputId": "c0599be6-98da-434b-8688-2fa459f590be"
      },
      "source": [
        "print('Min : ', data_scaled.min(axis=0))\n",
        "print('Max : ', data_scaled.max(axis=0))"
      ],
      "execution_count": null,
      "outputs": [
        {
          "output_type": "stream",
          "text": [
            "Min :  [0. 0. 0. 0. 0. 0. 0. 0. 0. 0. 0. 0. 0. 0. 0. 0. 0. 0. 0. 0. 0. 0. 0.]\n",
            "Max :  [1. 1. 1. 1. 1. 1. 1. 1. 1. 1. 1. 1. 1. 1. 1. 1. 1. 1. 1. 1. 1. 1. 1.]\n"
          ],
          "name": "stdout"
        }
      ]
    },
    {
      "cell_type": "code",
      "metadata": {
        "id": "BdQbdovT7rIF",
        "colab": {
          "base_uri": "https://localhost:8080/",
          "height": 274
        },
        "outputId": "4e2daf3b-8bcd-4709-87cb-4d5092d12a43"
      },
      "source": [
        "df = pd.DataFrame(data=data_scaled, columns= column_name)\n",
        "df.head()"
      ],
      "execution_count": null,
      "outputs": [
        {
          "output_type": "execute_result",
          "data": {
            "text/html": [
              "<div>\n",
              "<style scoped>\n",
              "    .dataframe tbody tr th:only-of-type {\n",
              "        vertical-align: middle;\n",
              "    }\n",
              "\n",
              "    .dataframe tbody tr th {\n",
              "        vertical-align: top;\n",
              "    }\n",
              "\n",
              "    .dataframe thead th {\n",
              "        text-align: right;\n",
              "    }\n",
              "</style>\n",
              "<table border=\"1\" class=\"dataframe\">\n",
              "  <thead>\n",
              "    <tr style=\"text-align: right;\">\n",
              "      <th></th>\n",
              "      <th>Gender</th>\n",
              "      <th>Customer Type</th>\n",
              "      <th>Age</th>\n",
              "      <th>Type of Travel</th>\n",
              "      <th>Class</th>\n",
              "      <th>Flight Distance</th>\n",
              "      <th>Inflight wifi service</th>\n",
              "      <th>Departure/Arrival time convenient</th>\n",
              "      <th>Ease of Online booking</th>\n",
              "      <th>Gate location</th>\n",
              "      <th>Food and drink</th>\n",
              "      <th>Online boarding</th>\n",
              "      <th>Seat comfort</th>\n",
              "      <th>Inflight entertainment</th>\n",
              "      <th>On-board service</th>\n",
              "      <th>Leg room service</th>\n",
              "      <th>Baggage handling</th>\n",
              "      <th>Checkin service</th>\n",
              "      <th>Inflight service</th>\n",
              "      <th>Cleanliness</th>\n",
              "      <th>Departure Delay in Minutes</th>\n",
              "      <th>Arrival Delay in Minutes</th>\n",
              "      <th>satisfaction</th>\n",
              "    </tr>\n",
              "  </thead>\n",
              "  <tbody>\n",
              "    <tr>\n",
              "      <th>0</th>\n",
              "      <td>1.0</td>\n",
              "      <td>0.0</td>\n",
              "      <td>0.576923</td>\n",
              "      <td>1.0</td>\n",
              "      <td>1.0</td>\n",
              "      <td>0.026050</td>\n",
              "      <td>1.0</td>\n",
              "      <td>0.8</td>\n",
              "      <td>0.6</td>\n",
              "      <td>0.75</td>\n",
              "      <td>0.6</td>\n",
              "      <td>0.8</td>\n",
              "      <td>0.50</td>\n",
              "      <td>1.0</td>\n",
              "      <td>1.0</td>\n",
              "      <td>1.0</td>\n",
              "      <td>1.00</td>\n",
              "      <td>0.25</td>\n",
              "      <td>1.0</td>\n",
              "      <td>1.0</td>\n",
              "      <td>0.044326</td>\n",
              "      <td>0.039462</td>\n",
              "      <td>1.0</td>\n",
              "    </tr>\n",
              "    <tr>\n",
              "      <th>1</th>\n",
              "      <td>1.0</td>\n",
              "      <td>0.0</td>\n",
              "      <td>0.371795</td>\n",
              "      <td>1.0</td>\n",
              "      <td>0.5</td>\n",
              "      <td>0.571890</td>\n",
              "      <td>0.2</td>\n",
              "      <td>0.2</td>\n",
              "      <td>0.6</td>\n",
              "      <td>0.00</td>\n",
              "      <td>1.0</td>\n",
              "      <td>0.8</td>\n",
              "      <td>1.00</td>\n",
              "      <td>0.8</td>\n",
              "      <td>0.8</td>\n",
              "      <td>0.8</td>\n",
              "      <td>0.75</td>\n",
              "      <td>0.50</td>\n",
              "      <td>0.8</td>\n",
              "      <td>1.0</td>\n",
              "      <td>0.000000</td>\n",
              "      <td>0.000000</td>\n",
              "      <td>1.0</td>\n",
              "    </tr>\n",
              "    <tr>\n",
              "      <th>2</th>\n",
              "      <td>0.0</td>\n",
              "      <td>1.0</td>\n",
              "      <td>0.166667</td>\n",
              "      <td>1.0</td>\n",
              "      <td>1.0</td>\n",
              "      <td>0.032512</td>\n",
              "      <td>0.4</td>\n",
              "      <td>0.0</td>\n",
              "      <td>0.4</td>\n",
              "      <td>0.75</td>\n",
              "      <td>0.4</td>\n",
              "      <td>0.4</td>\n",
              "      <td>0.25</td>\n",
              "      <td>0.4</td>\n",
              "      <td>0.8</td>\n",
              "      <td>0.2</td>\n",
              "      <td>0.50</td>\n",
              "      <td>0.25</td>\n",
              "      <td>0.4</td>\n",
              "      <td>0.4</td>\n",
              "      <td>0.000000</td>\n",
              "      <td>0.000000</td>\n",
              "      <td>0.0</td>\n",
              "    </tr>\n",
              "    <tr>\n",
              "      <th>3</th>\n",
              "      <td>0.0</td>\n",
              "      <td>0.0</td>\n",
              "      <td>0.474359</td>\n",
              "      <td>1.0</td>\n",
              "      <td>0.5</td>\n",
              "      <td>0.675687</td>\n",
              "      <td>0.0</td>\n",
              "      <td>0.0</td>\n",
              "      <td>0.0</td>\n",
              "      <td>0.25</td>\n",
              "      <td>0.6</td>\n",
              "      <td>0.8</td>\n",
              "      <td>0.75</td>\n",
              "      <td>0.2</td>\n",
              "      <td>0.2</td>\n",
              "      <td>0.2</td>\n",
              "      <td>0.00</td>\n",
              "      <td>0.50</td>\n",
              "      <td>0.2</td>\n",
              "      <td>0.8</td>\n",
              "      <td>0.000000</td>\n",
              "      <td>0.005381</td>\n",
              "      <td>1.0</td>\n",
              "    </tr>\n",
              "    <tr>\n",
              "      <th>4</th>\n",
              "      <td>1.0</td>\n",
              "      <td>0.0</td>\n",
              "      <td>0.538462</td>\n",
              "      <td>1.0</td>\n",
              "      <td>1.0</td>\n",
              "      <td>0.232431</td>\n",
              "      <td>0.4</td>\n",
              "      <td>0.6</td>\n",
              "      <td>0.8</td>\n",
              "      <td>0.50</td>\n",
              "      <td>0.8</td>\n",
              "      <td>0.2</td>\n",
              "      <td>0.25</td>\n",
              "      <td>0.4</td>\n",
              "      <td>0.4</td>\n",
              "      <td>0.4</td>\n",
              "      <td>0.25</td>\n",
              "      <td>0.75</td>\n",
              "      <td>0.4</td>\n",
              "      <td>0.8</td>\n",
              "      <td>0.000000</td>\n",
              "      <td>0.017937</td>\n",
              "      <td>1.0</td>\n",
              "    </tr>\n",
              "  </tbody>\n",
              "</table>\n",
              "</div>"
            ],
            "text/plain": [
              "   Gender  Customer Type  ...  Arrival Delay in Minutes  satisfaction\n",
              "0     1.0            0.0  ...                  0.039462           1.0\n",
              "1     1.0            0.0  ...                  0.000000           1.0\n",
              "2     0.0            1.0  ...                  0.000000           0.0\n",
              "3     0.0            0.0  ...                  0.005381           1.0\n",
              "4     1.0            0.0  ...                  0.017937           1.0\n",
              "\n",
              "[5 rows x 23 columns]"
            ]
          },
          "metadata": {
            "tags": []
          },
          "execution_count": 20
        }
      ]
    },
    {
      "cell_type": "code",
      "metadata": {
        "id": "zDsncMuKERJD",
        "colab": {
          "base_uri": "https://localhost:8080/",
          "height": 433
        },
        "outputId": "ae3929a0-fc08-40e4-a9d4-ef8dcf32f25e"
      },
      "source": [
        "Q1 = df.quantile(0.25)\n",
        "Q3 = df.quantile(0.75)\n",
        "IQR = Q3 - Q1\n",
        "print(IQR)"
      ],
      "execution_count": null,
      "outputs": [
        {
          "output_type": "stream",
          "text": [
            "Gender                               1.000000\n",
            "Customer Type                        0.000000\n",
            "Age                                  0.307692\n",
            "Type of Travel                       1.000000\n",
            "Class                                0.500000\n",
            "Flight Distance                      0.268578\n",
            "Inflight wifi service                0.400000\n",
            "Departure/Arrival time convenient    0.400000\n",
            "Ease of Online booking               0.400000\n",
            "Gate location                        0.500000\n",
            "Food and drink                       0.400000\n",
            "Online boarding                      0.400000\n",
            "Seat comfort                         0.750000\n",
            "Inflight entertainment               0.400000\n",
            "On-board service                     0.400000\n",
            "Leg room service                     0.400000\n",
            "Baggage handling                     0.500000\n",
            "Checkin service                      0.250000\n",
            "Inflight service                     0.400000\n",
            "Cleanliness                          0.400000\n",
            "Departure Delay in Minutes           0.010638\n",
            "Arrival Delay in Minutes             0.011659\n",
            "satisfaction                         1.000000\n",
            "dtype: float64\n"
          ],
          "name": "stdout"
        }
      ]
    },
    {
      "cell_type": "code",
      "metadata": {
        "id": "LRDKtWekEXIy",
        "colab": {
          "base_uri": "https://localhost:8080/",
          "height": 433
        },
        "outputId": "5644fb23-040f-4deb-bcad-99673cdf1418"
      },
      "source": [
        "((df < (Q1 - 1.5 * IQR)) | (df > (Q3 + 1.5 * IQR))).sum()"
      ],
      "execution_count": null,
      "outputs": [
        {
          "output_type": "execute_result",
          "data": {
            "text/plain": [
              "Gender                                  0\n",
              "Customer Type                        4782\n",
              "Age                                     0\n",
              "Type of Travel                          0\n",
              "Class                                   0\n",
              "Flight Distance                       580\n",
              "Inflight wifi service                   0\n",
              "Departure/Arrival time convenient       0\n",
              "Ease of Online booking                  0\n",
              "Gate location                           0\n",
              "Food and drink                          0\n",
              "Online boarding                         0\n",
              "Seat comfort                            0\n",
              "Inflight entertainment                  0\n",
              "On-board service                        0\n",
              "Leg room service                        0\n",
              "Baggage handling                        0\n",
              "Checkin service                      3206\n",
              "Inflight service                        2\n",
              "Cleanliness                             0\n",
              "Departure Delay in Minutes           3635\n",
              "Arrival Delay in Minutes             3538\n",
              "satisfaction                            0\n",
              "dtype: int64"
            ]
          },
          "metadata": {
            "tags": []
          },
          "execution_count": 22
        }
      ]
    },
    {
      "cell_type": "code",
      "metadata": {
        "id": "-nvoUfve0MV3"
      },
      "source": [
        "x = df.drop('satisfaction', axis = 1)\n",
        "y = df['satisfaction']"
      ],
      "execution_count": null,
      "outputs": []
    },
    {
      "cell_type": "code",
      "metadata": {
        "id": "SnEGN2tWKRaM",
        "colab": {
          "base_uri": "https://localhost:8080/",
          "height": 35
        },
        "outputId": "ee48c758-941a-4c4f-c282-9bc65dc054de"
      },
      "source": [
        "x.shape"
      ],
      "execution_count": null,
      "outputs": [
        {
          "output_type": "execute_result",
          "data": {
            "text/plain": [
              "(25893, 22)"
            ]
          },
          "metadata": {
            "tags": []
          },
          "execution_count": 24
        }
      ]
    },
    {
      "cell_type": "code",
      "metadata": {
        "id": "ZBi5MQifx0DT",
        "colab": {
          "base_uri": "https://localhost:8080/",
          "height": 104
        },
        "outputId": "abc64886-fffe-4791-f028-e03231c46613"
      },
      "source": [
        "from sklearn.feature_selection import SelectFromModel\n",
        "from sklearn.ensemble import RandomForestClassifier as rf\n",
        "\n",
        "selector = SelectFromModel(rf(n_estimators=100, random_state=0))\n",
        "selector.fit(x, y)\n",
        "support = selector.get_support()\n",
        "features = x.loc[:,support].columns.tolist()\n",
        "print(features)\n",
        "print(rf(n_estimators=100, random_state=0).fit(x,y).feature_importances_)\n"
      ],
      "execution_count": null,
      "outputs": [
        {
          "output_type": "stream",
          "text": [
            "['Type of Travel', 'Class', 'Inflight wifi service', 'Online boarding', 'Seat comfort', 'Inflight entertainment']\n",
            "[0.00510076 0.03821533 0.03376832 0.11852382 0.0611571  0.03973226\n",
            " 0.13945456 0.01680535 0.03599662 0.01701797 0.01309362 0.17552551\n",
            " 0.0464058  0.05373998 0.03170733 0.04123207 0.02515762 0.02779472\n",
            " 0.02452634 0.02871989 0.01274788 0.01357716]\n"
          ],
          "name": "stdout"
        }
      ]
    },
    {
      "cell_type": "code",
      "metadata": {
        "id": "SetsSUKYw-9t"
      },
      "source": [
        "import warnings\n",
        "warnings.filterwarnings(\"ignore\")"
      ],
      "execution_count": null,
      "outputs": []
    },
    {
      "cell_type": "code",
      "metadata": {
        "id": "rsSv1Fliw03T"
      },
      "source": [
        "import eli5\n",
        "from eli5.sklearn import PermutationImportance\n",
        "\n",
        "perm = PermutationImportance(rf(n_estimators=100, random_state=0).fit(x,y),random_state=1).fit(x,y)\n",
        "eli5.show_weights(perm, feature_names = x.columns.tolist())"
      ],
      "execution_count": null,
      "outputs": []
    },
    {
      "cell_type": "code",
      "metadata": {
        "id": "MWHcsdOMVO_J",
        "colab": {
          "base_uri": "https://localhost:8080/",
          "height": 35
        },
        "outputId": "a92913c7-6e34-466f-b3eb-ba529f7b80a9"
      },
      "source": [
        "from sklearn.decomposition import PCA\n",
        "\n",
        "pca = PCA(n_components=12)\n",
        "principalComponents = pca.fit_transform(x)\n",
        "principalComponents.shape"
      ],
      "execution_count": null,
      "outputs": [
        {
          "output_type": "execute_result",
          "data": {
            "text/plain": [
              "(25893, 12)"
            ]
          },
          "metadata": {
            "tags": []
          },
          "execution_count": 28
        }
      ]
    },
    {
      "cell_type": "code",
      "metadata": {
        "id": "I0GBDLYCkiol",
        "colab": {
          "base_uri": "https://localhost:8080/",
          "height": 225
        },
        "outputId": "e7372426-a7ae-494c-9b43-22134d414637"
      },
      "source": [
        "kolom = []\n",
        "for i in range(1,13):\n",
        "  x = 'pc'+str(i)\n",
        "  kolom.append(x) \n",
        "kolom"
      ],
      "execution_count": null,
      "outputs": [
        {
          "output_type": "execute_result",
          "data": {
            "text/plain": [
              "['pc1',\n",
              " 'pc2',\n",
              " 'pc3',\n",
              " 'pc4',\n",
              " 'pc5',\n",
              " 'pc6',\n",
              " 'pc7',\n",
              " 'pc8',\n",
              " 'pc9',\n",
              " 'pc10',\n",
              " 'pc11',\n",
              " 'pc12']"
            ]
          },
          "metadata": {
            "tags": []
          },
          "execution_count": 29
        }
      ]
    },
    {
      "cell_type": "code",
      "metadata": {
        "id": "NEgq6JN6VVpI",
        "colab": {
          "base_uri": "https://localhost:8080/",
          "height": 202
        },
        "outputId": "9909713b-6c6b-434e-8436-ec48637a2190"
      },
      "source": [
        "df_pca = pd.DataFrame(data = principalComponents\n",
        "             , columns = kolom)\n",
        "df_pca.head()"
      ],
      "execution_count": null,
      "outputs": [
        {
          "output_type": "execute_result",
          "data": {
            "text/html": [
              "<div>\n",
              "<style scoped>\n",
              "    .dataframe tbody tr th:only-of-type {\n",
              "        vertical-align: middle;\n",
              "    }\n",
              "\n",
              "    .dataframe tbody tr th {\n",
              "        vertical-align: top;\n",
              "    }\n",
              "\n",
              "    .dataframe thead th {\n",
              "        text-align: right;\n",
              "    }\n",
              "</style>\n",
              "<table border=\"1\" class=\"dataframe\">\n",
              "  <thead>\n",
              "    <tr style=\"text-align: right;\">\n",
              "      <th></th>\n",
              "      <th>pc1</th>\n",
              "      <th>pc2</th>\n",
              "      <th>pc3</th>\n",
              "      <th>pc4</th>\n",
              "      <th>pc5</th>\n",
              "      <th>pc6</th>\n",
              "      <th>pc7</th>\n",
              "      <th>pc8</th>\n",
              "      <th>pc9</th>\n",
              "      <th>pc10</th>\n",
              "      <th>pc11</th>\n",
              "      <th>pc12</th>\n",
              "    </tr>\n",
              "  </thead>\n",
              "  <tbody>\n",
              "    <tr>\n",
              "      <th>0</th>\n",
              "      <td>-0.576727</td>\n",
              "      <td>0.063700</td>\n",
              "      <td>-0.448274</td>\n",
              "      <td>-0.339019</td>\n",
              "      <td>-0.351126</td>\n",
              "      <td>0.066451</td>\n",
              "      <td>0.571267</td>\n",
              "      <td>-0.327866</td>\n",
              "      <td>-0.332909</td>\n",
              "      <td>0.060066</td>\n",
              "      <td>-0.032886</td>\n",
              "      <td>-0.022507</td>\n",
              "    </tr>\n",
              "    <tr>\n",
              "      <th>1</th>\n",
              "      <td>-0.672993</td>\n",
              "      <td>0.394515</td>\n",
              "      <td>-0.253812</td>\n",
              "      <td>0.701477</td>\n",
              "      <td>0.174161</td>\n",
              "      <td>-0.225877</td>\n",
              "      <td>0.126394</td>\n",
              "      <td>-0.166824</td>\n",
              "      <td>0.044925</td>\n",
              "      <td>-0.012387</td>\n",
              "      <td>-0.076438</td>\n",
              "      <td>-0.079447</td>\n",
              "    </tr>\n",
              "    <tr>\n",
              "      <th>2</th>\n",
              "      <td>0.672396</td>\n",
              "      <td>0.598962</td>\n",
              "      <td>1.000801</td>\n",
              "      <td>-0.128162</td>\n",
              "      <td>0.001254</td>\n",
              "      <td>0.514544</td>\n",
              "      <td>0.090867</td>\n",
              "      <td>0.002692</td>\n",
              "      <td>-0.083275</td>\n",
              "      <td>0.162708</td>\n",
              "      <td>0.509275</td>\n",
              "      <td>0.006739</td>\n",
              "    </tr>\n",
              "    <tr>\n",
              "      <th>3</th>\n",
              "      <td>0.424914</td>\n",
              "      <td>0.296914</td>\n",
              "      <td>0.688354</td>\n",
              "      <td>0.683537</td>\n",
              "      <td>1.144414</td>\n",
              "      <td>-0.366477</td>\n",
              "      <td>-0.354653</td>\n",
              "      <td>0.174388</td>\n",
              "      <td>-0.115304</td>\n",
              "      <td>0.025934</td>\n",
              "      <td>0.234740</td>\n",
              "      <td>0.078945</td>\n",
              "    </tr>\n",
              "    <tr>\n",
              "      <th>4</th>\n",
              "      <td>0.344702</td>\n",
              "      <td>0.531138</td>\n",
              "      <td>-0.281391</td>\n",
              "      <td>-0.146346</td>\n",
              "      <td>0.420723</td>\n",
              "      <td>0.003472</td>\n",
              "      <td>-0.194112</td>\n",
              "      <td>0.150554</td>\n",
              "      <td>-0.440806</td>\n",
              "      <td>0.010864</td>\n",
              "      <td>-0.215283</td>\n",
              "      <td>-0.483614</td>\n",
              "    </tr>\n",
              "  </tbody>\n",
              "</table>\n",
              "</div>"
            ],
            "text/plain": [
              "        pc1       pc2       pc3  ...      pc10      pc11      pc12\n",
              "0 -0.576727  0.063700 -0.448274  ...  0.060066 -0.032886 -0.022507\n",
              "1 -0.672993  0.394515 -0.253812  ... -0.012387 -0.076438 -0.079447\n",
              "2  0.672396  0.598962  1.000801  ...  0.162708  0.509275  0.006739\n",
              "3  0.424914  0.296914  0.688354  ...  0.025934  0.234740  0.078945\n",
              "4  0.344702  0.531138 -0.281391  ...  0.010864 -0.215283 -0.483614\n",
              "\n",
              "[5 rows x 12 columns]"
            ]
          },
          "metadata": {
            "tags": []
          },
          "execution_count": 30
        }
      ]
    },
    {
      "cell_type": "code",
      "metadata": {
        "id": "ScEBYjoSVdDz",
        "colab": {
          "base_uri": "https://localhost:8080/",
          "height": 415
        },
        "outputId": "b5e62413-d518-44d0-e30e-c1463420292c"
      },
      "source": [
        "df = pd.concat([df_pca, y], axis = 1)\n",
        "df"
      ],
      "execution_count": null,
      "outputs": [
        {
          "output_type": "execute_result",
          "data": {
            "text/html": [
              "<div>\n",
              "<style scoped>\n",
              "    .dataframe tbody tr th:only-of-type {\n",
              "        vertical-align: middle;\n",
              "    }\n",
              "\n",
              "    .dataframe tbody tr th {\n",
              "        vertical-align: top;\n",
              "    }\n",
              "\n",
              "    .dataframe thead th {\n",
              "        text-align: right;\n",
              "    }\n",
              "</style>\n",
              "<table border=\"1\" class=\"dataframe\">\n",
              "  <thead>\n",
              "    <tr style=\"text-align: right;\">\n",
              "      <th></th>\n",
              "      <th>pc1</th>\n",
              "      <th>pc2</th>\n",
              "      <th>pc3</th>\n",
              "      <th>pc4</th>\n",
              "      <th>pc5</th>\n",
              "      <th>pc6</th>\n",
              "      <th>pc7</th>\n",
              "      <th>pc8</th>\n",
              "      <th>pc9</th>\n",
              "      <th>pc10</th>\n",
              "      <th>pc11</th>\n",
              "      <th>pc12</th>\n",
              "      <th>satisfaction</th>\n",
              "    </tr>\n",
              "  </thead>\n",
              "  <tbody>\n",
              "    <tr>\n",
              "      <th>0</th>\n",
              "      <td>-0.576727</td>\n",
              "      <td>0.063700</td>\n",
              "      <td>-0.448274</td>\n",
              "      <td>-0.339019</td>\n",
              "      <td>-0.351126</td>\n",
              "      <td>0.066451</td>\n",
              "      <td>0.571267</td>\n",
              "      <td>-0.327866</td>\n",
              "      <td>-0.332909</td>\n",
              "      <td>0.060066</td>\n",
              "      <td>-0.032886</td>\n",
              "      <td>-0.022507</td>\n",
              "      <td>1.0</td>\n",
              "    </tr>\n",
              "    <tr>\n",
              "      <th>1</th>\n",
              "      <td>-0.672993</td>\n",
              "      <td>0.394515</td>\n",
              "      <td>-0.253812</td>\n",
              "      <td>0.701477</td>\n",
              "      <td>0.174161</td>\n",
              "      <td>-0.225877</td>\n",
              "      <td>0.126394</td>\n",
              "      <td>-0.166824</td>\n",
              "      <td>0.044925</td>\n",
              "      <td>-0.012387</td>\n",
              "      <td>-0.076438</td>\n",
              "      <td>-0.079447</td>\n",
              "      <td>1.0</td>\n",
              "    </tr>\n",
              "    <tr>\n",
              "      <th>2</th>\n",
              "      <td>0.672396</td>\n",
              "      <td>0.598962</td>\n",
              "      <td>1.000801</td>\n",
              "      <td>-0.128162</td>\n",
              "      <td>0.001254</td>\n",
              "      <td>0.514544</td>\n",
              "      <td>0.090867</td>\n",
              "      <td>0.002692</td>\n",
              "      <td>-0.083275</td>\n",
              "      <td>0.162708</td>\n",
              "      <td>0.509275</td>\n",
              "      <td>0.006739</td>\n",
              "      <td>0.0</td>\n",
              "    </tr>\n",
              "    <tr>\n",
              "      <th>3</th>\n",
              "      <td>0.424914</td>\n",
              "      <td>0.296914</td>\n",
              "      <td>0.688354</td>\n",
              "      <td>0.683537</td>\n",
              "      <td>1.144414</td>\n",
              "      <td>-0.366477</td>\n",
              "      <td>-0.354653</td>\n",
              "      <td>0.174388</td>\n",
              "      <td>-0.115304</td>\n",
              "      <td>0.025934</td>\n",
              "      <td>0.234740</td>\n",
              "      <td>0.078945</td>\n",
              "      <td>1.0</td>\n",
              "    </tr>\n",
              "    <tr>\n",
              "      <th>4</th>\n",
              "      <td>0.344702</td>\n",
              "      <td>0.531138</td>\n",
              "      <td>-0.281391</td>\n",
              "      <td>-0.146346</td>\n",
              "      <td>0.420723</td>\n",
              "      <td>0.003472</td>\n",
              "      <td>-0.194112</td>\n",
              "      <td>0.150554</td>\n",
              "      <td>-0.440806</td>\n",
              "      <td>0.010864</td>\n",
              "      <td>-0.215283</td>\n",
              "      <td>-0.483614</td>\n",
              "      <td>1.0</td>\n",
              "    </tr>\n",
              "    <tr>\n",
              "      <th>...</th>\n",
              "      <td>...</td>\n",
              "      <td>...</td>\n",
              "      <td>...</td>\n",
              "      <td>...</td>\n",
              "      <td>...</td>\n",
              "      <td>...</td>\n",
              "      <td>...</td>\n",
              "      <td>...</td>\n",
              "      <td>...</td>\n",
              "      <td>...</td>\n",
              "      <td>...</td>\n",
              "      <td>...</td>\n",
              "      <td>...</td>\n",
              "    </tr>\n",
              "    <tr>\n",
              "      <th>25888</th>\n",
              "      <td>-0.301694</td>\n",
              "      <td>0.147637</td>\n",
              "      <td>0.778506</td>\n",
              "      <td>0.200878</td>\n",
              "      <td>-0.180717</td>\n",
              "      <td>0.511949</td>\n",
              "      <td>-0.316170</td>\n",
              "      <td>-0.017034</td>\n",
              "      <td>0.455594</td>\n",
              "      <td>0.307962</td>\n",
              "      <td>-0.222219</td>\n",
              "      <td>0.000406</td>\n",
              "      <td>0.0</td>\n",
              "    </tr>\n",
              "    <tr>\n",
              "      <th>25889</th>\n",
              "      <td>-0.691381</td>\n",
              "      <td>-0.560946</td>\n",
              "      <td>0.331803</td>\n",
              "      <td>-0.308054</td>\n",
              "      <td>-0.279533</td>\n",
              "      <td>-0.082965</td>\n",
              "      <td>-0.146760</td>\n",
              "      <td>0.129260</td>\n",
              "      <td>-0.044341</td>\n",
              "      <td>-0.136701</td>\n",
              "      <td>-0.033363</td>\n",
              "      <td>-0.231780</td>\n",
              "      <td>1.0</td>\n",
              "    </tr>\n",
              "    <tr>\n",
              "      <th>25890</th>\n",
              "      <td>0.818688</td>\n",
              "      <td>-0.135427</td>\n",
              "      <td>-0.751737</td>\n",
              "      <td>-0.164936</td>\n",
              "      <td>-0.602794</td>\n",
              "      <td>0.025466</td>\n",
              "      <td>-0.120605</td>\n",
              "      <td>0.611213</td>\n",
              "      <td>-0.301916</td>\n",
              "      <td>-0.019521</td>\n",
              "      <td>0.047252</td>\n",
              "      <td>-0.146556</td>\n",
              "      <td>0.0</td>\n",
              "    </tr>\n",
              "    <tr>\n",
              "      <th>25891</th>\n",
              "      <td>-0.436304</td>\n",
              "      <td>-0.351228</td>\n",
              "      <td>0.425949</td>\n",
              "      <td>0.038813</td>\n",
              "      <td>0.008377</td>\n",
              "      <td>-0.054062</td>\n",
              "      <td>-0.072505</td>\n",
              "      <td>0.113190</td>\n",
              "      <td>0.095721</td>\n",
              "      <td>0.348501</td>\n",
              "      <td>0.113400</td>\n",
              "      <td>-0.348489</td>\n",
              "      <td>1.0</td>\n",
              "    </tr>\n",
              "    <tr>\n",
              "      <th>25892</th>\n",
              "      <td>1.299057</td>\n",
              "      <td>0.162698</td>\n",
              "      <td>-0.734418</td>\n",
              "      <td>-0.448282</td>\n",
              "      <td>0.683908</td>\n",
              "      <td>0.214462</td>\n",
              "      <td>0.288673</td>\n",
              "      <td>0.231033</td>\n",
              "      <td>-0.077154</td>\n",
              "      <td>-0.129213</td>\n",
              "      <td>-0.092874</td>\n",
              "      <td>0.018613</td>\n",
              "      <td>0.0</td>\n",
              "    </tr>\n",
              "  </tbody>\n",
              "</table>\n",
              "<p>25893 rows × 13 columns</p>\n",
              "</div>"
            ],
            "text/plain": [
              "            pc1       pc2       pc3  ...      pc11      pc12  satisfaction\n",
              "0     -0.576727  0.063700 -0.448274  ... -0.032886 -0.022507           1.0\n",
              "1     -0.672993  0.394515 -0.253812  ... -0.076438 -0.079447           1.0\n",
              "2      0.672396  0.598962  1.000801  ...  0.509275  0.006739           0.0\n",
              "3      0.424914  0.296914  0.688354  ...  0.234740  0.078945           1.0\n",
              "4      0.344702  0.531138 -0.281391  ... -0.215283 -0.483614           1.0\n",
              "...         ...       ...       ...  ...       ...       ...           ...\n",
              "25888 -0.301694  0.147637  0.778506  ... -0.222219  0.000406           0.0\n",
              "25889 -0.691381 -0.560946  0.331803  ... -0.033363 -0.231780           1.0\n",
              "25890  0.818688 -0.135427 -0.751737  ...  0.047252 -0.146556           0.0\n",
              "25891 -0.436304 -0.351228  0.425949  ...  0.113400 -0.348489           1.0\n",
              "25892  1.299057  0.162698 -0.734418  ... -0.092874  0.018613           0.0\n",
              "\n",
              "[25893 rows x 13 columns]"
            ]
          },
          "metadata": {
            "tags": []
          },
          "execution_count": 31
        }
      ]
    },
    {
      "cell_type": "code",
      "metadata": {
        "id": "YwYGE73n89I5",
        "colab": {
          "base_uri": "https://localhost:8080/",
          "height": 35
        },
        "outputId": "a12419b2-cf93-4f34-9161-40074ef8b1b7"
      },
      "source": [
        "import sklearn\n",
        "from sklearn.model_selection import train_test_split\n",
        "x = df.drop('satisfaction', axis = 1)\n",
        "y = df['satisfaction']\n",
        "x_train, x_test, y_train, y_test = train_test_split(x, y, test_size=0.2)\n",
        "\n",
        "len(x_test), len(x_train)"
      ],
      "execution_count": null,
      "outputs": [
        {
          "output_type": "execute_result",
          "data": {
            "text/plain": [
              "(5179, 20714)"
            ]
          },
          "metadata": {
            "tags": []
          },
          "execution_count": 32
        }
      ]
    },
    {
      "cell_type": "code",
      "metadata": {
        "id": "9zpF6Tnu9r7C",
        "colab": {
          "base_uri": "https://localhost:8080/",
          "height": 69
        },
        "outputId": "e8b3e78f-fe61-4bb0-c3e9-f0f96954cf50"
      },
      "source": [
        "from sklearn.neighbors import KNeighborsClassifier\n",
        "\n",
        "n_neighbours = 25\n",
        "\n",
        "model_knn = KNeighborsClassifier(n_neighbours)\n",
        "\n",
        "model_knn.fit(x_train, y_train)"
      ],
      "execution_count": null,
      "outputs": [
        {
          "output_type": "execute_result",
          "data": {
            "text/plain": [
              "KNeighborsClassifier(algorithm='auto', leaf_size=30, metric='minkowski',\n",
              "                     metric_params=None, n_jobs=None, n_neighbors=25, p=2,\n",
              "                     weights='uniform')"
            ]
          },
          "metadata": {
            "tags": []
          },
          "execution_count": 33
        }
      ]
    },
    {
      "cell_type": "code",
      "metadata": {
        "id": "ONJJYvt99wth",
        "colab": {
          "base_uri": "https://localhost:8080/",
          "height": 69
        },
        "outputId": "45bb670c-a682-427c-dc56-b4c69cd962ca"
      },
      "source": [
        "from sklearn.metrics import accuracy_score\n",
        "from sklearn.metrics import precision_score\n",
        "from sklearn.metrics import recall_score\n",
        "\n",
        "pred_knn = model_knn.predict(x_test)\n",
        "\n",
        "accuracy = accuracy_score(y_test, pred_knn)\n",
        "precision = precision_score(y_test, pred_knn)\n",
        "recall = recall_score(y_test, pred_knn)\n",
        "\n",
        "print('Accuracy KNN : ', accuracy)\n",
        "print('Precision KNN : ', precision)\n",
        "print('Recall KNN : ', recall)"
      ],
      "execution_count": null,
      "outputs": [
        {
          "output_type": "stream",
          "text": [
            "Accuracy KNN :  0.9015253910021239\n",
            "Precision KNN :  0.9356754082137556\n",
            "Recall KNN :  0.8326728313518273\n"
          ],
          "name": "stdout"
        }
      ]
    },
    {
      "cell_type": "code",
      "metadata": {
        "id": "rLXvZtEc9xRh",
        "colab": {
          "base_uri": "https://localhost:8080/",
          "height": 52
        },
        "outputId": "a349c787-2f45-437b-81e6-30c81f0d1500"
      },
      "source": [
        "from sklearn.metrics import confusion_matrix\n",
        "cm = confusion_matrix(pred_knn, y_test)\n",
        "cm"
      ],
      "execution_count": null,
      "outputs": [
        {
          "output_type": "execute_result",
          "data": {
            "text/plain": [
              "array([[2742,  354],\n",
              "       [ 110, 1973]])"
            ]
          },
          "metadata": {
            "tags": []
          },
          "execution_count": 38
        }
      ]
    },
    {
      "cell_type": "code",
      "metadata": {
        "id": "Uc72d1W43UGd",
        "colab": {
          "base_uri": "https://localhost:8080/",
          "height": 297
        },
        "outputId": "6295aedf-85e1-4553-eed0-5e700dbede79"
      },
      "source": [
        "from sklearn.metrics import roc_auc_score, plot_roc_curve\n",
        "roc_auc = roc_auc_score(y_test, pred_knn) \n",
        "plot_roc_curve(model_knn, x_test, y_test)"
      ],
      "execution_count": null,
      "outputs": [
        {
          "output_type": "execute_result",
          "data": {
            "text/plain": [
              "<sklearn.metrics._plot.roc_curve.RocCurveDisplay at 0x7fb023c5d978>"
            ]
          },
          "metadata": {
            "tags": []
          },
          "execution_count": 39
        },
        {
          "output_type": "display_data",
          "data": {
            "image/png": "[encoded data removed]",
            "text/plain": [
              "<Figure size 432x288 with 1 Axes>"
            ]
          },
          "metadata": {
            "tags": [],
            "needs_background": "light"
          }
        }
      ]
    },
    {
      "cell_type": "code",
      "metadata": {
        "id": "RmWQtWv89xjC",
        "colab": {
          "base_uri": "https://localhost:8080/",
          "height": 121
        },
        "outputId": "59c83323-3bf0-4f98-ae52-56a519185554"
      },
      "source": [
        "from sklearn.tree import DecisionTreeClassifier\n",
        "from sklearn import tree\n",
        "\n",
        "model_tree = DecisionTreeClassifier(criterion='gini')\n",
        "\n",
        "model_tree.fit(x_train, y_train)"
      ],
      "execution_count": null,
      "outputs": [
        {
          "output_type": "execute_result",
          "data": {
            "text/plain": [
              "DecisionTreeClassifier(ccp_alpha=0.0, class_weight=None, criterion='gini',\n",
              "                       max_depth=None, max_features=None, max_leaf_nodes=None,\n",
              "                       min_impurity_decrease=0.0, min_impurity_split=None,\n",
              "                       min_samples_leaf=1, min_samples_split=2,\n",
              "                       min_weight_fraction_leaf=0.0, presort='deprecated',\n",
              "                       random_state=None, splitter='best')"
            ]
          },
          "metadata": {
            "tags": []
          },
          "execution_count": 40
        }
      ]
    },
    {
      "cell_type": "code",
      "metadata": {
        "id": "vTw0Dwu--PsO",
        "colab": {
          "base_uri": "https://localhost:8080/",
          "height": 69
        },
        "outputId": "164b305e-9c22-4c78-b57c-0d7974b15b78"
      },
      "source": [
        "pred_tree = model_tree.predict(x_test)\n",
        "\n",
        "accuracy = accuracy_score(y_test, pred_tree)\n",
        "precision = precision_score(y_test, pred_tree)\n",
        "recall = recall_score(y_test, pred_tree)\n",
        "\n",
        "print('Accuracy Decision Tree : ', accuracy)\n",
        "print('Precision Decision Tree : ', precision)\n",
        "print('Recall Decision Tree : ', recall)"
      ],
      "execution_count": null,
      "outputs": [
        {
          "output_type": "stream",
          "text": [
            "Accuracy Decision Tree :  0.8770032824869666\n",
            "Precision Decision Tree :  0.868995633187773\n",
            "Recall Decision Tree :  0.8551783412118608\n"
          ],
          "name": "stdout"
        }
      ]
    },
    {
      "cell_type": "code",
      "metadata": {
        "id": "RVdkobtW-UKV",
        "colab": {
          "base_uri": "https://localhost:8080/",
          "height": 52
        },
        "outputId": "c709c7f7-84e7-49cd-fde6-f454c8400460"
      },
      "source": [
        "from sklearn.metrics import confusion_matrix\n",
        "cm = confusion_matrix(pred_tree, y_test)\n",
        "cm"
      ],
      "execution_count": null,
      "outputs": [
        {
          "output_type": "execute_result",
          "data": {
            "text/plain": [
              "array([[2552,  337],\n",
              "       [ 300, 1990]])"
            ]
          },
          "metadata": {
            "tags": []
          },
          "execution_count": 44
        }
      ]
    },
    {
      "cell_type": "code",
      "metadata": {
        "id": "mEYatYIW4N_o",
        "colab": {
          "base_uri": "https://localhost:8080/",
          "height": 297
        },
        "outputId": "dcdcf4c4-3820-41f7-eb0f-6622d3693ab9"
      },
      "source": [
        "roc_auc_tree = roc_auc_score(y_test, pred_tree) \n",
        "plot_roc_curve(model_tree, x_test, y_test)"
      ],
      "execution_count": null,
      "outputs": [
        {
          "output_type": "execute_result",
          "data": {
            "text/plain": [
              "<sklearn.metrics._plot.roc_curve.RocCurveDisplay at 0x7fb01db95da0>"
            ]
          },
          "metadata": {
            "tags": []
          },
          "execution_count": 45
        },
        {
          "output_type": "display_data",
          "data": {
            "image/png": "[encoded data removed]",
            "text/plain": [
              "<Figure size 432x288 with 1 Axes>"
            ]
          },
          "metadata": {
            "tags": [],
            "needs_background": "light"
          }
        }
      ]
    },
    {
      "cell_type": "code",
      "metadata": {
        "id": "0AhC3a7N-YGk",
        "colab": {
          "base_uri": "https://localhost:8080/",
          "height": 35
        },
        "outputId": "918f5bde-308b-43fe-fae3-413919ca43c1"
      },
      "source": [
        "from sklearn.naive_bayes import GaussianNB\n",
        "\n",
        "model_gnb = GaussianNB()\n",
        "model_gnb.fit(x_train, y_train)"
      ],
      "execution_count": null,
      "outputs": [
        {
          "output_type": "execute_result",
          "data": {
            "text/plain": [
              "GaussianNB(priors=None, var_smoothing=1e-09)"
            ]
          },
          "metadata": {
            "tags": []
          },
          "execution_count": 46
        }
      ]
    },
    {
      "cell_type": "code",
      "metadata": {
        "id": "DpA8M0GC-bcq",
        "colab": {
          "base_uri": "https://localhost:8080/",
          "height": 69
        },
        "outputId": "85f04ce9-0b84-4b8b-8116-c8de90df0508"
      },
      "source": [
        "accuracy = accuracy_score(y_test, pred_gnb)\n",
        "precision = precision_score(y_test, pred_gnb)\n",
        "recall = recall_score(y_test, pred_gnb)\n",
        "\n",
        "print('Accuracy Decision Gaussian : ', accuracy)\n",
        "print('Precision Decision Gaussian : ', precision)\n",
        "print('Recall Decision Gaussian : ', recall)"
      ],
      "execution_count": null,
      "outputs": [
        {
          "output_type": "stream",
          "text": [
            "Accuracy Decision Gaussian :  0.8459162000386174\n",
            "Precision Decision Gaussian :  0.8607833883907503\n",
            "Recall Decision Gaussian :  0.7838418564675548\n"
          ],
          "name": "stdout"
        }
      ]
    },
    {
      "cell_type": "code",
      "metadata": {
        "id": "8pNAStM6-drY",
        "colab": {
          "base_uri": "https://localhost:8080/",
          "height": 52
        },
        "outputId": "4a4f80ce-8a65-41a4-e22e-15d316a3a19c"
      },
      "source": [
        "from sklearn.metrics import confusion_matrix\n",
        "cm = confusion_matrix(pred_gnb, y_test)\n",
        "cm"
      ],
      "execution_count": null,
      "outputs": [
        {
          "output_type": "execute_result",
          "data": {
            "text/plain": [
              "array([[2557,  503],\n",
              "       [ 295, 1824]])"
            ]
          },
          "metadata": {
            "tags": []
          },
          "execution_count": 50
        }
      ]
    },
    {
      "cell_type": "code",
      "metadata": {
        "id": "KFVXjJ2D4s_8",
        "colab": {
          "base_uri": "https://localhost:8080/",
          "height": 297
        },
        "outputId": "3467223c-a38f-453a-be0c-ac7bb897aa13"
      },
      "source": [
        "roc_auc = roc_auc_score(y_test, pred_gnb) \n",
        "plot_roc_curve(model_gnb, x_test, y_test)"
      ],
      "execution_count": null,
      "outputs": [
        {
          "output_type": "execute_result",
          "data": {
            "text/plain": [
              "<sklearn.metrics._plot.roc_curve.RocCurveDisplay at 0x7fb020a536a0>"
            ]
          },
          "metadata": {
            "tags": []
          },
          "execution_count": 51
        },
        {
          "output_type": "display_data",
          "data": {
            "image/png": "[encoded data removed]",
            "text/plain": [
              "<Figure size 432x288 with 1 Axes>"
            ]
          },
          "metadata": {
            "tags": [],
            "needs_background": "light"
          }
        }
      ]
    },
    {
      "cell_type": "code",
      "metadata": {
        "id": "8lHRNPJnXcbY",
        "colab": {
          "base_uri": "https://localhost:8080/",
          "height": 87
        },
        "outputId": "c77b2c5e-de8f-474c-8c39-b517e48990b5"
      },
      "source": [
        "from sklearn import svm\n",
        "\n",
        "svm_rbf = svm.SVC(kernel='rbf')\n",
        "svm_linear = svm.SVC(kernel='linear')\n",
        "\n",
        "svm_rbf.fit(x_train, y_train)\n",
        "svm_linear.fit(x_train, y_train)"
      ],
      "execution_count": null,
      "outputs": [
        {
          "output_type": "execute_result",
          "data": {
            "text/plain": [
              "SVC(C=1.0, break_ties=False, cache_size=200, class_weight=None, coef0=0.0,\n",
              "    decision_function_shape='ovr', degree=3, gamma='scale', kernel='linear',\n",
              "    max_iter=-1, probability=False, random_state=None, shrinking=True,\n",
              "    tol=0.001, verbose=False)"
            ]
          },
          "metadata": {
            "tags": []
          },
          "execution_count": 41
        }
      ]
    },
    {
      "cell_type": "code",
      "metadata": {
        "id": "8c8yKGQPX0V8",
        "colab": {
          "base_uri": "https://localhost:8080/",
          "height": 139
        },
        "outputId": "ad5bfd7e-741a-4aa5-d6c8-f21ae33e4f4c"
      },
      "source": [
        "pred_svm_rbf = svm_rbf.predict(x_test)\n",
        "pred_svm_linear = svm_linear.predict(x_test)\n",
        "\n",
        "accuracy_rbf = accuracy_score(y_test, pred_svm_rbf)\n",
        "precision_rbf = precision_score(y_test, pred_svm_rbf)\n",
        "recall_rbf = recall_score(y_test, pred_svm_rbf)\n",
        "\n",
        "accuracy_linear = accuracy_score(y_test, pred_svm_linear)\n",
        "precision_linear = precision_score(y_test, pred_svm_linear)\n",
        "recall_linear = recall_score(y_test, pred_svm_linear)\n",
        "\n",
        "print('Accuracy Decision rbf : ', accuracy_rbf)\n",
        "print('Precision Decision rbf : ', precision_rbf)\n",
        "print('Recall Decision rbf : ', recall_rbf, '\\n')\n",
        "\n",
        "print('Accuracy Decision linear : ', accuracy_linear)\n",
        "print('Precision Decision linear : ', precision_linear)\n",
        "print('Recall Decision linear : ', recall_linear)"
      ],
      "execution_count": null,
      "outputs": [
        {
          "output_type": "stream",
          "text": [
            "Accuracy Decision rbf :  0.9287507240780073\n",
            "Precision Decision rbf :  0.9256938227394808\n",
            "Recall Decision rbf :  0.9106120651695289 \n",
            "\n",
            "Accuracy Decision linear :  0.8611701100598571\n",
            "Precision Decision linear :  0.8646616541353384\n",
            "Recall Decision linear :  0.8102157639806252\n"
          ],
          "name": "stdout"
        }
      ]
    },
    {
      "cell_type": "code",
      "metadata": {
        "id": "ApAw9hwaX5E-",
        "colab": {
          "base_uri": "https://localhost:8080/",
          "height": 139
        },
        "outputId": "19ca456f-0bee-4456-b0ef-12c15ed5c0dc"
      },
      "source": [
        "from sklearn.metrics import confusion_matrix\n",
        "cm_rbf = confusion_matrix(pred_svm_rbf, y_test)\n",
        "cm_linear = confusion_matrix(pred_svm_linear, y_test)\n",
        "\n",
        "print('Confusion matrix RBF : \\n',cm_rbf, '\\n')\n",
        "print('Confusion matrix Linear : \\n',cm_linear)"
      ],
      "execution_count": null,
      "outputs": [
        {
          "output_type": "stream",
          "text": [
            "Confusion matrix RBF : \n",
            " [[2696  201]\n",
            " [ 156 2126]] \n",
            "\n",
            "Confusion matrix Linear : \n",
            " [[2591  435]\n",
            " [ 261 1892]]\n"
          ],
          "name": "stdout"
        }
      ]
    },
    {
      "cell_type": "code",
      "metadata": {
        "id": "two1QCs_5rMo",
        "colab": {
          "base_uri": "https://localhost:8080/",
          "height": 559
        },
        "outputId": "c882848c-a736-404d-c50f-efbc54655495"
      },
      "source": [
        "roc_rbf = roc_auc_score(y_test, pred_svm_rbf) \n",
        "plot_roc_curve(svm_rbf, x_test, y_test)\n",
        "roc_linear = roc_auc_score(y_test, pred_svm_linear) \n",
        "plot_roc_curve(svm_linear, x_test, y_test)"
      ],
      "execution_count": null,
      "outputs": [
        {
          "output_type": "execute_result",
          "data": {
            "text/plain": [
              "<sklearn.metrics._plot.roc_curve.RocCurveDisplay at 0x7fb020a53160>"
            ]
          },
          "metadata": {
            "tags": []
          },
          "execution_count": 55
        },
        {
          "output_type": "display_data",
          "data": {
            "image/png": "[encoded data removed]",
            "text/plain": [
              "<Figure size 432x288 with 1 Axes>"
            ]
          },
          "metadata": {
            "tags": [],
            "needs_background": "light"
          }
        },
        {
          "output_type": "display_data",
          "data": {
            "image/png": "[encoded data removed]",
            "text/plain": [
              "<Figure size 432x288 with 1 Axes>"
            ]
          },
          "metadata": {
            "tags": [],
            "needs_background": "light"
          }
        }
      ]
    },
    {
      "cell_type": "code",
      "metadata": {
        "id": "6UTw_Gyq8-1A",
        "colab": {
          "base_uri": "https://localhost:8080/",
          "height": 156
        },
        "outputId": "897877d6-1c69-4dc6-f641-825beacad406"
      },
      "source": [
        "from sklearn.ensemble import RandomForestClassifier\n",
        "\n",
        "model_rf = RandomForestClassifier()\n",
        "\n",
        "model_rf.fit(x_train, y_train)"
      ],
      "execution_count": null,
      "outputs": [
        {
          "output_type": "execute_result",
          "data": {
            "text/plain": [
              "RandomForestClassifier(bootstrap=True, ccp_alpha=0.0, class_weight=None,\n",
              "                       criterion='gini', max_depth=None, max_features='auto',\n",
              "                       max_leaf_nodes=None, max_samples=None,\n",
              "                       min_impurity_decrease=0.0, min_impurity_split=None,\n",
              "                       min_samples_leaf=1, min_samples_split=2,\n",
              "                       min_weight_fraction_leaf=0.0, n_estimators=100,\n",
              "                       n_jobs=None, oob_score=False, random_state=None,\n",
              "                       verbose=0, warm_start=False)"
            ]
          },
          "metadata": {
            "tags": []
          },
          "execution_count": 58
        }
      ]
    },
    {
      "cell_type": "code",
      "metadata": {
        "id": "NtYAUbGz9RrW",
        "colab": {
          "base_uri": "https://localhost:8080/",
          "height": 69
        },
        "outputId": "5a4670bc-a821-41af-ad3b-6e58d9d762df"
      },
      "source": [
        "accuracy = accuracy_score(y_test, pred_rf)\n",
        "precision = precision_score(y_test, pred_rf)\n",
        "recall = recall_score(y_test, pred_rf)\n",
        "\n",
        "print('Accuracy Decision Gaussian : ', accuracy)\n",
        "print('Precision Decision Gaussian : ', precision)\n",
        "print('Recall Decision Gaussian : ', recall)"
      ],
      "execution_count": null,
      "outputs": [
        {
          "output_type": "stream",
          "text": [
            "Accuracy Decision Gaussian :  0.9189032631782197\n",
            "Precision Decision Gaussian :  0.9367842418689877\n",
            "Recall Decision Gaussian :  0.878813923506661\n"
          ],
          "name": "stdout"
        }
      ]
    },
    {
      "cell_type": "code",
      "metadata": {
        "id": "Ny7FrVua-Rw4",
        "colab": {
          "base_uri": "https://localhost:8080/",
          "height": 52
        },
        "outputId": "ac59c2cb-a63a-455d-b716-78a9679c159e"
      },
      "source": [
        "from sklearn.metrics import confusion_matrix\n",
        "cm = confusion_matrix(pred_rf, y_test)\n",
        "cm"
      ],
      "execution_count": null,
      "outputs": [
        {
          "output_type": "execute_result",
          "data": {
            "text/plain": [
              "array([[2714,  282],\n",
              "       [ 138, 2045]])"
            ]
          },
          "metadata": {
            "tags": []
          },
          "execution_count": 60
        }
      ]
    },
    {
      "cell_type": "code",
      "metadata": {
        "id": "8o2snhhW-cKq",
        "colab": {
          "base_uri": "https://localhost:8080/",
          "height": 297
        },
        "outputId": "6309cd34-1c42-4c2a-9221-0d327fbfe104"
      },
      "source": [
        "roc_rf = roc_auc_score(y_test, pred_rf) \n",
        "plot_roc_curve(model_rf, x_test, y_test)"
      ],
      "execution_count": null,
      "outputs": [
        {
          "output_type": "execute_result",
          "data": {
            "text/plain": [
              "<sklearn.metrics._plot.roc_curve.RocCurveDisplay at 0x7fb01cb63ef0>"
            ]
          },
          "metadata": {
            "tags": []
          },
          "execution_count": 61
        },
        {
          "output_type": "display_data",
          "data": {
            "image/png": "[encoded data removed]",
            "text/plain": [
              "<Figure size 432x288 with 1 Axes>"
            ]
          },
          "metadata": {
            "tags": [],
            "needs_background": "light"
          }
        }
      ]
    },
    {
      "cell_type": "code",
      "metadata": {
        "id": "HlZhrxxjX9JW",
        "colab": {
          "base_uri": "https://localhost:8080/",
          "height": 35
        },
        "outputId": "be4f53c9-71ab-4c8d-da34-3ff38560053d"
      },
      "source": [
        "import sklearn\n",
        "from sklearn.model_selection import train_test_split\n",
        "from sklearn.preprocessing import LabelEncoder\n",
        "\n",
        "encoder =  LabelEncoder()\n",
        "y1 = encoder.fit_transform(y)\n",
        "\n",
        "y = pd.get_dummies(y1).values\n",
        "\n",
        "x_train, x_test, y_train, y_test = train_test_split(x, y, test_size=0.2)\n",
        "x_train, x_val, y_train, y_val = train_test_split(x_train, y_train, test_size=0.2)\n",
        "\n",
        "len(x_test), len(x_train), len(x_val)"
      ],
      "execution_count": null,
      "outputs": [
        {
          "output_type": "execute_result",
          "data": {
            "text/plain": [
              "(5179, 16571, 4143)"
            ]
          },
          "metadata": {
            "tags": []
          },
          "execution_count": 64
        }
      ]
    },
    {
      "cell_type": "code",
      "metadata": {
        "id": "ji8gtXQHYLtz",
        "colab": {
          "base_uri": "https://localhost:8080/",
          "height": 295
        },
        "outputId": "a4609952-e152-46f5-beee-5db02d3870d4"
      },
      "source": [
        "from keras.models import Sequential\n",
        "from keras.layers import Dense, Flatten\n",
        "from keras.optimizers import Adam\n",
        "\n",
        "model = Sequential()\n",
        "\n",
        "model.add(Dense(8,activation='relu', input_shape=(12,)))\n",
        "model.add(Dense(6,activation='relu'))\n",
        "model.add(Dense(4,activation='relu'))\n",
        "model.add(Dense(2,activation='softmax'))\n",
        "\n",
        "model.summary()"
      ],
      "execution_count": null,
      "outputs": [
        {
          "output_type": "stream",
          "text": [
            "Model: \"sequential\"\n",
            "_________________________________________________________________\n",
            "Layer (type)                 Output Shape              Param #   \n",
            "=================================================================\n",
            "dense (Dense)                (None, 8)                 104       \n",
            "_________________________________________________________________\n",
            "dense_1 (Dense)              (None, 6)                 54        \n",
            "_________________________________________________________________\n",
            "dense_2 (Dense)              (None, 4)                 28        \n",
            "_________________________________________________________________\n",
            "dense_3 (Dense)              (None, 2)                 10        \n",
            "=================================================================\n",
            "Total params: 196\n",
            "Trainable params: 196\n",
            "Non-trainable params: 0\n",
            "_________________________________________________________________\n"
          ],
          "name": "stdout"
        }
      ]
    },
    {
      "cell_type": "code",
      "metadata": {
        "id": "8OV2xftOYjyv",
        "colab": {
          "base_uri": "https://localhost:8080/",
          "height": 1000
        },
        "outputId": "62fb3579-ee88-41bd-ac2f-5a0ee1b3e6b8"
      },
      "source": [
        "model.compile(optimizer=Adam(), loss='categorical_crossentropy', metrics=['accuracy'])\n",
        "history = model.fit(x_train, y_train, epochs=220, validation_data=(x_val, y_val))"
      ],
      "execution_count": null,
      "outputs": [
        {
          "output_type": "stream",
          "text": [
            "Epoch 1/220\n",
            "518/518 [==============================] - 1s 1ms/step - loss: 0.5319 - accuracy: 0.7484 - val_loss: 0.3941 - val_accuracy: 0.8892\n",
            "Epoch 2/220\n",
            "518/518 [==============================] - 1s 1ms/step - loss: 0.3224 - accuracy: 0.8941 - val_loss: 0.2508 - val_accuracy: 0.9059\n",
            "Epoch 3/220\n",
            "518/518 [==============================] - 1s 1ms/step - loss: 0.2420 - accuracy: 0.9028 - val_loss: 0.2374 - val_accuracy: 0.9061\n",
            "Epoch 4/220\n",
            "518/518 [==============================] - 1s 1ms/step - loss: 0.2266 - accuracy: 0.9084 - val_loss: 0.2258 - val_accuracy: 0.9138\n",
            "Epoch 5/220\n",
            "518/518 [==============================] - 1s 1ms/step - loss: 0.2181 - accuracy: 0.9133 - val_loss: 0.2215 - val_accuracy: 0.9158\n",
            "Epoch 6/220\n",
            "518/518 [==============================] - 1s 1ms/step - loss: 0.2140 - accuracy: 0.9153 - val_loss: 0.2171 - val_accuracy: 0.9167\n",
            "Epoch 7/220\n",
            "518/518 [==============================] - 1s 1ms/step - loss: 0.2105 - accuracy: 0.9165 - val_loss: 0.2133 - val_accuracy: 0.9191\n",
            "Epoch 8/220\n",
            "518/518 [==============================] - 1s 1ms/step - loss: 0.2082 - accuracy: 0.9176 - val_loss: 0.2129 - val_accuracy: 0.9213\n",
            "Epoch 9/220\n",
            "518/518 [==============================] - 1s 1ms/step - loss: 0.2062 - accuracy: 0.9176 - val_loss: 0.2103 - val_accuracy: 0.9196\n",
            "Epoch 10/220\n",
            "518/518 [==============================] - 1s 1ms/step - loss: 0.2047 - accuracy: 0.9190 - val_loss: 0.2090 - val_accuracy: 0.9206\n",
            "Epoch 11/220\n",
            "518/518 [==============================] - 1s 1ms/step - loss: 0.2031 - accuracy: 0.9202 - val_loss: 0.2063 - val_accuracy: 0.9225\n",
            "Epoch 12/220\n",
            "518/518 [==============================] - 1s 1ms/step - loss: 0.2016 - accuracy: 0.9206 - val_loss: 0.2073 - val_accuracy: 0.9213\n",
            "Epoch 13/220\n",
            "518/518 [==============================] - 1s 1ms/step - loss: 0.2006 - accuracy: 0.9217 - val_loss: 0.2076 - val_accuracy: 0.9225\n",
            "Epoch 14/220\n",
            "518/518 [==============================] - 1s 1ms/step - loss: 0.2000 - accuracy: 0.9210 - val_loss: 0.2035 - val_accuracy: 0.9240\n",
            "Epoch 15/220\n",
            "518/518 [==============================] - 1s 1ms/step - loss: 0.1989 - accuracy: 0.9212 - val_loss: 0.2053 - val_accuracy: 0.9235\n",
            "Epoch 16/220\n",
            "518/518 [==============================] - 1s 1ms/step - loss: 0.1993 - accuracy: 0.9217 - val_loss: 0.2002 - val_accuracy: 0.9261\n",
            "Epoch 17/220\n",
            "518/518 [==============================] - 1s 1ms/step - loss: 0.1976 - accuracy: 0.9225 - val_loss: 0.2007 - val_accuracy: 0.9235\n",
            "Epoch 18/220\n",
            "518/518 [==============================] - 1s 1ms/step - loss: 0.1971 - accuracy: 0.9229 - val_loss: 0.2021 - val_accuracy: 0.9245\n",
            "Epoch 19/220\n",
            "518/518 [==============================] - 1s 1ms/step - loss: 0.1965 - accuracy: 0.9228 - val_loss: 0.1997 - val_accuracy: 0.9230\n",
            "Epoch 20/220\n",
            "518/518 [==============================] - 1s 1ms/step - loss: 0.1959 - accuracy: 0.9222 - val_loss: 0.2000 - val_accuracy: 0.9235\n",
            "Epoch 21/220\n",
            "518/518 [==============================] - 1s 1ms/step - loss: 0.1955 - accuracy: 0.9237 - val_loss: 0.2003 - val_accuracy: 0.9242\n",
            "Epoch 22/220\n",
            "518/518 [==============================] - 1s 1ms/step - loss: 0.1950 - accuracy: 0.9228 - val_loss: 0.2010 - val_accuracy: 0.9223\n",
            "Epoch 23/220\n",
            "518/518 [==============================] - 1s 1ms/step - loss: 0.1946 - accuracy: 0.9236 - val_loss: 0.1991 - val_accuracy: 0.9223\n",
            "Epoch 24/220\n",
            "518/518 [==============================] - 1s 1ms/step - loss: 0.1944 - accuracy: 0.9229 - val_loss: 0.2018 - val_accuracy: 0.9225\n",
            "Epoch 25/220\n",
            "518/518 [==============================] - 1s 1ms/step - loss: 0.1940 - accuracy: 0.9228 - val_loss: 0.1990 - val_accuracy: 0.9235\n",
            "Epoch 26/220\n",
            "518/518 [==============================] - 1s 1ms/step - loss: 0.1936 - accuracy: 0.9250 - val_loss: 0.1985 - val_accuracy: 0.9223\n",
            "Epoch 27/220\n",
            "518/518 [==============================] - 1s 1ms/step - loss: 0.1939 - accuracy: 0.9236 - val_loss: 0.2010 - val_accuracy: 0.9242\n",
            "Epoch 28/220\n",
            "518/518 [==============================] - 1s 1ms/step - loss: 0.1932 - accuracy: 0.9247 - val_loss: 0.1967 - val_accuracy: 0.9252\n",
            "Epoch 29/220\n",
            "518/518 [==============================] - 1s 1ms/step - loss: 0.1935 - accuracy: 0.9237 - val_loss: 0.1960 - val_accuracy: 0.9254\n",
            "Epoch 30/220\n",
            "518/518 [==============================] - 1s 1ms/step - loss: 0.1934 - accuracy: 0.9244 - val_loss: 0.1972 - val_accuracy: 0.9261\n",
            "Epoch 31/220\n",
            "518/518 [==============================] - 1s 1ms/step - loss: 0.1938 - accuracy: 0.9243 - val_loss: 0.1965 - val_accuracy: 0.9252\n",
            "Epoch 32/220\n",
            "518/518 [==============================] - 1s 1ms/step - loss: 0.1923 - accuracy: 0.9235 - val_loss: 0.1993 - val_accuracy: 0.9252\n",
            "Epoch 33/220\n",
            "518/518 [==============================] - 1s 1ms/step - loss: 0.1921 - accuracy: 0.9253 - val_loss: 0.1987 - val_accuracy: 0.9247\n",
            "Epoch 34/220\n",
            "518/518 [==============================] - 1s 1ms/step - loss: 0.1929 - accuracy: 0.9243 - val_loss: 0.1955 - val_accuracy: 0.9257\n",
            "Epoch 35/220\n",
            "518/518 [==============================] - 1s 1ms/step - loss: 0.1918 - accuracy: 0.9258 - val_loss: 0.1974 - val_accuracy: 0.9249\n",
            "Epoch 36/220\n",
            "518/518 [==============================] - 1s 1ms/step - loss: 0.1917 - accuracy: 0.9241 - val_loss: 0.2002 - val_accuracy: 0.9228\n",
            "Epoch 37/220\n",
            "518/518 [==============================] - 1s 1ms/step - loss: 0.1917 - accuracy: 0.9248 - val_loss: 0.1963 - val_accuracy: 0.9257\n",
            "Epoch 38/220\n",
            "518/518 [==============================] - 1s 1ms/step - loss: 0.1912 - accuracy: 0.9243 - val_loss: 0.1976 - val_accuracy: 0.9245\n",
            "Epoch 39/220\n",
            "518/518 [==============================] - 1s 1ms/step - loss: 0.1918 - accuracy: 0.9246 - val_loss: 0.2004 - val_accuracy: 0.9211\n",
            "Epoch 40/220\n",
            "518/518 [==============================] - 1s 1ms/step - loss: 0.1913 - accuracy: 0.9247 - val_loss: 0.1966 - val_accuracy: 0.9249\n",
            "Epoch 41/220\n",
            "518/518 [==============================] - 1s 1ms/step - loss: 0.1909 - accuracy: 0.9250 - val_loss: 0.1948 - val_accuracy: 0.9242\n",
            "Epoch 42/220\n",
            "518/518 [==============================] - 1s 1ms/step - loss: 0.1913 - accuracy: 0.9252 - val_loss: 0.1945 - val_accuracy: 0.9264\n",
            "Epoch 43/220\n",
            "518/518 [==============================] - 1s 1ms/step - loss: 0.1906 - accuracy: 0.9250 - val_loss: 0.1996 - val_accuracy: 0.9230\n",
            "Epoch 44/220\n",
            "518/518 [==============================] - 1s 1ms/step - loss: 0.1908 - accuracy: 0.9259 - val_loss: 0.1955 - val_accuracy: 0.9249\n",
            "Epoch 45/220\n",
            "518/518 [==============================] - 1s 1ms/step - loss: 0.1903 - accuracy: 0.9253 - val_loss: 0.1935 - val_accuracy: 0.9266\n",
            "Epoch 46/220\n",
            "518/518 [==============================] - 1s 1ms/step - loss: 0.1905 - accuracy: 0.9242 - val_loss: 0.1953 - val_accuracy: 0.9264\n",
            "Epoch 47/220\n",
            "518/518 [==============================] - 1s 1ms/step - loss: 0.1903 - accuracy: 0.9254 - val_loss: 0.1954 - val_accuracy: 0.9252\n",
            "Epoch 48/220\n",
            "518/518 [==============================] - 1s 1ms/step - loss: 0.1907 - accuracy: 0.9248 - val_loss: 0.1985 - val_accuracy: 0.9249\n",
            "Epoch 49/220\n",
            "518/518 [==============================] - 1s 1ms/step - loss: 0.1900 - accuracy: 0.9246 - val_loss: 0.1928 - val_accuracy: 0.9261\n",
            "Epoch 50/220\n",
            "518/518 [==============================] - 1s 1ms/step - loss: 0.1898 - accuracy: 0.9249 - val_loss: 0.1961 - val_accuracy: 0.9237\n",
            "Epoch 51/220\n",
            "518/518 [==============================] - 1s 1ms/step - loss: 0.1903 - accuracy: 0.9250 - val_loss: 0.1948 - val_accuracy: 0.9230\n",
            "Epoch 52/220\n",
            "518/518 [==============================] - 1s 1ms/step - loss: 0.1897 - accuracy: 0.9255 - val_loss: 0.1932 - val_accuracy: 0.9242\n",
            "Epoch 53/220\n",
            "518/518 [==============================] - 1s 1ms/step - loss: 0.1897 - accuracy: 0.9254 - val_loss: 0.1940 - val_accuracy: 0.9261\n",
            "Epoch 54/220\n",
            "518/518 [==============================] - 1s 1ms/step - loss: 0.1896 - accuracy: 0.9241 - val_loss: 0.1961 - val_accuracy: 0.9242\n",
            "Epoch 55/220\n",
            "518/518 [==============================] - 1s 1ms/step - loss: 0.1895 - accuracy: 0.9252 - val_loss: 0.1949 - val_accuracy: 0.9259\n",
            "Epoch 56/220\n",
            "518/518 [==============================] - 1s 1ms/step - loss: 0.1896 - accuracy: 0.9245 - val_loss: 0.1936 - val_accuracy: 0.9261\n",
            "Epoch 57/220\n",
            "518/518 [==============================] - 1s 1ms/step - loss: 0.1893 - accuracy: 0.9261 - val_loss: 0.1988 - val_accuracy: 0.9206\n",
            "Epoch 58/220\n",
            "518/518 [==============================] - 1s 1ms/step - loss: 0.1891 - accuracy: 0.9252 - val_loss: 0.1935 - val_accuracy: 0.9259\n",
            "Epoch 59/220\n",
            "518/518 [==============================] - 1s 1ms/step - loss: 0.1885 - accuracy: 0.9260 - val_loss: 0.1966 - val_accuracy: 0.9252\n",
            "Epoch 60/220\n",
            "518/518 [==============================] - 1s 1ms/step - loss: 0.1888 - accuracy: 0.9253 - val_loss: 0.1945 - val_accuracy: 0.9235\n",
            "Epoch 61/220\n",
            "518/518 [==============================] - 1s 1ms/step - loss: 0.1891 - accuracy: 0.9256 - val_loss: 0.1935 - val_accuracy: 0.9261\n",
            "Epoch 62/220\n",
            "518/518 [==============================] - 1s 1ms/step - loss: 0.1892 - accuracy: 0.9255 - val_loss: 0.1996 - val_accuracy: 0.9220\n",
            "Epoch 63/220\n",
            "518/518 [==============================] - 1s 1ms/step - loss: 0.1888 - accuracy: 0.9252 - val_loss: 0.1919 - val_accuracy: 0.9278\n",
            "Epoch 64/220\n",
            "518/518 [==============================] - 1s 1ms/step - loss: 0.1884 - accuracy: 0.9255 - val_loss: 0.1947 - val_accuracy: 0.9259\n",
            "Epoch 65/220\n",
            "518/518 [==============================] - 1s 1ms/step - loss: 0.1890 - accuracy: 0.9256 - val_loss: 0.1932 - val_accuracy: 0.9273\n",
            "Epoch 66/220\n",
            "518/518 [==============================] - 1s 1ms/step - loss: 0.1885 - accuracy: 0.9250 - val_loss: 0.1958 - val_accuracy: 0.9264\n",
            "Epoch 67/220\n",
            "518/518 [==============================] - 1s 1ms/step - loss: 0.1886 - accuracy: 0.9256 - val_loss: 0.1949 - val_accuracy: 0.9245\n",
            "Epoch 68/220\n",
            "518/518 [==============================] - 1s 1ms/step - loss: 0.1879 - accuracy: 0.9255 - val_loss: 0.1925 - val_accuracy: 0.9254\n",
            "Epoch 69/220\n",
            "518/518 [==============================] - 1s 1ms/step - loss: 0.1877 - accuracy: 0.9258 - val_loss: 0.1927 - val_accuracy: 0.9259\n",
            "Epoch 70/220\n",
            "518/518 [==============================] - 1s 1ms/step - loss: 0.1879 - accuracy: 0.9262 - val_loss: 0.1941 - val_accuracy: 0.9261\n",
            "Epoch 71/220\n",
            "518/518 [==============================] - 1s 1ms/step - loss: 0.1880 - accuracy: 0.9252 - val_loss: 0.1926 - val_accuracy: 0.9288\n",
            "Epoch 72/220\n",
            "518/518 [==============================] - 1s 1ms/step - loss: 0.1879 - accuracy: 0.9258 - val_loss: 0.1953 - val_accuracy: 0.9245\n",
            "Epoch 73/220\n",
            "518/518 [==============================] - 1s 1ms/step - loss: 0.1875 - accuracy: 0.9254 - val_loss: 0.1938 - val_accuracy: 0.9257\n",
            "Epoch 74/220\n",
            "518/518 [==============================] - 1s 1ms/step - loss: 0.1874 - accuracy: 0.9260 - val_loss: 0.1936 - val_accuracy: 0.9264\n",
            "Epoch 75/220\n",
            "518/518 [==============================] - 1s 1ms/step - loss: 0.1868 - accuracy: 0.9259 - val_loss: 0.1947 - val_accuracy: 0.9228\n",
            "Epoch 76/220\n",
            "518/518 [==============================] - 1s 1ms/step - loss: 0.1871 - accuracy: 0.9255 - val_loss: 0.1934 - val_accuracy: 0.9259\n",
            "Epoch 77/220\n",
            "518/518 [==============================] - 1s 1ms/step - loss: 0.1871 - accuracy: 0.9253 - val_loss: 0.1978 - val_accuracy: 0.9240\n",
            "Epoch 78/220\n",
            "518/518 [==============================] - 1s 1ms/step - loss: 0.1871 - accuracy: 0.9249 - val_loss: 0.1910 - val_accuracy: 0.9278\n",
            "Epoch 79/220\n",
            "518/518 [==============================] - 1s 1ms/step - loss: 0.1869 - accuracy: 0.9266 - val_loss: 0.1935 - val_accuracy: 0.9249\n",
            "Epoch 80/220\n",
            "518/518 [==============================] - 1s 1ms/step - loss: 0.1873 - accuracy: 0.9262 - val_loss: 0.1921 - val_accuracy: 0.9254\n",
            "Epoch 81/220\n",
            "518/518 [==============================] - 1s 1ms/step - loss: 0.1867 - accuracy: 0.9271 - val_loss: 0.1927 - val_accuracy: 0.9261\n",
            "Epoch 82/220\n",
            "518/518 [==============================] - 1s 1ms/step - loss: 0.1871 - accuracy: 0.9269 - val_loss: 0.1928 - val_accuracy: 0.9276\n",
            "Epoch 83/220\n",
            "518/518 [==============================] - 1s 1ms/step - loss: 0.1869 - accuracy: 0.9258 - val_loss: 0.1920 - val_accuracy: 0.9276\n",
            "Epoch 84/220\n",
            "518/518 [==============================] - 1s 1ms/step - loss: 0.1865 - accuracy: 0.9255 - val_loss: 0.1935 - val_accuracy: 0.9252\n",
            "Epoch 85/220\n",
            "518/518 [==============================] - 1s 1ms/step - loss: 0.1866 - accuracy: 0.9254 - val_loss: 0.1984 - val_accuracy: 0.9184\n",
            "Epoch 86/220\n",
            "518/518 [==============================] - 1s 1ms/step - loss: 0.1868 - accuracy: 0.9257 - val_loss: 0.1954 - val_accuracy: 0.9259\n",
            "Epoch 87/220\n",
            "518/518 [==============================] - 1s 1ms/step - loss: 0.1863 - accuracy: 0.9264 - val_loss: 0.1920 - val_accuracy: 0.9266\n",
            "Epoch 88/220\n",
            "518/518 [==============================] - 1s 1ms/step - loss: 0.1865 - accuracy: 0.9250 - val_loss: 0.1973 - val_accuracy: 0.9228\n",
            "Epoch 89/220\n",
            "518/518 [==============================] - 1s 1ms/step - loss: 0.1876 - accuracy: 0.9253 - val_loss: 0.1933 - val_accuracy: 0.9249\n",
            "Epoch 90/220\n",
            "518/518 [==============================] - 1s 1ms/step - loss: 0.1860 - accuracy: 0.9272 - val_loss: 0.1937 - val_accuracy: 0.9261\n",
            "Epoch 91/220\n",
            "518/518 [==============================] - 1s 1ms/step - loss: 0.1867 - accuracy: 0.9269 - val_loss: 0.1947 - val_accuracy: 0.9254\n",
            "Epoch 92/220\n",
            "518/518 [==============================] - 1s 1ms/step - loss: 0.1865 - accuracy: 0.9266 - val_loss: 0.1934 - val_accuracy: 0.9249\n",
            "Epoch 93/220\n",
            "518/518 [==============================] - 1s 1ms/step - loss: 0.1865 - accuracy: 0.9268 - val_loss: 0.1939 - val_accuracy: 0.9257\n",
            "Epoch 94/220\n",
            "518/518 [==============================] - 1s 1ms/step - loss: 0.1863 - accuracy: 0.9261 - val_loss: 0.1920 - val_accuracy: 0.9249\n",
            "Epoch 95/220\n",
            "518/518 [==============================] - 1s 1ms/step - loss: 0.1861 - accuracy: 0.9251 - val_loss: 0.1944 - val_accuracy: 0.9235\n",
            "Epoch 96/220\n",
            "518/518 [==============================] - 1s 1ms/step - loss: 0.1860 - accuracy: 0.9259 - val_loss: 0.1936 - val_accuracy: 0.9259\n",
            "Epoch 97/220\n",
            "518/518 [==============================] - 1s 1ms/step - loss: 0.1860 - accuracy: 0.9263 - val_loss: 0.1906 - val_accuracy: 0.9261\n",
            "Epoch 98/220\n",
            "518/518 [==============================] - 1s 1ms/step - loss: 0.1861 - accuracy: 0.9264 - val_loss: 0.1936 - val_accuracy: 0.9264\n",
            "Epoch 99/220\n",
            "518/518 [==============================] - 1s 1ms/step - loss: 0.1856 - accuracy: 0.9257 - val_loss: 0.1910 - val_accuracy: 0.9264\n",
            "Epoch 100/220\n",
            "518/518 [==============================] - 1s 1ms/step - loss: 0.1855 - accuracy: 0.9266 - val_loss: 0.1924 - val_accuracy: 0.9252\n",
            "Epoch 101/220\n",
            "518/518 [==============================] - 1s 1ms/step - loss: 0.1858 - accuracy: 0.9266 - val_loss: 0.1919 - val_accuracy: 0.9259\n",
            "Epoch 102/220\n",
            "518/518 [==============================] - 1s 1ms/step - loss: 0.1856 - accuracy: 0.9266 - val_loss: 0.1914 - val_accuracy: 0.9259\n",
            "Epoch 103/220\n",
            "518/518 [==============================] - 1s 1ms/step - loss: 0.1855 - accuracy: 0.9266 - val_loss: 0.1922 - val_accuracy: 0.9261\n",
            "Epoch 104/220\n",
            "518/518 [==============================] - 1s 1ms/step - loss: 0.1851 - accuracy: 0.9275 - val_loss: 0.1967 - val_accuracy: 0.9242\n",
            "Epoch 105/220\n",
            "518/518 [==============================] - 1s 1ms/step - loss: 0.1860 - accuracy: 0.9265 - val_loss: 0.1917 - val_accuracy: 0.9266\n",
            "Epoch 106/220\n",
            "518/518 [==============================] - 1s 1ms/step - loss: 0.1856 - accuracy: 0.9259 - val_loss: 0.1899 - val_accuracy: 0.9283\n",
            "Epoch 107/220\n",
            "518/518 [==============================] - 1s 1ms/step - loss: 0.1852 - accuracy: 0.9269 - val_loss: 0.1974 - val_accuracy: 0.9182\n",
            "Epoch 108/220\n",
            "518/518 [==============================] - 1s 1ms/step - loss: 0.1848 - accuracy: 0.9260 - val_loss: 0.1912 - val_accuracy: 0.9264\n",
            "Epoch 109/220\n",
            "518/518 [==============================] - 1s 1ms/step - loss: 0.1855 - accuracy: 0.9268 - val_loss: 0.1911 - val_accuracy: 0.9269\n",
            "Epoch 110/220\n",
            "518/518 [==============================] - 1s 1ms/step - loss: 0.1854 - accuracy: 0.9266 - val_loss: 0.1911 - val_accuracy: 0.9257\n",
            "Epoch 111/220\n",
            "518/518 [==============================] - 1s 1ms/step - loss: 0.1851 - accuracy: 0.9267 - val_loss: 0.1900 - val_accuracy: 0.9271\n",
            "Epoch 112/220\n",
            "518/518 [==============================] - 1s 1ms/step - loss: 0.1854 - accuracy: 0.9262 - val_loss: 0.1932 - val_accuracy: 0.9247\n",
            "Epoch 113/220\n",
            "518/518 [==============================] - 1s 1ms/step - loss: 0.1858 - accuracy: 0.9264 - val_loss: 0.1936 - val_accuracy: 0.9269\n",
            "Epoch 114/220\n",
            "518/518 [==============================] - 1s 2ms/step - loss: 0.1855 - accuracy: 0.9260 - val_loss: 0.1920 - val_accuracy: 0.9271\n",
            "Epoch 115/220\n",
            "518/518 [==============================] - 1s 1ms/step - loss: 0.1847 - accuracy: 0.9257 - val_loss: 0.1909 - val_accuracy: 0.9254\n",
            "Epoch 116/220\n",
            "518/518 [==============================] - 1s 1ms/step - loss: 0.1853 - accuracy: 0.9253 - val_loss: 0.1922 - val_accuracy: 0.9252\n",
            "Epoch 117/220\n",
            "518/518 [==============================] - 1s 1ms/step - loss: 0.1848 - accuracy: 0.9267 - val_loss: 0.1910 - val_accuracy: 0.9269\n",
            "Epoch 118/220\n",
            "518/518 [==============================] - 1s 1ms/step - loss: 0.1857 - accuracy: 0.9261 - val_loss: 0.1921 - val_accuracy: 0.9259\n",
            "Epoch 119/220\n",
            "518/518 [==============================] - 1s 1ms/step - loss: 0.1850 - accuracy: 0.9271 - val_loss: 0.1908 - val_accuracy: 0.9266\n",
            "Epoch 120/220\n",
            "518/518 [==============================] - 1s 1ms/step - loss: 0.1851 - accuracy: 0.9264 - val_loss: 0.1984 - val_accuracy: 0.9242\n",
            "Epoch 121/220\n",
            "518/518 [==============================] - 1s 1ms/step - loss: 0.1849 - accuracy: 0.9262 - val_loss: 0.1940 - val_accuracy: 0.9247\n",
            "Epoch 122/220\n",
            "518/518 [==============================] - 1s 1ms/step - loss: 0.1847 - accuracy: 0.9257 - val_loss: 0.1899 - val_accuracy: 0.9278\n",
            "Epoch 123/220\n",
            "518/518 [==============================] - 1s 1ms/step - loss: 0.1843 - accuracy: 0.9267 - val_loss: 0.1934 - val_accuracy: 0.9261\n",
            "Epoch 124/220\n",
            "518/518 [==============================] - 1s 1ms/step - loss: 0.1853 - accuracy: 0.9260 - val_loss: 0.1906 - val_accuracy: 0.9281\n",
            "Epoch 125/220\n",
            "518/518 [==============================] - 1s 1ms/step - loss: 0.1849 - accuracy: 0.9261 - val_loss: 0.1927 - val_accuracy: 0.9235\n",
            "Epoch 126/220\n",
            "518/518 [==============================] - 1s 1ms/step - loss: 0.1848 - accuracy: 0.9261 - val_loss: 0.1899 - val_accuracy: 0.9259\n",
            "Epoch 127/220\n",
            "518/518 [==============================] - 1s 1ms/step - loss: 0.1849 - accuracy: 0.9263 - val_loss: 0.1899 - val_accuracy: 0.9269\n",
            "Epoch 128/220\n",
            "518/518 [==============================] - 1s 1ms/step - loss: 0.1851 - accuracy: 0.9257 - val_loss: 0.1909 - val_accuracy: 0.9271\n",
            "Epoch 129/220\n",
            "518/518 [==============================] - 1s 1ms/step - loss: 0.1849 - accuracy: 0.9261 - val_loss: 0.1931 - val_accuracy: 0.9259\n",
            "Epoch 130/220\n",
            "518/518 [==============================] - 1s 1ms/step - loss: 0.1845 - accuracy: 0.9260 - val_loss: 0.1924 - val_accuracy: 0.9257\n",
            "Epoch 131/220\n",
            "518/518 [==============================] - 1s 1ms/step - loss: 0.1849 - accuracy: 0.9260 - val_loss: 0.1949 - val_accuracy: 0.9218\n",
            "Epoch 132/220\n",
            "518/518 [==============================] - 1s 1ms/step - loss: 0.1845 - accuracy: 0.9260 - val_loss: 0.1905 - val_accuracy: 0.9276\n",
            "Epoch 133/220\n",
            "518/518 [==============================] - 1s 1ms/step - loss: 0.1845 - accuracy: 0.9267 - val_loss: 0.1902 - val_accuracy: 0.9264\n",
            "Epoch 134/220\n",
            "518/518 [==============================] - 1s 1ms/step - loss: 0.1844 - accuracy: 0.9262 - val_loss: 0.1925 - val_accuracy: 0.9257\n",
            "Epoch 135/220\n",
            "518/518 [==============================] - 1s 1ms/step - loss: 0.1847 - accuracy: 0.9261 - val_loss: 0.1931 - val_accuracy: 0.9278\n",
            "Epoch 136/220\n",
            "518/518 [==============================] - 1s 1ms/step - loss: 0.1844 - accuracy: 0.9255 - val_loss: 0.1908 - val_accuracy: 0.9269\n",
            "Epoch 137/220\n",
            "518/518 [==============================] - 1s 1ms/step - loss: 0.1847 - accuracy: 0.9264 - val_loss: 0.1958 - val_accuracy: 0.9264\n",
            "Epoch 138/220\n",
            "518/518 [==============================] - 1s 1ms/step - loss: 0.1847 - accuracy: 0.9267 - val_loss: 0.1921 - val_accuracy: 0.9261\n",
            "Epoch 139/220\n",
            "518/518 [==============================] - 1s 1ms/step - loss: 0.1845 - accuracy: 0.9266 - val_loss: 0.1909 - val_accuracy: 0.9266\n",
            "Epoch 140/220\n",
            "518/518 [==============================] - 1s 1ms/step - loss: 0.1841 - accuracy: 0.9266 - val_loss: 0.1914 - val_accuracy: 0.9264\n",
            "Epoch 141/220\n",
            "518/518 [==============================] - 1s 1ms/step - loss: 0.1856 - accuracy: 0.9250 - val_loss: 0.1913 - val_accuracy: 0.9247\n",
            "Epoch 142/220\n",
            "518/518 [==============================] - 1s 1ms/step - loss: 0.1843 - accuracy: 0.9268 - val_loss: 0.1912 - val_accuracy: 0.9264\n",
            "Epoch 143/220\n",
            "518/518 [==============================] - 1s 1ms/step - loss: 0.1846 - accuracy: 0.9269 - val_loss: 0.1906 - val_accuracy: 0.9264\n",
            "Epoch 144/220\n",
            "518/518 [==============================] - 1s 1ms/step - loss: 0.1844 - accuracy: 0.9266 - val_loss: 0.1904 - val_accuracy: 0.9261\n",
            "Epoch 145/220\n",
            "518/518 [==============================] - 1s 1ms/step - loss: 0.1847 - accuracy: 0.9265 - val_loss: 0.1897 - val_accuracy: 0.9264\n",
            "Epoch 146/220\n",
            "518/518 [==============================] - 1s 1ms/step - loss: 0.1845 - accuracy: 0.9269 - val_loss: 0.1915 - val_accuracy: 0.9273\n",
            "Epoch 147/220\n",
            "518/518 [==============================] - 1s 1ms/step - loss: 0.1845 - accuracy: 0.9269 - val_loss: 0.1917 - val_accuracy: 0.9271\n",
            "Epoch 148/220\n",
            "518/518 [==============================] - 1s 1ms/step - loss: 0.1842 - accuracy: 0.9267 - val_loss: 0.1912 - val_accuracy: 0.9269\n",
            "Epoch 149/220\n",
            "518/518 [==============================] - 1s 1ms/step - loss: 0.1848 - accuracy: 0.9278 - val_loss: 0.1899 - val_accuracy: 0.9271\n",
            "Epoch 150/220\n",
            "518/518 [==============================] - 1s 1ms/step - loss: 0.1842 - accuracy: 0.9265 - val_loss: 0.1935 - val_accuracy: 0.9264\n",
            "Epoch 151/220\n",
            "518/518 [==============================] - 1s 1ms/step - loss: 0.1843 - accuracy: 0.9267 - val_loss: 0.1932 - val_accuracy: 0.9249\n",
            "Epoch 152/220\n",
            "518/518 [==============================] - 1s 1ms/step - loss: 0.1838 - accuracy: 0.9276 - val_loss: 0.1904 - val_accuracy: 0.9264\n",
            "Epoch 153/220\n",
            "518/518 [==============================] - 1s 1ms/step - loss: 0.1838 - accuracy: 0.9272 - val_loss: 0.1914 - val_accuracy: 0.9259\n",
            "Epoch 154/220\n",
            "518/518 [==============================] - 1s 1ms/step - loss: 0.1843 - accuracy: 0.9265 - val_loss: 0.1931 - val_accuracy: 0.9283\n",
            "Epoch 155/220\n",
            "518/518 [==============================] - 1s 1ms/step - loss: 0.1846 - accuracy: 0.9259 - val_loss: 0.1913 - val_accuracy: 0.9266\n",
            "Epoch 156/220\n",
            "518/518 [==============================] - 1s 1ms/step - loss: 0.1842 - accuracy: 0.9276 - val_loss: 0.1910 - val_accuracy: 0.9276\n",
            "Epoch 157/220\n",
            "518/518 [==============================] - 1s 1ms/step - loss: 0.1839 - accuracy: 0.9276 - val_loss: 0.1895 - val_accuracy: 0.9273\n",
            "Epoch 158/220\n",
            "518/518 [==============================] - 1s 1ms/step - loss: 0.1831 - accuracy: 0.9268 - val_loss: 0.1908 - val_accuracy: 0.9240\n",
            "Epoch 159/220\n",
            "518/518 [==============================] - 1s 1ms/step - loss: 0.1842 - accuracy: 0.9269 - val_loss: 0.1930 - val_accuracy: 0.9247\n",
            "Epoch 160/220\n",
            "518/518 [==============================] - 1s 1ms/step - loss: 0.1835 - accuracy: 0.9270 - val_loss: 0.1901 - val_accuracy: 0.9271\n",
            "Epoch 161/220\n",
            "518/518 [==============================] - 1s 1ms/step - loss: 0.1842 - accuracy: 0.9273 - val_loss: 0.1902 - val_accuracy: 0.9257\n",
            "Epoch 162/220\n",
            "518/518 [==============================] - 1s 1ms/step - loss: 0.1837 - accuracy: 0.9278 - val_loss: 0.1948 - val_accuracy: 0.9252\n",
            "Epoch 163/220\n",
            "518/518 [==============================] - 1s 1ms/step - loss: 0.1846 - accuracy: 0.9269 - val_loss: 0.1907 - val_accuracy: 0.9264\n",
            "Epoch 164/220\n",
            "518/518 [==============================] - 1s 1ms/step - loss: 0.1834 - accuracy: 0.9273 - val_loss: 0.1926 - val_accuracy: 0.9269\n",
            "Epoch 165/220\n",
            "518/518 [==============================] - 1s 1ms/step - loss: 0.1840 - accuracy: 0.9261 - val_loss: 0.1931 - val_accuracy: 0.9245\n",
            "Epoch 166/220\n",
            "518/518 [==============================] - 1s 1ms/step - loss: 0.1835 - accuracy: 0.9276 - val_loss: 0.1941 - val_accuracy: 0.9261\n",
            "Epoch 167/220\n",
            "518/518 [==============================] - 1s 1ms/step - loss: 0.1836 - accuracy: 0.9264 - val_loss: 0.1930 - val_accuracy: 0.9242\n",
            "Epoch 168/220\n",
            "518/518 [==============================] - 1s 1ms/step - loss: 0.1838 - accuracy: 0.9278 - val_loss: 0.1908 - val_accuracy: 0.9266\n",
            "Epoch 169/220\n",
            "518/518 [==============================] - 1s 1ms/step - loss: 0.1840 - accuracy: 0.9278 - val_loss: 0.1981 - val_accuracy: 0.9196\n",
            "Epoch 170/220\n",
            "518/518 [==============================] - 1s 1ms/step - loss: 0.1839 - accuracy: 0.9267 - val_loss: 0.1919 - val_accuracy: 0.9257\n",
            "Epoch 171/220\n",
            "518/518 [==============================] - 1s 1ms/step - loss: 0.1840 - accuracy: 0.9269 - val_loss: 0.1906 - val_accuracy: 0.9271\n",
            "Epoch 172/220\n",
            "518/518 [==============================] - 1s 1ms/step - loss: 0.1838 - accuracy: 0.9281 - val_loss: 0.1899 - val_accuracy: 0.9254\n",
            "Epoch 173/220\n",
            "518/518 [==============================] - 1s 1ms/step - loss: 0.1834 - accuracy: 0.9273 - val_loss: 0.1954 - val_accuracy: 0.9196\n",
            "Epoch 174/220\n",
            "518/518 [==============================] - 1s 1ms/step - loss: 0.1833 - accuracy: 0.9281 - val_loss: 0.1883 - val_accuracy: 0.9290\n",
            "Epoch 175/220\n",
            "518/518 [==============================] - 1s 1ms/step - loss: 0.1836 - accuracy: 0.9279 - val_loss: 0.1878 - val_accuracy: 0.9271\n",
            "Epoch 176/220\n",
            "518/518 [==============================] - 1s 1ms/step - loss: 0.1833 - accuracy: 0.9270 - val_loss: 0.1904 - val_accuracy: 0.9300\n",
            "Epoch 177/220\n",
            "518/518 [==============================] - 1s 1ms/step - loss: 0.1832 - accuracy: 0.9284 - val_loss: 0.1885 - val_accuracy: 0.9281\n",
            "Epoch 178/220\n",
            "518/518 [==============================] - 1s 1ms/step - loss: 0.1834 - accuracy: 0.9276 - val_loss: 0.1883 - val_accuracy: 0.9276\n",
            "Epoch 179/220\n",
            "518/518 [==============================] - 1s 1ms/step - loss: 0.1833 - accuracy: 0.9272 - val_loss: 0.1888 - val_accuracy: 0.9271\n",
            "Epoch 180/220\n",
            "518/518 [==============================] - 1s 1ms/step - loss: 0.1830 - accuracy: 0.9277 - val_loss: 0.1893 - val_accuracy: 0.9273\n",
            "Epoch 181/220\n",
            "518/518 [==============================] - 1s 1ms/step - loss: 0.1838 - accuracy: 0.9266 - val_loss: 0.1894 - val_accuracy: 0.9264\n",
            "Epoch 182/220\n",
            "518/518 [==============================] - 1s 1ms/step - loss: 0.1830 - accuracy: 0.9276 - val_loss: 0.1905 - val_accuracy: 0.9235\n",
            "Epoch 183/220\n",
            "518/518 [==============================] - 1s 1ms/step - loss: 0.1834 - accuracy: 0.9273 - val_loss: 0.1984 - val_accuracy: 0.9201\n",
            "Epoch 184/220\n",
            "518/518 [==============================] - 1s 1ms/step - loss: 0.1831 - accuracy: 0.9270 - val_loss: 0.1931 - val_accuracy: 0.9252\n",
            "Epoch 185/220\n",
            "518/518 [==============================] - 1s 1ms/step - loss: 0.1831 - accuracy: 0.9274 - val_loss: 0.1909 - val_accuracy: 0.9259\n",
            "Epoch 186/220\n",
            "518/518 [==============================] - 1s 1ms/step - loss: 0.1831 - accuracy: 0.9278 - val_loss: 0.1877 - val_accuracy: 0.9288\n",
            "Epoch 187/220\n",
            "518/518 [==============================] - 1s 1ms/step - loss: 0.1835 - accuracy: 0.9272 - val_loss: 0.1896 - val_accuracy: 0.9259\n",
            "Epoch 188/220\n",
            "518/518 [==============================] - 1s 1ms/step - loss: 0.1836 - accuracy: 0.9272 - val_loss: 0.1886 - val_accuracy: 0.9271\n",
            "Epoch 189/220\n",
            "518/518 [==============================] - 1s 1ms/step - loss: 0.1833 - accuracy: 0.9274 - val_loss: 0.1974 - val_accuracy: 0.9232\n",
            "Epoch 190/220\n",
            "518/518 [==============================] - 1s 1ms/step - loss: 0.1834 - accuracy: 0.9280 - val_loss: 0.1897 - val_accuracy: 0.9242\n",
            "Epoch 191/220\n",
            "518/518 [==============================] - 1s 1ms/step - loss: 0.1830 - accuracy: 0.9276 - val_loss: 0.1894 - val_accuracy: 0.9278\n",
            "Epoch 192/220\n",
            "518/518 [==============================] - 1s 1ms/step - loss: 0.1832 - accuracy: 0.9276 - val_loss: 0.1882 - val_accuracy: 0.9286\n",
            "Epoch 193/220\n",
            "518/518 [==============================] - 1s 1ms/step - loss: 0.1836 - accuracy: 0.9287 - val_loss: 0.1887 - val_accuracy: 0.9266\n",
            "Epoch 194/220\n",
            "518/518 [==============================] - 1s 1ms/step - loss: 0.1831 - accuracy: 0.9279 - val_loss: 0.1876 - val_accuracy: 0.9290\n",
            "Epoch 195/220\n",
            "518/518 [==============================] - 1s 1ms/step - loss: 0.1832 - accuracy: 0.9269 - val_loss: 0.1891 - val_accuracy: 0.9273\n",
            "Epoch 196/220\n",
            "518/518 [==============================] - 1s 1ms/step - loss: 0.1827 - accuracy: 0.9276 - val_loss: 0.1906 - val_accuracy: 0.9286\n",
            "Epoch 197/220\n",
            "518/518 [==============================] - 1s 1ms/step - loss: 0.1827 - accuracy: 0.9275 - val_loss: 0.1905 - val_accuracy: 0.9283\n",
            "Epoch 198/220\n",
            "518/518 [==============================] - 1s 1ms/step - loss: 0.1831 - accuracy: 0.9275 - val_loss: 0.1904 - val_accuracy: 0.9249\n",
            "Epoch 199/220\n",
            "518/518 [==============================] - 1s 1ms/step - loss: 0.1827 - accuracy: 0.9277 - val_loss: 0.1884 - val_accuracy: 0.9266\n",
            "Epoch 200/220\n",
            "518/518 [==============================] - 1s 1ms/step - loss: 0.1833 - accuracy: 0.9266 - val_loss: 0.1906 - val_accuracy: 0.9252\n",
            "Epoch 201/220\n",
            "518/518 [==============================] - 1s 1ms/step - loss: 0.1826 - accuracy: 0.9273 - val_loss: 0.1897 - val_accuracy: 0.9247\n",
            "Epoch 202/220\n",
            "518/518 [==============================] - 1s 1ms/step - loss: 0.1827 - accuracy: 0.9271 - val_loss: 0.1914 - val_accuracy: 0.9247\n",
            "Epoch 203/220\n",
            "518/518 [==============================] - 1s 1ms/step - loss: 0.1829 - accuracy: 0.9269 - val_loss: 0.1874 - val_accuracy: 0.9273\n",
            "Epoch 204/220\n",
            "518/518 [==============================] - 1s 1ms/step - loss: 0.1831 - accuracy: 0.9283 - val_loss: 0.1899 - val_accuracy: 0.9254\n",
            "Epoch 205/220\n",
            "518/518 [==============================] - 1s 1ms/step - loss: 0.1823 - accuracy: 0.9270 - val_loss: 0.1897 - val_accuracy: 0.9254\n",
            "Epoch 206/220\n",
            "518/518 [==============================] - 1s 1ms/step - loss: 0.1830 - accuracy: 0.9273 - val_loss: 0.1887 - val_accuracy: 0.9261\n",
            "Epoch 207/220\n",
            "518/518 [==============================] - 1s 1ms/step - loss: 0.1828 - accuracy: 0.9278 - val_loss: 0.1888 - val_accuracy: 0.9249\n",
            "Epoch 208/220\n",
            "518/518 [==============================] - 1s 1ms/step - loss: 0.1830 - accuracy: 0.9269 - val_loss: 0.1887 - val_accuracy: 0.9261\n",
            "Epoch 209/220\n",
            "518/518 [==============================] - 1s 1ms/step - loss: 0.1831 - accuracy: 0.9277 - val_loss: 0.1894 - val_accuracy: 0.9281\n",
            "Epoch 210/220\n",
            "518/518 [==============================] - 1s 1ms/step - loss: 0.1822 - accuracy: 0.9270 - val_loss: 0.1881 - val_accuracy: 0.9276\n",
            "Epoch 211/220\n",
            "518/518 [==============================] - 1s 1ms/step - loss: 0.1826 - accuracy: 0.9278 - val_loss: 0.1869 - val_accuracy: 0.9273\n",
            "Epoch 212/220\n",
            "518/518 [==============================] - 1s 1ms/step - loss: 0.1823 - accuracy: 0.9272 - val_loss: 0.1903 - val_accuracy: 0.9259\n",
            "Epoch 213/220\n",
            "518/518 [==============================] - 1s 1ms/step - loss: 0.1825 - accuracy: 0.9281 - val_loss: 0.1867 - val_accuracy: 0.9266\n",
            "Epoch 214/220\n",
            "518/518 [==============================] - 1s 1ms/step - loss: 0.1828 - accuracy: 0.9272 - val_loss: 0.1902 - val_accuracy: 0.9264\n",
            "Epoch 215/220\n",
            "518/518 [==============================] - 1s 1ms/step - loss: 0.1821 - accuracy: 0.9274 - val_loss: 0.1921 - val_accuracy: 0.9276\n",
            "Epoch 216/220\n",
            "518/518 [==============================] - 1s 1ms/step - loss: 0.1825 - accuracy: 0.9276 - val_loss: 0.1901 - val_accuracy: 0.9276\n",
            "Epoch 217/220\n",
            "518/518 [==============================] - 1s 1ms/step - loss: 0.1825 - accuracy: 0.9262 - val_loss: 0.1868 - val_accuracy: 0.9278\n",
            "Epoch 218/220\n",
            "518/518 [==============================] - 1s 1ms/step - loss: 0.1822 - accuracy: 0.9278 - val_loss: 0.1910 - val_accuracy: 0.9271\n",
            "Epoch 219/220\n",
            "518/518 [==============================] - 1s 1ms/step - loss: 0.1828 - accuracy: 0.9270 - val_loss: 0.1895 - val_accuracy: 0.9259\n",
            "Epoch 220/220\n",
            "518/518 [==============================] - 1s 1ms/step - loss: 0.1829 - accuracy: 0.9275 - val_loss: 0.1894 - val_accuracy: 0.9257\n"
          ],
          "name": "stdout"
        }
      ]
    },
    {
      "cell_type": "code",
      "metadata": {
        "id": "AXwpE3MUbVsA",
        "colab": {
          "base_uri": "https://localhost:8080/",
          "height": 281
        },
        "outputId": "c43f3899-7e48-42c1-e21c-33c50b8d8605"
      },
      "source": [
        "import matplotlib.pyplot as plt\n",
        "\n",
        "acc = history.history['accuracy']\n",
        "val_acc = history.history['val_accuracy']\n",
        "epochs = range(1, len(acc) + 1)\n",
        "\n",
        "#Train and validation accuracy\n",
        "plt.figure()\n",
        "plt.plot(epochs, acc, 'blue', label='Training accurarcy')\n",
        "plt.plot(epochs, val_acc, 'red', label='Validation accurarcy')\n",
        "plt.title('Training and Validation accurarcy')\n",
        "plt.legend()\n",
        "\n",
        "#Show Plot\n",
        "plt.show()"
      ],
      "execution_count": null,
      "outputs": [
        {
          "output_type": "display_data",
          "data": {
            "image/png": "[encoded data removed]",
            "text/plain": [
              "<Figure size 432x288 with 1 Axes>"
            ]
          },
          "metadata": {
            "tags": [],
            "needs_background": "light"
          }
        }
      ]
    },
    {
      "cell_type": "code",
      "metadata": {
        "id": "GlOSgvzhhPgG",
        "colab": {
          "base_uri": "https://localhost:8080/",
          "height": 69
        },
        "outputId": "05ec5cd2-00ad-4780-da96-17c98a7ffcac"
      },
      "source": [
        "import numpy as np\n",
        "y_pred = model.predict(x_test)\n",
        "\n",
        "y_test_class = np.argmax(y_test,axis=1)\n",
        "y_pred_class = np.argmax(y_pred,axis=1)\n",
        "\n",
        "accuracy = accuracy_score(y_test_class, y_pred_class)\n",
        "precision = precision_score(y_test_class, y_pred_class)\n",
        "recall = recall_score(y_test_class, y_pred_class)\n",
        "\n",
        "print('Accuracy ANN : ', accuracy)\n",
        "print('Precision ANN : ', precision)\n",
        "print('Recall ANN : ', recall)"
      ],
      "execution_count": null,
      "outputs": [
        {
          "output_type": "stream",
          "text": [
            "Accuracy ANN :  0.9223788376134389\n",
            "Precision ANN :  0.9139545251894784\n",
            "Recall ANN :  0.9074811863656486\n"
          ],
          "name": "stdout"
        }
      ]
    },
    {
      "cell_type": "code",
      "metadata": {
        "id": "Q-YBLAxEhTcY",
        "colab": {
          "base_uri": "https://localhost:8080/",
          "height": 52
        },
        "outputId": "3c8dd8bd-da4e-4968-acca-4c546777b19f"
      },
      "source": [
        "from sklearn.metrics import confusion_matrix\n",
        "cm = confusion_matrix(y_pred_class, y_test_class)\n",
        "cm"
      ],
      "execution_count": null,
      "outputs": [
        {
          "output_type": "execute_result",
          "data": {
            "text/plain": [
              "array([[2727,  209],\n",
              "       [ 193, 2050]])"
            ]
          },
          "metadata": {
            "tags": []
          },
          "execution_count": 69
        }
      ]
    }
  ]
}