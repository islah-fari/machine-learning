{
  "nbformat": 4,
  "nbformat_minor": 0,
  "metadata": {
    "colab": {
      "name": "clustering.ipynb",
      "provenance": [],
      "collapsed_sections": []
    },
    "kernelspec": {
      "name": "python3",
      "display_name": "Python 3"
    }
  },
  "cells": [
    {
      "cell_type": "code",
      "metadata": {
        "id": "dw9-Gy_pUCE5",
        "colab": {
          "resources": {
            "http://localhost:8080/nbextensions/google.colab/files.js": {
              "data": "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",
              "ok": true,
              "headers": [
                [
                  "content-type",
                  "application/javascript"
                ]
              ],
              "status": 200,
              "status_text": ""
            }
          },
          "base_uri": "https://localhost:8080/",
          "height": 73
        },
        "outputId": "05833e3f-c6f0-406c-87aa-dc86660591fd"
      },
      "source": [
        "from google.colab import files\n",
        "uploaded = files.upload()"
      ],
      "execution_count": null,
      "outputs": [
        {
          "output_type": "display_data",
          "data": {
            "text/html": [
              "\n",
              "     <input type=\"file\" id=\"files-d53e630a-2fbe-45fd-9439-ad693af538cb\" name=\"files[]\" multiple disabled\n",
              "        style=\"border:none\" />\n",
              "     <output id=\"result-d53e630a-2fbe-45fd-9439-ad693af538cb\">\n",
              "      Upload widget is only available when the cell has been executed in the\n",
              "      current browser session. Please rerun this cell to enable.\n",
              "      </output>\n",
              "      <script src=\"/nbextensions/google.colab/files.js\"></script> "
            ],
            "text/plain": [
              "<IPython.core.display.HTML object>"
            ]
          },
          "metadata": {
            "tags": []
          }
        },
        {
          "output_type": "stream",
          "text": [
            "Saving Iris.csv to Iris (2).csv\n"
          ],
          "name": "stdout"
        }
      ]
    },
    {
      "cell_type": "code",
      "metadata": {
        "id": "EmcImti4WilE"
      },
      "source": [
        "import matplotlib.pyplot as plt\n",
        "import pandas as pd\n",
        "import seaborn as sns"
      ],
      "execution_count": null,
      "outputs": []
    },
    {
      "cell_type": "code",
      "metadata": {
        "id": "gQyF-zpfWt3L",
        "colab": {
          "base_uri": "https://localhost:8080/",
          "height": 202
        },
        "outputId": "70e26c22-3736-46a1-f7c5-26e134f0822b"
      },
      "source": [
        "import io\n",
        "df = pd.read_csv(io.BytesIO(uploaded['Iris.csv']))\n",
        "df.head()"
      ],
      "execution_count": null,
      "outputs": [
        {
          "output_type": "execute_result",
          "data": {
            "text/html": [
              "<div>\n",
              "<style scoped>\n",
              "    .dataframe tbody tr th:only-of-type {\n",
              "        vertical-align: middle;\n",
              "    }\n",
              "\n",
              "    .dataframe tbody tr th {\n",
              "        vertical-align: top;\n",
              "    }\n",
              "\n",
              "    .dataframe thead th {\n",
              "        text-align: right;\n",
              "    }\n",
              "</style>\n",
              "<table border=\"1\" class=\"dataframe\">\n",
              "  <thead>\n",
              "    <tr style=\"text-align: right;\">\n",
              "      <th></th>\n",
              "      <th>Id</th>\n",
              "      <th>SepalLengthCm</th>\n",
              "      <th>SepalWidthCm</th>\n",
              "      <th>PetalLengthCm</th>\n",
              "      <th>PetalWidthCm</th>\n",
              "      <th>Species</th>\n",
              "    </tr>\n",
              "  </thead>\n",
              "  <tbody>\n",
              "    <tr>\n",
              "      <th>0</th>\n",
              "      <td>1</td>\n",
              "      <td>5.1</td>\n",
              "      <td>3.5</td>\n",
              "      <td>1.4</td>\n",
              "      <td>0.2</td>\n",
              "      <td>Iris-setosa</td>\n",
              "    </tr>\n",
              "    <tr>\n",
              "      <th>1</th>\n",
              "      <td>2</td>\n",
              "      <td>4.9</td>\n",
              "      <td>3.0</td>\n",
              "      <td>1.4</td>\n",
              "      <td>0.2</td>\n",
              "      <td>Iris-setosa</td>\n",
              "    </tr>\n",
              "    <tr>\n",
              "      <th>2</th>\n",
              "      <td>3</td>\n",
              "      <td>4.7</td>\n",
              "      <td>3.2</td>\n",
              "      <td>1.3</td>\n",
              "      <td>0.2</td>\n",
              "      <td>Iris-setosa</td>\n",
              "    </tr>\n",
              "    <tr>\n",
              "      <th>3</th>\n",
              "      <td>4</td>\n",
              "      <td>4.6</td>\n",
              "      <td>3.1</td>\n",
              "      <td>1.5</td>\n",
              "      <td>0.2</td>\n",
              "      <td>Iris-setosa</td>\n",
              "    </tr>\n",
              "    <tr>\n",
              "      <th>4</th>\n",
              "      <td>5</td>\n",
              "      <td>5.0</td>\n",
              "      <td>3.6</td>\n",
              "      <td>1.4</td>\n",
              "      <td>0.2</td>\n",
              "      <td>Iris-setosa</td>\n",
              "    </tr>\n",
              "  </tbody>\n",
              "</table>\n",
              "</div>"
            ],
            "text/plain": [
              "   Id  SepalLengthCm  SepalWidthCm  PetalLengthCm  PetalWidthCm      Species\n",
              "0   1            5.1           3.5            1.4           0.2  Iris-setosa\n",
              "1   2            4.9           3.0            1.4           0.2  Iris-setosa\n",
              "2   3            4.7           3.2            1.3           0.2  Iris-setosa\n",
              "3   4            4.6           3.1            1.5           0.2  Iris-setosa\n",
              "4   5            5.0           3.6            1.4           0.2  Iris-setosa"
            ]
          },
          "metadata": {
            "tags": []
          },
          "execution_count": 38
        }
      ]
    },
    {
      "cell_type": "code",
      "metadata": {
        "id": "Mllk40nFX0Qr",
        "colab": {
          "base_uri": "https://localhost:8080/",
          "height": 202
        },
        "outputId": "32682ebd-f0f6-48e3-c70d-27f7eb1e66e4"
      },
      "source": [
        "df.drop(['Species','Id'], axis=1, inplace=True)\n",
        "# tampilkan 5 data pertama\n",
        "df.head()"
      ],
      "execution_count": null,
      "outputs": [
        {
          "output_type": "execute_result",
          "data": {
            "text/html": [
              "<div>\n",
              "<style scoped>\n",
              "    .dataframe tbody tr th:only-of-type {\n",
              "        vertical-align: middle;\n",
              "    }\n",
              "\n",
              "    .dataframe tbody tr th {\n",
              "        vertical-align: top;\n",
              "    }\n",
              "\n",
              "    .dataframe thead th {\n",
              "        text-align: right;\n",
              "    }\n",
              "</style>\n",
              "<table border=\"1\" class=\"dataframe\">\n",
              "  <thead>\n",
              "    <tr style=\"text-align: right;\">\n",
              "      <th></th>\n",
              "      <th>SepalLengthCm</th>\n",
              "      <th>SepalWidthCm</th>\n",
              "      <th>PetalLengthCm</th>\n",
              "      <th>PetalWidthCm</th>\n",
              "    </tr>\n",
              "  </thead>\n",
              "  <tbody>\n",
              "    <tr>\n",
              "      <th>0</th>\n",
              "      <td>5.1</td>\n",
              "      <td>3.5</td>\n",
              "      <td>1.4</td>\n",
              "      <td>0.2</td>\n",
              "    </tr>\n",
              "    <tr>\n",
              "      <th>1</th>\n",
              "      <td>4.9</td>\n",
              "      <td>3.0</td>\n",
              "      <td>1.4</td>\n",
              "      <td>0.2</td>\n",
              "    </tr>\n",
              "    <tr>\n",
              "      <th>2</th>\n",
              "      <td>4.7</td>\n",
              "      <td>3.2</td>\n",
              "      <td>1.3</td>\n",
              "      <td>0.2</td>\n",
              "    </tr>\n",
              "    <tr>\n",
              "      <th>3</th>\n",
              "      <td>4.6</td>\n",
              "      <td>3.1</td>\n",
              "      <td>1.5</td>\n",
              "      <td>0.2</td>\n",
              "    </tr>\n",
              "    <tr>\n",
              "      <th>4</th>\n",
              "      <td>5.0</td>\n",
              "      <td>3.6</td>\n",
              "      <td>1.4</td>\n",
              "      <td>0.2</td>\n",
              "    </tr>\n",
              "  </tbody>\n",
              "</table>\n",
              "</div>"
            ],
            "text/plain": [
              "   SepalLengthCm  SepalWidthCm  PetalLengthCm  PetalWidthCm\n",
              "0            5.1           3.5            1.4           0.2\n",
              "1            4.9           3.0            1.4           0.2\n",
              "2            4.7           3.2            1.3           0.2\n",
              "3            4.6           3.1            1.5           0.2\n",
              "4            5.0           3.6            1.4           0.2"
            ]
          },
          "metadata": {
            "tags": []
          },
          "execution_count": 39
        }
      ]
    },
    {
      "cell_type": "code",
      "metadata": {
        "id": "bM322VSCYTKD",
        "colab": {
          "base_uri": "https://localhost:8080/",
          "height": 35
        },
        "outputId": "8f9b7383-c248-4649-9510-ad7f4625839c"
      },
      "source": [
        "from sklearn.preprocessing import StandardScaler\n",
        "\n",
        "df_scale = df[['SepalLengthCm', 'SepalWidthCm', 'PetalLengthCm', 'PetalWidthCm']]\n",
        "\n",
        "# instantiating the scaler\n",
        "scaler = StandardScaler()\n",
        "\n",
        "# fit and transform\n",
        "df_scale = scaler.fit_transform(df_scale)\n",
        "df_scale.shape"
      ],
      "execution_count": null,
      "outputs": [
        {
          "output_type": "execute_result",
          "data": {
            "text/plain": [
              "(150, 4)"
            ]
          },
          "metadata": {
            "tags": []
          },
          "execution_count": 40
        }
      ]
    },
    {
      "cell_type": "code",
      "metadata": {
        "id": "VGdYPcdBX-Ur"
      },
      "source": [
        "data = pd.DataFrame(df_scale)\n",
        "data.columns = ['SepalLengthCm', 'SepalWidthCm', 'PetalLengthCm', 'PetalWidthCm']\n",
        "\n",
        "data_cluster = data.copy()\n",
        "data.head()"
      ],
      "execution_count": null,
      "outputs": []
    },
    {
      "cell_type": "code",
      "metadata": {
        "id": "gAiibTqhYoTL",
        "colab": {
          "base_uri": "https://localhost:8080/",
          "height": 294
        },
        "outputId": "bea8b214-8d9c-40b4-af8a-980f6f12c0b1"
      },
      "source": [
        "data.describe()"
      ],
      "execution_count": null,
      "outputs": [
        {
          "output_type": "execute_result",
          "data": {
            "text/html": [
              "<div>\n",
              "<style scoped>\n",
              "    .dataframe tbody tr th:only-of-type {\n",
              "        vertical-align: middle;\n",
              "    }\n",
              "\n",
              "    .dataframe tbody tr th {\n",
              "        vertical-align: top;\n",
              "    }\n",
              "\n",
              "    .dataframe thead th {\n",
              "        text-align: right;\n",
              "    }\n",
              "</style>\n",
              "<table border=\"1\" class=\"dataframe\">\n",
              "  <thead>\n",
              "    <tr style=\"text-align: right;\">\n",
              "      <th></th>\n",
              "      <th>SepalLengthCm</th>\n",
              "      <th>SepalWidthCm</th>\n",
              "      <th>PetalLengthCm</th>\n",
              "      <th>PetalWidthCm</th>\n",
              "    </tr>\n",
              "  </thead>\n",
              "  <tbody>\n",
              "    <tr>\n",
              "      <th>count</th>\n",
              "      <td>1.500000e+02</td>\n",
              "      <td>1.500000e+02</td>\n",
              "      <td>1.500000e+02</td>\n",
              "      <td>1.500000e+02</td>\n",
              "    </tr>\n",
              "    <tr>\n",
              "      <th>mean</th>\n",
              "      <td>-2.775558e-16</td>\n",
              "      <td>-5.140333e-16</td>\n",
              "      <td>1.154632e-16</td>\n",
              "      <td>9.251859e-16</td>\n",
              "    </tr>\n",
              "    <tr>\n",
              "      <th>std</th>\n",
              "      <td>1.003350e+00</td>\n",
              "      <td>1.003350e+00</td>\n",
              "      <td>1.003350e+00</td>\n",
              "      <td>1.003350e+00</td>\n",
              "    </tr>\n",
              "    <tr>\n",
              "      <th>min</th>\n",
              "      <td>-1.870024e+00</td>\n",
              "      <td>-2.438987e+00</td>\n",
              "      <td>-1.568735e+00</td>\n",
              "      <td>-1.444450e+00</td>\n",
              "    </tr>\n",
              "    <tr>\n",
              "      <th>25%</th>\n",
              "      <td>-9.006812e-01</td>\n",
              "      <td>-5.877635e-01</td>\n",
              "      <td>-1.227541e+00</td>\n",
              "      <td>-1.181504e+00</td>\n",
              "    </tr>\n",
              "    <tr>\n",
              "      <th>50%</th>\n",
              "      <td>-5.250608e-02</td>\n",
              "      <td>-1.249576e-01</td>\n",
              "      <td>3.362659e-01</td>\n",
              "      <td>1.332259e-01</td>\n",
              "    </tr>\n",
              "    <tr>\n",
              "      <th>75%</th>\n",
              "      <td>6.745011e-01</td>\n",
              "      <td>5.692513e-01</td>\n",
              "      <td>7.627586e-01</td>\n",
              "      <td>7.905908e-01</td>\n",
              "    </tr>\n",
              "    <tr>\n",
              "      <th>max</th>\n",
              "      <td>2.492019e+00</td>\n",
              "      <td>3.114684e+00</td>\n",
              "      <td>1.786341e+00</td>\n",
              "      <td>1.710902e+00</td>\n",
              "    </tr>\n",
              "  </tbody>\n",
              "</table>\n",
              "</div>"
            ],
            "text/plain": [
              "       SepalLengthCm  SepalWidthCm  PetalLengthCm  PetalWidthCm\n",
              "count   1.500000e+02  1.500000e+02   1.500000e+02  1.500000e+02\n",
              "mean   -2.775558e-16 -5.140333e-16   1.154632e-16  9.251859e-16\n",
              "std     1.003350e+00  1.003350e+00   1.003350e+00  1.003350e+00\n",
              "min    -1.870024e+00 -2.438987e+00  -1.568735e+00 -1.444450e+00\n",
              "25%    -9.006812e-01 -5.877635e-01  -1.227541e+00 -1.181504e+00\n",
              "50%    -5.250608e-02 -1.249576e-01   3.362659e-01  1.332259e-01\n",
              "75%     6.745011e-01  5.692513e-01   7.627586e-01  7.905908e-01\n",
              "max     2.492019e+00  3.114684e+00   1.786341e+00  1.710902e+00"
            ]
          },
          "metadata": {
            "tags": []
          },
          "execution_count": 42
        }
      ]
    },
    {
      "cell_type": "code",
      "metadata": {
        "id": "BcWqPEROZX9L",
        "colab": {
          "base_uri": "https://localhost:8080/",
          "height": 313
        },
        "outputId": "0fad7d04-ecc7-4ae4-9a29-b7442a07df8c"
      },
      "source": [
        "# Menentukan jumlah K\n",
        "from sklearn.cluster import KMeans\n",
        "\n",
        "# buat list inertia\n",
        "clusters = []\n",
        "for i in range (1,11):\n",
        "    km = KMeans(n_clusters=i).fit(data)\n",
        "    clusters.append(km.inertia_)\n",
        "\n",
        "# tampilkan plot\n",
        "fig, ax = plt.subplots(figsize=(8,4))\n",
        "sns.lineplot(x=list(range(1,11)), y=clusters, ax=ax)\n",
        "ax.set_title('Elbow')\n",
        "ax.set_xlabel('Clusters')\n",
        "ax.set_ylabel('Inertia')"
      ],
      "execution_count": null,
      "outputs": [
        {
          "output_type": "execute_result",
          "data": {
            "text/plain": [
              "Text(0, 0.5, 'Inertia')"
            ]
          },
          "metadata": {
            "tags": []
          },
          "execution_count": 43
        },
        {
          "output_type": "display_data",
          "data": {
            "image/png": "[encoded data removed]",
            "text/plain": [
              "<Figure size 576x288 with 1 Axes>"
            ]
          },
          "metadata": {
            "tags": [],
            "needs_background": "light"
          }
        }
      ]
    },
    {
      "cell_type": "code",
      "metadata": {
        "id": "sx1kxTn2ZvqD",
        "colab": {
          "base_uri": "https://localhost:8080/",
          "height": 415
        },
        "outputId": "534b03af-2cdc-4280-af3d-3ff0c40489c5"
      },
      "source": [
        "## Melatih model\n",
        "# Create Model\n",
        "model_kmeans3 = KMeans(n_clusters=3)\n",
        "model_kmeans4 = KMeans(n_clusters=4)\n",
        "\n",
        "# Train Model   \n",
        "model_kmeans3.fit(data)\n",
        "model_kmeans4.fit(data)\n",
        "\n",
        "# Menambah Label pada data\n",
        "data_cluster['cluster_kmeans3'] = model_kmeans3.labels_\n",
        "data_cluster['cluster_kmeans4'] = model_kmeans4.labels_\n",
        "\n",
        "data_cluster"
      ],
      "execution_count": null,
      "outputs": [
        {
          "output_type": "execute_result",
          "data": {
            "text/html": [
              "<div>\n",
              "<style scoped>\n",
              "    .dataframe tbody tr th:only-of-type {\n",
              "        vertical-align: middle;\n",
              "    }\n",
              "\n",
              "    .dataframe tbody tr th {\n",
              "        vertical-align: top;\n",
              "    }\n",
              "\n",
              "    .dataframe thead th {\n",
              "        text-align: right;\n",
              "    }\n",
              "</style>\n",
              "<table border=\"1\" class=\"dataframe\">\n",
              "  <thead>\n",
              "    <tr style=\"text-align: right;\">\n",
              "      <th></th>\n",
              "      <th>SepalLengthCm</th>\n",
              "      <th>SepalWidthCm</th>\n",
              "      <th>PetalLengthCm</th>\n",
              "      <th>PetalWidthCm</th>\n",
              "      <th>cluster_kmeans3</th>\n",
              "      <th>cluster_kmeans4</th>\n",
              "    </tr>\n",
              "  </thead>\n",
              "  <tbody>\n",
              "    <tr>\n",
              "      <th>0</th>\n",
              "      <td>-0.900681</td>\n",
              "      <td>1.032057</td>\n",
              "      <td>-1.341272</td>\n",
              "      <td>-1.312977</td>\n",
              "      <td>0</td>\n",
              "      <td>1</td>\n",
              "    </tr>\n",
              "    <tr>\n",
              "      <th>1</th>\n",
              "      <td>-1.143017</td>\n",
              "      <td>-0.124958</td>\n",
              "      <td>-1.341272</td>\n",
              "      <td>-1.312977</td>\n",
              "      <td>0</td>\n",
              "      <td>3</td>\n",
              "    </tr>\n",
              "    <tr>\n",
              "      <th>2</th>\n",
              "      <td>-1.385353</td>\n",
              "      <td>0.337848</td>\n",
              "      <td>-1.398138</td>\n",
              "      <td>-1.312977</td>\n",
              "      <td>0</td>\n",
              "      <td>3</td>\n",
              "    </tr>\n",
              "    <tr>\n",
              "      <th>3</th>\n",
              "      <td>-1.506521</td>\n",
              "      <td>0.106445</td>\n",
              "      <td>-1.284407</td>\n",
              "      <td>-1.312977</td>\n",
              "      <td>0</td>\n",
              "      <td>3</td>\n",
              "    </tr>\n",
              "    <tr>\n",
              "      <th>4</th>\n",
              "      <td>-1.021849</td>\n",
              "      <td>1.263460</td>\n",
              "      <td>-1.341272</td>\n",
              "      <td>-1.312977</td>\n",
              "      <td>0</td>\n",
              "      <td>1</td>\n",
              "    </tr>\n",
              "    <tr>\n",
              "      <th>...</th>\n",
              "      <td>...</td>\n",
              "      <td>...</td>\n",
              "      <td>...</td>\n",
              "      <td>...</td>\n",
              "      <td>...</td>\n",
              "      <td>...</td>\n",
              "    </tr>\n",
              "    <tr>\n",
              "      <th>145</th>\n",
              "      <td>1.038005</td>\n",
              "      <td>-0.124958</td>\n",
              "      <td>0.819624</td>\n",
              "      <td>1.447956</td>\n",
              "      <td>1</td>\n",
              "      <td>2</td>\n",
              "    </tr>\n",
              "    <tr>\n",
              "      <th>146</th>\n",
              "      <td>0.553333</td>\n",
              "      <td>-1.281972</td>\n",
              "      <td>0.705893</td>\n",
              "      <td>0.922064</td>\n",
              "      <td>2</td>\n",
              "      <td>0</td>\n",
              "    </tr>\n",
              "    <tr>\n",
              "      <th>147</th>\n",
              "      <td>0.795669</td>\n",
              "      <td>-0.124958</td>\n",
              "      <td>0.819624</td>\n",
              "      <td>1.053537</td>\n",
              "      <td>1</td>\n",
              "      <td>2</td>\n",
              "    </tr>\n",
              "    <tr>\n",
              "      <th>148</th>\n",
              "      <td>0.432165</td>\n",
              "      <td>0.800654</td>\n",
              "      <td>0.933356</td>\n",
              "      <td>1.447956</td>\n",
              "      <td>1</td>\n",
              "      <td>2</td>\n",
              "    </tr>\n",
              "    <tr>\n",
              "      <th>149</th>\n",
              "      <td>0.068662</td>\n",
              "      <td>-0.124958</td>\n",
              "      <td>0.762759</td>\n",
              "      <td>0.790591</td>\n",
              "      <td>2</td>\n",
              "      <td>0</td>\n",
              "    </tr>\n",
              "  </tbody>\n",
              "</table>\n",
              "<p>150 rows × 6 columns</p>\n",
              "</div>"
            ],
            "text/plain": [
              "     SepalLengthCm  SepalWidthCm  ...  cluster_kmeans3  cluster_kmeans4\n",
              "0        -0.900681      1.032057  ...                0                1\n",
              "1        -1.143017     -0.124958  ...                0                3\n",
              "2        -1.385353      0.337848  ...                0                3\n",
              "3        -1.506521      0.106445  ...                0                3\n",
              "4        -1.021849      1.263460  ...                0                1\n",
              "..             ...           ...  ...              ...              ...\n",
              "145       1.038005     -0.124958  ...                1                2\n",
              "146       0.553333     -1.281972  ...                2                0\n",
              "147       0.795669     -0.124958  ...                1                2\n",
              "148       0.432165      0.800654  ...                1                2\n",
              "149       0.068662     -0.124958  ...                2                0\n",
              "\n",
              "[150 rows x 6 columns]"
            ]
          },
          "metadata": {
            "tags": []
          },
          "execution_count": 44
        }
      ]
    },
    {
      "cell_type": "code",
      "metadata": {
        "id": "XbvqdPQ9Z8_j",
        "colab": {
          "base_uri": "https://localhost:8080/",
          "height": 573
        },
        "outputId": "43dfc02a-69ce-430e-81f1-8d5b2017f8bd"
      },
      "source": [
        "plt.figure(figsize=(8,4))\n",
        "sns.scatterplot(data_cluster['SepalWidthCm'], data_cluster['SepalLengthCm'], hue=data_cluster['cluster_kmeans3'],palette=sns.color_palette('hls',3))\n",
        "plt.title(' KMeans 3 cluster')\n",
        "\n",
        "plt.figure(figsize=(8,4))\n",
        "sns.scatterplot(data_cluster['SepalWidthCm'], data_cluster['SepalLengthCm'], hue=data_cluster['cluster_kmeans4'],palette=sns.color_palette('hls',4))\n",
        "plt.title(' KMeans 4 cluster')\n",
        "plt.show()"
      ],
      "execution_count": null,
      "outputs": [
        {
          "output_type": "display_data",
          "data": {
            "image/png": "[encoded data removed]",
            "text/plain": [
              "<Figure size 576x288 with 1 Axes>"
            ]
          },
          "metadata": {
            "tags": [],
            "needs_background": "light"
          }
        },
        {
          "output_type": "display_data",
          "data": {
            "image/png": "[encoded data removed]",
            "text/plain": [
              "<Figure size 576x288 with 1 Axes>"
            ]
          },
          "metadata": {
            "tags": [],
            "needs_background": "light"
          }
        }
      ]
    },
    {
      "cell_type": "code",
      "metadata": {
        "id": "KEdViUo-bN47",
        "colab": {
          "base_uri": "https://localhost:8080/",
          "height": 415
        },
        "outputId": "8699b3f9-5e77-4546-f700-6544e447c502"
      },
      "source": [
        "data"
      ],
      "execution_count": null,
      "outputs": [
        {
          "output_type": "execute_result",
          "data": {
            "text/html": [
              "<div>\n",
              "<style scoped>\n",
              "    .dataframe tbody tr th:only-of-type {\n",
              "        vertical-align: middle;\n",
              "    }\n",
              "\n",
              "    .dataframe tbody tr th {\n",
              "        vertical-align: top;\n",
              "    }\n",
              "\n",
              "    .dataframe thead th {\n",
              "        text-align: right;\n",
              "    }\n",
              "</style>\n",
              "<table border=\"1\" class=\"dataframe\">\n",
              "  <thead>\n",
              "    <tr style=\"text-align: right;\">\n",
              "      <th></th>\n",
              "      <th>SepalLengthCm</th>\n",
              "      <th>SepalWidthCm</th>\n",
              "      <th>PetalLengthCm</th>\n",
              "      <th>PetalWidthCm</th>\n",
              "    </tr>\n",
              "  </thead>\n",
              "  <tbody>\n",
              "    <tr>\n",
              "      <th>0</th>\n",
              "      <td>-0.900681</td>\n",
              "      <td>1.032057</td>\n",
              "      <td>-1.341272</td>\n",
              "      <td>-1.312977</td>\n",
              "    </tr>\n",
              "    <tr>\n",
              "      <th>1</th>\n",
              "      <td>-1.143017</td>\n",
              "      <td>-0.124958</td>\n",
              "      <td>-1.341272</td>\n",
              "      <td>-1.312977</td>\n",
              "    </tr>\n",
              "    <tr>\n",
              "      <th>2</th>\n",
              "      <td>-1.385353</td>\n",
              "      <td>0.337848</td>\n",
              "      <td>-1.398138</td>\n",
              "      <td>-1.312977</td>\n",
              "    </tr>\n",
              "    <tr>\n",
              "      <th>3</th>\n",
              "      <td>-1.506521</td>\n",
              "      <td>0.106445</td>\n",
              "      <td>-1.284407</td>\n",
              "      <td>-1.312977</td>\n",
              "    </tr>\n",
              "    <tr>\n",
              "      <th>4</th>\n",
              "      <td>-1.021849</td>\n",
              "      <td>1.263460</td>\n",
              "      <td>-1.341272</td>\n",
              "      <td>-1.312977</td>\n",
              "    </tr>\n",
              "    <tr>\n",
              "      <th>...</th>\n",
              "      <td>...</td>\n",
              "      <td>...</td>\n",
              "      <td>...</td>\n",
              "      <td>...</td>\n",
              "    </tr>\n",
              "    <tr>\n",
              "      <th>145</th>\n",
              "      <td>1.038005</td>\n",
              "      <td>-0.124958</td>\n",
              "      <td>0.819624</td>\n",
              "      <td>1.447956</td>\n",
              "    </tr>\n",
              "    <tr>\n",
              "      <th>146</th>\n",
              "      <td>0.553333</td>\n",
              "      <td>-1.281972</td>\n",
              "      <td>0.705893</td>\n",
              "      <td>0.922064</td>\n",
              "    </tr>\n",
              "    <tr>\n",
              "      <th>147</th>\n",
              "      <td>0.795669</td>\n",
              "      <td>-0.124958</td>\n",
              "      <td>0.819624</td>\n",
              "      <td>1.053537</td>\n",
              "    </tr>\n",
              "    <tr>\n",
              "      <th>148</th>\n",
              "      <td>0.432165</td>\n",
              "      <td>0.800654</td>\n",
              "      <td>0.933356</td>\n",
              "      <td>1.447956</td>\n",
              "    </tr>\n",
              "    <tr>\n",
              "      <th>149</th>\n",
              "      <td>0.068662</td>\n",
              "      <td>-0.124958</td>\n",
              "      <td>0.762759</td>\n",
              "      <td>0.790591</td>\n",
              "    </tr>\n",
              "  </tbody>\n",
              "</table>\n",
              "<p>150 rows × 4 columns</p>\n",
              "</div>"
            ],
            "text/plain": [
              "     SepalLengthCm  SepalWidthCm  PetalLengthCm  PetalWidthCm\n",
              "0        -0.900681      1.032057      -1.341272     -1.312977\n",
              "1        -1.143017     -0.124958      -1.341272     -1.312977\n",
              "2        -1.385353      0.337848      -1.398138     -1.312977\n",
              "3        -1.506521      0.106445      -1.284407     -1.312977\n",
              "4        -1.021849      1.263460      -1.341272     -1.312977\n",
              "..             ...           ...            ...           ...\n",
              "145       1.038005     -0.124958       0.819624      1.447956\n",
              "146       0.553333     -1.281972       0.705893      0.922064\n",
              "147       0.795669     -0.124958       0.819624      1.053537\n",
              "148       0.432165      0.800654       0.933356      1.447956\n",
              "149       0.068662     -0.124958       0.762759      0.790591\n",
              "\n",
              "[150 rows x 4 columns]"
            ]
          },
          "metadata": {
            "tags": []
          },
          "execution_count": 46
        }
      ]
    },
    {
      "cell_type": "code",
      "metadata": {
        "id": "hzDev6z4bagh"
      },
      "source": [
        "from scipy.cluster.hierarchy import linkage\n",
        "from scipy.cluster.hierarchy import dendrogram\n",
        "from scipy.cluster.hierarchy import cut_tree"
      ],
      "execution_count": null,
      "outputs": []
    },
    {
      "cell_type": "code",
      "metadata": {
        "id": "7culbvrVcEKq",
        "colab": {
          "base_uri": "https://localhost:8080/",
          "height": 281
        },
        "outputId": "44a3cb3e-a232-4cec-ec1e-9f425510352e"
      },
      "source": [
        "mergings_single = linkage(data, method=\"single\", metric='euclidean')\n",
        "dendrogram(mergings_single)\n",
        "plt.title(\"Single Linkage\")\n",
        "plt.show()"
      ],
      "execution_count": null,
      "outputs": [
        {
          "output_type": "display_data",
          "data": {
            "image/png": "[encoded data removed]",
            "text/plain": [
              "<Figure size 432x288 with 1 Axes>"
            ]
          },
          "metadata": {
            "tags": [],
            "needs_background": "light"
          }
        }
      ]
    },
    {
      "cell_type": "code",
      "metadata": {
        "id": "Qu8NFg7icNlL",
        "colab": {
          "base_uri": "https://localhost:8080/",
          "height": 281
        },
        "outputId": "55a22cd3-5a21-4f73-adbd-b1466d371240"
      },
      "source": [
        "mergings_complete = linkage(data, method=\"complete\", metric='euclidean')\n",
        "dendrogram(mergings_complete)\n",
        "plt.title(\"Complete Linkage\")\n",
        "plt.show()"
      ],
      "execution_count": null,
      "outputs": [
        {
          "output_type": "display_data",
          "data": {
            "image/png": "[encoded data removed]",
            "text/plain": [
              "<Figure size 432x288 with 1 Axes>"
            ]
          },
          "metadata": {
            "tags": [],
            "needs_background": "light"
          }
        }
      ]
    },
    {
      "cell_type": "code",
      "metadata": {
        "id": "msT3MdsBcUYb",
        "colab": {
          "base_uri": "https://localhost:8080/",
          "height": 139
        },
        "outputId": "3b797e83-b5e7-424d-e442-e3b03fce67d3"
      },
      "source": [
        "cluster_hierarchy = cut_tree(mergings_complete, n_clusters=3).reshape(-1, )\n",
        "cluster_hierarchy"
      ],
      "execution_count": null,
      "outputs": [
        {
          "output_type": "execute_result",
          "data": {
            "text/plain": [
              "array([0, 0, 0, 0, 0, 0, 0, 0, 0, 0, 0, 0, 0, 0, 0, 0, 0, 0, 0, 0, 0, 0,\n",
              "       0, 0, 0, 0, 0, 0, 0, 0, 0, 0, 0, 0, 0, 0, 0, 0, 0, 0, 0, 1, 0, 0,\n",
              "       0, 0, 0, 0, 0, 0, 2, 2, 2, 1, 2, 1, 2, 1, 2, 1, 1, 2, 1, 2, 2, 2,\n",
              "       2, 1, 1, 1, 2, 2, 2, 2, 2, 2, 2, 2, 2, 1, 1, 1, 1, 2, 2, 2, 2, 1,\n",
              "       2, 1, 1, 2, 1, 1, 1, 2, 2, 2, 1, 1, 2, 2, 2, 2, 2, 2, 1, 2, 2, 2,\n",
              "       2, 2, 2, 2, 2, 2, 2, 2, 2, 1, 2, 2, 2, 2, 2, 2, 2, 2, 2, 2, 2, 2,\n",
              "       2, 2, 2, 2, 2, 2, 2, 2, 2, 2, 2, 2, 2, 2, 2, 2, 2, 2])"
            ]
          },
          "metadata": {
            "tags": []
          },
          "execution_count": 50
        }
      ]
    },
    {
      "cell_type": "code",
      "metadata": {
        "id": "606WIrNMcaKj",
        "colab": {
          "base_uri": "https://localhost:8080/",
          "height": 183
        },
        "outputId": "063463ff-e515-488f-9a9f-3e0a009de9f7"
      },
      "source": [
        "data_cluster['cluster_hierarchy'] = cluster_hierarchy\n",
        "data_cluster"
      ],
      "execution_count": null,
      "outputs": [
        {
          "output_type": "error",
          "ename": "NameError",
          "evalue": "ignored",
          "traceback": [
            "\u001b[0;31m---------------------------------------------------------------------------\u001b[0m",
            "\u001b[0;31mNameError\u001b[0m                                 Traceback (most recent call last)",
            "\u001b[0;32m<ipython-input-1-4ef39e885b0c>\u001b[0m in \u001b[0;36m<module>\u001b[0;34m()\u001b[0m\n\u001b[0;32m----> 1\u001b[0;31m \u001b[0mdata_cluster\u001b[0m\u001b[0;34m[\u001b[0m\u001b[0;34m'cluster_hierarchy'\u001b[0m\u001b[0;34m]\u001b[0m \u001b[0;34m=\u001b[0m \u001b[0mcluster_hierarchy\u001b[0m\u001b[0;34m\u001b[0m\u001b[0;34m\u001b[0m\u001b[0m\n\u001b[0m\u001b[1;32m      2\u001b[0m \u001b[0mdata_cluster\u001b[0m\u001b[0;34m\u001b[0m\u001b[0;34m\u001b[0m\u001b[0m\n",
            "\u001b[0;31mNameError\u001b[0m: name 'cluster_hierarchy' is not defined"
          ]
        }
      ]
    },
    {
      "cell_type": "code",
      "metadata": {
        "id": "__BUB8pocfBC",
        "colab": {
          "base_uri": "https://localhost:8080/",
          "height": 313
        },
        "outputId": "096fa5a7-1c0c-4c1e-c8d2-f30c6c31cb02"
      },
      "source": [
        "plt.figure(figsize=(8,4))\n",
        "sns.scatterplot(data_cluster['SepalWidthCm'], data_cluster['PetalWidthCm'], hue=data_cluster['cluster_hierarchy'], palette=sns.color_palette('hls',3))\n",
        "plt.title(' Hierarchical Clustering')"
      ],
      "execution_count": null,
      "outputs": [
        {
          "output_type": "execute_result",
          "data": {
            "text/plain": [
              "Text(0.5, 1.0, ' Hierarchical Clustering')"
            ]
          },
          "metadata": {
            "tags": []
          },
          "execution_count": 52
        },
        {
          "output_type": "display_data",
          "data": {
            "image/png": "[encoded data removed]",
            "text/plain": [
              "<Figure size 576x288 with 1 Axes>"
            ]
          },
          "metadata": {
            "tags": [],
            "needs_background": "light"
          }
        }
      ]
    },
    {
      "cell_type": "code",
      "metadata": {
        "id": "urKBIjyucqpx",
        "colab": {
          "base_uri": "https://localhost:8080/",
          "height": 415
        },
        "outputId": "dd10743e-2737-4227-e3b0-e8435917bd03"
      },
      "source": [
        "data"
      ],
      "execution_count": null,
      "outputs": [
        {
          "output_type": "execute_result",
          "data": {
            "text/html": [
              "<div>\n",
              "<style scoped>\n",
              "    .dataframe tbody tr th:only-of-type {\n",
              "        vertical-align: middle;\n",
              "    }\n",
              "\n",
              "    .dataframe tbody tr th {\n",
              "        vertical-align: top;\n",
              "    }\n",
              "\n",
              "    .dataframe thead th {\n",
              "        text-align: right;\n",
              "    }\n",
              "</style>\n",
              "<table border=\"1\" class=\"dataframe\">\n",
              "  <thead>\n",
              "    <tr style=\"text-align: right;\">\n",
              "      <th></th>\n",
              "      <th>SepalLengthCm</th>\n",
              "      <th>SepalWidthCm</th>\n",
              "      <th>PetalLengthCm</th>\n",
              "      <th>PetalWidthCm</th>\n",
              "    </tr>\n",
              "  </thead>\n",
              "  <tbody>\n",
              "    <tr>\n",
              "      <th>0</th>\n",
              "      <td>-0.900681</td>\n",
              "      <td>1.032057</td>\n",
              "      <td>-1.341272</td>\n",
              "      <td>-1.312977</td>\n",
              "    </tr>\n",
              "    <tr>\n",
              "      <th>1</th>\n",
              "      <td>-1.143017</td>\n",
              "      <td>-0.124958</td>\n",
              "      <td>-1.341272</td>\n",
              "      <td>-1.312977</td>\n",
              "    </tr>\n",
              "    <tr>\n",
              "      <th>2</th>\n",
              "      <td>-1.385353</td>\n",
              "      <td>0.337848</td>\n",
              "      <td>-1.398138</td>\n",
              "      <td>-1.312977</td>\n",
              "    </tr>\n",
              "    <tr>\n",
              "      <th>3</th>\n",
              "      <td>-1.506521</td>\n",
              "      <td>0.106445</td>\n",
              "      <td>-1.284407</td>\n",
              "      <td>-1.312977</td>\n",
              "    </tr>\n",
              "    <tr>\n",
              "      <th>4</th>\n",
              "      <td>-1.021849</td>\n",
              "      <td>1.263460</td>\n",
              "      <td>-1.341272</td>\n",
              "      <td>-1.312977</td>\n",
              "    </tr>\n",
              "    <tr>\n",
              "      <th>...</th>\n",
              "      <td>...</td>\n",
              "      <td>...</td>\n",
              "      <td>...</td>\n",
              "      <td>...</td>\n",
              "    </tr>\n",
              "    <tr>\n",
              "      <th>145</th>\n",
              "      <td>1.038005</td>\n",
              "      <td>-0.124958</td>\n",
              "      <td>0.819624</td>\n",
              "      <td>1.447956</td>\n",
              "    </tr>\n",
              "    <tr>\n",
              "      <th>146</th>\n",
              "      <td>0.553333</td>\n",
              "      <td>-1.281972</td>\n",
              "      <td>0.705893</td>\n",
              "      <td>0.922064</td>\n",
              "    </tr>\n",
              "    <tr>\n",
              "      <th>147</th>\n",
              "      <td>0.795669</td>\n",
              "      <td>-0.124958</td>\n",
              "      <td>0.819624</td>\n",
              "      <td>1.053537</td>\n",
              "    </tr>\n",
              "    <tr>\n",
              "      <th>148</th>\n",
              "      <td>0.432165</td>\n",
              "      <td>0.800654</td>\n",
              "      <td>0.933356</td>\n",
              "      <td>1.447956</td>\n",
              "    </tr>\n",
              "    <tr>\n",
              "      <th>149</th>\n",
              "      <td>0.068662</td>\n",
              "      <td>-0.124958</td>\n",
              "      <td>0.762759</td>\n",
              "      <td>0.790591</td>\n",
              "    </tr>\n",
              "  </tbody>\n",
              "</table>\n",
              "<p>150 rows × 4 columns</p>\n",
              "</div>"
            ],
            "text/plain": [
              "     SepalLengthCm  SepalWidthCm  PetalLengthCm  PetalWidthCm\n",
              "0        -0.900681      1.032057      -1.341272     -1.312977\n",
              "1        -1.143017     -0.124958      -1.341272     -1.312977\n",
              "2        -1.385353      0.337848      -1.398138     -1.312977\n",
              "3        -1.506521      0.106445      -1.284407     -1.312977\n",
              "4        -1.021849      1.263460      -1.341272     -1.312977\n",
              "..             ...           ...            ...           ...\n",
              "145       1.038005     -0.124958       0.819624      1.447956\n",
              "146       0.553333     -1.281972       0.705893      0.922064\n",
              "147       0.795669     -0.124958       0.819624      1.053537\n",
              "148       0.432165      0.800654       0.933356      1.447956\n",
              "149       0.068662     -0.124958       0.762759      0.790591\n",
              "\n",
              "[150 rows x 4 columns]"
            ]
          },
          "metadata": {
            "tags": []
          },
          "execution_count": 53
        }
      ]
    },
    {
      "cell_type": "code",
      "metadata": {
        "id": "Q33QRcyWdLKL"
      },
      "source": [
        "from sklearn.cluster import DBSCAN"
      ],
      "execution_count": null,
      "outputs": []
    },
    {
      "cell_type": "code",
      "metadata": {
        "id": "C1gLHW_6dMtS",
        "colab": {
          "base_uri": "https://localhost:8080/",
          "height": 52
        },
        "outputId": "00e9a662-afcf-4688-eeef-7e50c0e539bb"
      },
      "source": [
        "# create an object\n",
        "db = DBSCAN(eps=0.5, min_samples=5, metric='euclidean')\n",
        "\n",
        "# fit the model\n",
        "db.fit(data)"
      ],
      "execution_count": null,
      "outputs": [
        {
          "output_type": "execute_result",
          "data": {
            "text/plain": [
              "DBSCAN(algorithm='auto', eps=0.5, leaf_size=30, metric='euclidean',\n",
              "       metric_params=None, min_samples=5, n_jobs=None, p=None)"
            ]
          },
          "metadata": {
            "tags": []
          },
          "execution_count": 55
        }
      ]
    },
    {
      "cell_type": "code",
      "metadata": {
        "id": "kRmWyfI5dPDj",
        "colab": {
          "base_uri": "https://localhost:8080/",
          "height": 415
        },
        "outputId": "a0e63ad7-7432-4f63-9083-399b4a4010dc"
      },
      "source": [
        "data_cluster['cluster_dbscan'] = db.labels_\n",
        "data_cluster"
      ],
      "execution_count": null,
      "outputs": [
        {
          "output_type": "execute_result",
          "data": {
            "text/html": [
              "<div>\n",
              "<style scoped>\n",
              "    .dataframe tbody tr th:only-of-type {\n",
              "        vertical-align: middle;\n",
              "    }\n",
              "\n",
              "    .dataframe tbody tr th {\n",
              "        vertical-align: top;\n",
              "    }\n",
              "\n",
              "    .dataframe thead th {\n",
              "        text-align: right;\n",
              "    }\n",
              "</style>\n",
              "<table border=\"1\" class=\"dataframe\">\n",
              "  <thead>\n",
              "    <tr style=\"text-align: right;\">\n",
              "      <th></th>\n",
              "      <th>SepalLengthCm</th>\n",
              "      <th>SepalWidthCm</th>\n",
              "      <th>PetalLengthCm</th>\n",
              "      <th>PetalWidthCm</th>\n",
              "      <th>cluster_kmeans3</th>\n",
              "      <th>cluster_kmeans4</th>\n",
              "      <th>cluster_hierarchy</th>\n",
              "      <th>cluster_dbscan</th>\n",
              "    </tr>\n",
              "  </thead>\n",
              "  <tbody>\n",
              "    <tr>\n",
              "      <th>0</th>\n",
              "      <td>-0.900681</td>\n",
              "      <td>1.032057</td>\n",
              "      <td>-1.341272</td>\n",
              "      <td>-1.312977</td>\n",
              "      <td>0</td>\n",
              "      <td>1</td>\n",
              "      <td>0</td>\n",
              "      <td>0</td>\n",
              "    </tr>\n",
              "    <tr>\n",
              "      <th>1</th>\n",
              "      <td>-1.143017</td>\n",
              "      <td>-0.124958</td>\n",
              "      <td>-1.341272</td>\n",
              "      <td>-1.312977</td>\n",
              "      <td>0</td>\n",
              "      <td>3</td>\n",
              "      <td>0</td>\n",
              "      <td>0</td>\n",
              "    </tr>\n",
              "    <tr>\n",
              "      <th>2</th>\n",
              "      <td>-1.385353</td>\n",
              "      <td>0.337848</td>\n",
              "      <td>-1.398138</td>\n",
              "      <td>-1.312977</td>\n",
              "      <td>0</td>\n",
              "      <td>3</td>\n",
              "      <td>0</td>\n",
              "      <td>0</td>\n",
              "    </tr>\n",
              "    <tr>\n",
              "      <th>3</th>\n",
              "      <td>-1.506521</td>\n",
              "      <td>0.106445</td>\n",
              "      <td>-1.284407</td>\n",
              "      <td>-1.312977</td>\n",
              "      <td>0</td>\n",
              "      <td>3</td>\n",
              "      <td>0</td>\n",
              "      <td>0</td>\n",
              "    </tr>\n",
              "    <tr>\n",
              "      <th>4</th>\n",
              "      <td>-1.021849</td>\n",
              "      <td>1.263460</td>\n",
              "      <td>-1.341272</td>\n",
              "      <td>-1.312977</td>\n",
              "      <td>0</td>\n",
              "      <td>1</td>\n",
              "      <td>0</td>\n",
              "      <td>0</td>\n",
              "    </tr>\n",
              "    <tr>\n",
              "      <th>...</th>\n",
              "      <td>...</td>\n",
              "      <td>...</td>\n",
              "      <td>...</td>\n",
              "      <td>...</td>\n",
              "      <td>...</td>\n",
              "      <td>...</td>\n",
              "      <td>...</td>\n",
              "      <td>...</td>\n",
              "    </tr>\n",
              "    <tr>\n",
              "      <th>145</th>\n",
              "      <td>1.038005</td>\n",
              "      <td>-0.124958</td>\n",
              "      <td>0.819624</td>\n",
              "      <td>1.447956</td>\n",
              "      <td>1</td>\n",
              "      <td>2</td>\n",
              "      <td>2</td>\n",
              "      <td>1</td>\n",
              "    </tr>\n",
              "    <tr>\n",
              "      <th>146</th>\n",
              "      <td>0.553333</td>\n",
              "      <td>-1.281972</td>\n",
              "      <td>0.705893</td>\n",
              "      <td>0.922064</td>\n",
              "      <td>2</td>\n",
              "      <td>0</td>\n",
              "      <td>2</td>\n",
              "      <td>1</td>\n",
              "    </tr>\n",
              "    <tr>\n",
              "      <th>147</th>\n",
              "      <td>0.795669</td>\n",
              "      <td>-0.124958</td>\n",
              "      <td>0.819624</td>\n",
              "      <td>1.053537</td>\n",
              "      <td>1</td>\n",
              "      <td>2</td>\n",
              "      <td>2</td>\n",
              "      <td>1</td>\n",
              "    </tr>\n",
              "    <tr>\n",
              "      <th>148</th>\n",
              "      <td>0.432165</td>\n",
              "      <td>0.800654</td>\n",
              "      <td>0.933356</td>\n",
              "      <td>1.447956</td>\n",
              "      <td>1</td>\n",
              "      <td>2</td>\n",
              "      <td>2</td>\n",
              "      <td>-1</td>\n",
              "    </tr>\n",
              "    <tr>\n",
              "      <th>149</th>\n",
              "      <td>0.068662</td>\n",
              "      <td>-0.124958</td>\n",
              "      <td>0.762759</td>\n",
              "      <td>0.790591</td>\n",
              "      <td>2</td>\n",
              "      <td>0</td>\n",
              "      <td>2</td>\n",
              "      <td>1</td>\n",
              "    </tr>\n",
              "  </tbody>\n",
              "</table>\n",
              "<p>150 rows × 8 columns</p>\n",
              "</div>"
            ],
            "text/plain": [
              "     SepalLengthCm  SepalWidthCm  ...  cluster_hierarchy  cluster_dbscan\n",
              "0        -0.900681      1.032057  ...                  0               0\n",
              "1        -1.143017     -0.124958  ...                  0               0\n",
              "2        -1.385353      0.337848  ...                  0               0\n",
              "3        -1.506521      0.106445  ...                  0               0\n",
              "4        -1.021849      1.263460  ...                  0               0\n",
              "..             ...           ...  ...                ...             ...\n",
              "145       1.038005     -0.124958  ...                  2               1\n",
              "146       0.553333     -1.281972  ...                  2               1\n",
              "147       0.795669     -0.124958  ...                  2               1\n",
              "148       0.432165      0.800654  ...                  2              -1\n",
              "149       0.068662     -0.124958  ...                  2               1\n",
              "\n",
              "[150 rows x 8 columns]"
            ]
          },
          "metadata": {
            "tags": []
          },
          "execution_count": 56
        }
      ]
    },
    {
      "cell_type": "code",
      "metadata": {
        "id": "jeqvZayxdZCy",
        "colab": {
          "base_uri": "https://localhost:8080/",
          "height": 294
        },
        "outputId": "6c16e94e-7aaf-4ad4-bfa4-0df9b97cf3b0"
      },
      "source": [
        "data_cluster.describe()"
      ],
      "execution_count": null,
      "outputs": [
        {
          "output_type": "execute_result",
          "data": {
            "text/html": [
              "<div>\n",
              "<style scoped>\n",
              "    .dataframe tbody tr th:only-of-type {\n",
              "        vertical-align: middle;\n",
              "    }\n",
              "\n",
              "    .dataframe tbody tr th {\n",
              "        vertical-align: top;\n",
              "    }\n",
              "\n",
              "    .dataframe thead th {\n",
              "        text-align: right;\n",
              "    }\n",
              "</style>\n",
              "<table border=\"1\" class=\"dataframe\">\n",
              "  <thead>\n",
              "    <tr style=\"text-align: right;\">\n",
              "      <th></th>\n",
              "      <th>SepalLengthCm</th>\n",
              "      <th>SepalWidthCm</th>\n",
              "      <th>PetalLengthCm</th>\n",
              "      <th>PetalWidthCm</th>\n",
              "      <th>cluster_kmeans3</th>\n",
              "      <th>cluster_kmeans4</th>\n",
              "      <th>cluster_hierarchy</th>\n",
              "      <th>cluster_dbscan</th>\n",
              "    </tr>\n",
              "  </thead>\n",
              "  <tbody>\n",
              "    <tr>\n",
              "      <th>count</th>\n",
              "      <td>1.500000e+02</td>\n",
              "      <td>1.500000e+02</td>\n",
              "      <td>1.500000e+02</td>\n",
              "      <td>1.500000e+02</td>\n",
              "      <td>150.000000</td>\n",
              "      <td>150.000000</td>\n",
              "      <td>150.000000</td>\n",
              "      <td>150.000000</td>\n",
              "    </tr>\n",
              "    <tr>\n",
              "      <th>mean</th>\n",
              "      <td>-2.775558e-16</td>\n",
              "      <td>-5.140333e-16</td>\n",
              "      <td>1.154632e-16</td>\n",
              "      <td>9.251859e-16</td>\n",
              "      <td>1.020000</td>\n",
              "      <td>1.320000</td>\n",
              "      <td>1.186667</td>\n",
              "      <td>0.240000</td>\n",
              "    </tr>\n",
              "    <tr>\n",
              "      <th>std</th>\n",
              "      <td>1.003350e+00</td>\n",
              "      <td>1.003350e+00</td>\n",
              "      <td>1.003350e+00</td>\n",
              "      <td>1.003350e+00</td>\n",
              "      <td>0.831187</td>\n",
              "      <td>1.125185</td>\n",
              "      <td>0.900311</td>\n",
              "      <td>0.808346</td>\n",
              "    </tr>\n",
              "    <tr>\n",
              "      <th>min</th>\n",
              "      <td>-1.870024e+00</td>\n",
              "      <td>-2.438987e+00</td>\n",
              "      <td>-1.568735e+00</td>\n",
              "      <td>-1.444450e+00</td>\n",
              "      <td>0.000000</td>\n",
              "      <td>0.000000</td>\n",
              "      <td>0.000000</td>\n",
              "      <td>-1.000000</td>\n",
              "    </tr>\n",
              "    <tr>\n",
              "      <th>25%</th>\n",
              "      <td>-9.006812e-01</td>\n",
              "      <td>-5.877635e-01</td>\n",
              "      <td>-1.227541e+00</td>\n",
              "      <td>-1.181504e+00</td>\n",
              "      <td>0.000000</td>\n",
              "      <td>0.000000</td>\n",
              "      <td>0.000000</td>\n",
              "      <td>0.000000</td>\n",
              "    </tr>\n",
              "    <tr>\n",
              "      <th>50%</th>\n",
              "      <td>-5.250608e-02</td>\n",
              "      <td>-1.249576e-01</td>\n",
              "      <td>3.362659e-01</td>\n",
              "      <td>1.332259e-01</td>\n",
              "      <td>1.000000</td>\n",
              "      <td>1.000000</td>\n",
              "      <td>2.000000</td>\n",
              "      <td>0.000000</td>\n",
              "    </tr>\n",
              "    <tr>\n",
              "      <th>75%</th>\n",
              "      <td>6.745011e-01</td>\n",
              "      <td>5.692513e-01</td>\n",
              "      <td>7.627586e-01</td>\n",
              "      <td>7.905908e-01</td>\n",
              "      <td>2.000000</td>\n",
              "      <td>2.000000</td>\n",
              "      <td>2.000000</td>\n",
              "      <td>1.000000</td>\n",
              "    </tr>\n",
              "    <tr>\n",
              "      <th>max</th>\n",
              "      <td>2.492019e+00</td>\n",
              "      <td>3.114684e+00</td>\n",
              "      <td>1.786341e+00</td>\n",
              "      <td>1.710902e+00</td>\n",
              "      <td>2.000000</td>\n",
              "      <td>3.000000</td>\n",
              "      <td>2.000000</td>\n",
              "      <td>1.000000</td>\n",
              "    </tr>\n",
              "  </tbody>\n",
              "</table>\n",
              "</div>"
            ],
            "text/plain": [
              "       SepalLengthCm  SepalWidthCm  ...  cluster_hierarchy  cluster_dbscan\n",
              "count   1.500000e+02  1.500000e+02  ...         150.000000      150.000000\n",
              "mean   -2.775558e-16 -5.140333e-16  ...           1.186667        0.240000\n",
              "std     1.003350e+00  1.003350e+00  ...           0.900311        0.808346\n",
              "min    -1.870024e+00 -2.438987e+00  ...           0.000000       -1.000000\n",
              "25%    -9.006812e-01 -5.877635e-01  ...           0.000000        0.000000\n",
              "50%    -5.250608e-02 -1.249576e-01  ...           2.000000        0.000000\n",
              "75%     6.745011e-01  5.692513e-01  ...           2.000000        1.000000\n",
              "max     2.492019e+00  3.114684e+00  ...           2.000000        1.000000\n",
              "\n",
              "[8 rows x 8 columns]"
            ]
          },
          "metadata": {
            "tags": []
          },
          "execution_count": 57
        }
      ]
    },
    {
      "cell_type": "code",
      "metadata": {
        "id": "qtMNrE4kddVx",
        "colab": {
          "base_uri": "https://localhost:8080/",
          "height": 313
        },
        "outputId": "bd21fbfc-f41f-4273-e555-872520717c43"
      },
      "source": [
        "## Tampilkan Plot\n",
        "plt.figure(figsize=(8,4))\n",
        "sns.scatterplot(data_cluster['SepalWidthCm'], data_cluster['SepalLengthCm'], hue=data_cluster['cluster_dbscan'], palette=sns.color_palette('hls',3))\n",
        "plt.title(' DBSCAN clustering')"
      ],
      "execution_count": null,
      "outputs": [
        {
          "output_type": "execute_result",
          "data": {
            "text/plain": [
              "Text(0.5, 1.0, ' DBSCAN clustering')"
            ]
          },
          "metadata": {
            "tags": []
          },
          "execution_count": 58
        },
        {
          "output_type": "display_data",
          "data": {
            "image/png": "[encoded data removed]",
            "text/plain": [
              "<Figure size 576x288 with 1 Axes>"
            ]
          },
          "metadata": {
            "tags": [],
            "needs_background": "light"
          }
        }
      ]
    },
    {
      "cell_type": "code",
      "metadata": {
        "id": "-DWcZexzWt-w",
        "colab": {
          "base_uri": "https://localhost:8080/",
          "height": 415
        },
        "outputId": "948221f8-daae-48c0-be73-81231a31addd"
      },
      "source": [
        "data"
      ],
      "execution_count": null,
      "outputs": [
        {
          "output_type": "execute_result",
          "data": {
            "text/html": [
              "<div>\n",
              "<style scoped>\n",
              "    .dataframe tbody tr th:only-of-type {\n",
              "        vertical-align: middle;\n",
              "    }\n",
              "\n",
              "    .dataframe tbody tr th {\n",
              "        vertical-align: top;\n",
              "    }\n",
              "\n",
              "    .dataframe thead th {\n",
              "        text-align: right;\n",
              "    }\n",
              "</style>\n",
              "<table border=\"1\" class=\"dataframe\">\n",
              "  <thead>\n",
              "    <tr style=\"text-align: right;\">\n",
              "      <th></th>\n",
              "      <th>SepalLengthCm</th>\n",
              "      <th>SepalWidthCm</th>\n",
              "      <th>PetalLengthCm</th>\n",
              "      <th>PetalWidthCm</th>\n",
              "    </tr>\n",
              "  </thead>\n",
              "  <tbody>\n",
              "    <tr>\n",
              "      <th>0</th>\n",
              "      <td>-0.900681</td>\n",
              "      <td>1.032057</td>\n",
              "      <td>-1.341272</td>\n",
              "      <td>-1.312977</td>\n",
              "    </tr>\n",
              "    <tr>\n",
              "      <th>1</th>\n",
              "      <td>-1.143017</td>\n",
              "      <td>-0.124958</td>\n",
              "      <td>-1.341272</td>\n",
              "      <td>-1.312977</td>\n",
              "    </tr>\n",
              "    <tr>\n",
              "      <th>2</th>\n",
              "      <td>-1.385353</td>\n",
              "      <td>0.337848</td>\n",
              "      <td>-1.398138</td>\n",
              "      <td>-1.312977</td>\n",
              "    </tr>\n",
              "    <tr>\n",
              "      <th>3</th>\n",
              "      <td>-1.506521</td>\n",
              "      <td>0.106445</td>\n",
              "      <td>-1.284407</td>\n",
              "      <td>-1.312977</td>\n",
              "    </tr>\n",
              "    <tr>\n",
              "      <th>4</th>\n",
              "      <td>-1.021849</td>\n",
              "      <td>1.263460</td>\n",
              "      <td>-1.341272</td>\n",
              "      <td>-1.312977</td>\n",
              "    </tr>\n",
              "    <tr>\n",
              "      <th>...</th>\n",
              "      <td>...</td>\n",
              "      <td>...</td>\n",
              "      <td>...</td>\n",
              "      <td>...</td>\n",
              "    </tr>\n",
              "    <tr>\n",
              "      <th>145</th>\n",
              "      <td>1.038005</td>\n",
              "      <td>-0.124958</td>\n",
              "      <td>0.819624</td>\n",
              "      <td>1.447956</td>\n",
              "    </tr>\n",
              "    <tr>\n",
              "      <th>146</th>\n",
              "      <td>0.553333</td>\n",
              "      <td>-1.281972</td>\n",
              "      <td>0.705893</td>\n",
              "      <td>0.922064</td>\n",
              "    </tr>\n",
              "    <tr>\n",
              "      <th>147</th>\n",
              "      <td>0.795669</td>\n",
              "      <td>-0.124958</td>\n",
              "      <td>0.819624</td>\n",
              "      <td>1.053537</td>\n",
              "    </tr>\n",
              "    <tr>\n",
              "      <th>148</th>\n",
              "      <td>0.432165</td>\n",
              "      <td>0.800654</td>\n",
              "      <td>0.933356</td>\n",
              "      <td>1.447956</td>\n",
              "    </tr>\n",
              "    <tr>\n",
              "      <th>149</th>\n",
              "      <td>0.068662</td>\n",
              "      <td>-0.124958</td>\n",
              "      <td>0.762759</td>\n",
              "      <td>0.790591</td>\n",
              "    </tr>\n",
              "  </tbody>\n",
              "</table>\n",
              "<p>150 rows × 4 columns</p>\n",
              "</div>"
            ],
            "text/plain": [
              "     SepalLengthCm  SepalWidthCm  PetalLengthCm  PetalWidthCm\n",
              "0        -0.900681      1.032057      -1.341272     -1.312977\n",
              "1        -1.143017     -0.124958      -1.341272     -1.312977\n",
              "2        -1.385353      0.337848      -1.398138     -1.312977\n",
              "3        -1.506521      0.106445      -1.284407     -1.312977\n",
              "4        -1.021849      1.263460      -1.341272     -1.312977\n",
              "..             ...           ...            ...           ...\n",
              "145       1.038005     -0.124958       0.819624      1.447956\n",
              "146       0.553333     -1.281972       0.705893      0.922064\n",
              "147       0.795669     -0.124958       0.819624      1.053537\n",
              "148       0.432165      0.800654       0.933356      1.447956\n",
              "149       0.068662     -0.124958       0.762759      0.790591\n",
              "\n",
              "[150 rows x 4 columns]"
            ]
          },
          "metadata": {
            "tags": []
          },
          "execution_count": 64
        }
      ]
    },
    {
      "cell_type": "code",
      "metadata": {
        "id": "rXzlJ0OlYF5J",
        "colab": {
          "base_uri": "https://localhost:8080/",
          "height": 1000
        },
        "outputId": "dd200858-bf19-4004-ad75-096ed64b0b6b"
      },
      "source": [
        "import numpy as np\n",
        "data_som = np.float32(data)\n",
        "data_som"
      ],
      "execution_count": null,
      "outputs": [
        {
          "output_type": "execute_result",
          "data": {
            "text/plain": [
              "array([[-9.00681198e-01,  1.03205717e+00, -1.34127235e+00,\n",
              "        -1.31297672e+00],\n",
              "       [-1.14301693e+00, -1.24957599e-01, -1.34127235e+00,\n",
              "        -1.31297672e+00],\n",
              "       [-1.38535261e+00,  3.37848336e-01, -1.39813817e+00,\n",
              "        -1.31297672e+00],\n",
              "       [-1.50652051e+00,  1.06445365e-01, -1.28440666e+00,\n",
              "        -1.31297672e+00],\n",
              "       [-1.02184904e+00,  1.26346016e+00, -1.34127235e+00,\n",
              "        -1.31297672e+00],\n",
              "       [-5.37177563e-01,  1.95766914e+00, -1.17067528e+00,\n",
              "        -1.05003083e+00],\n",
              "       [-1.50652051e+00,  8.00654233e-01, -1.34127235e+00,\n",
              "        -1.18150377e+00],\n",
              "       [-1.02184904e+00,  8.00654233e-01, -1.28440666e+00,\n",
              "        -1.31297672e+00],\n",
              "       [-1.74885631e+00, -3.56360555e-01, -1.34127235e+00,\n",
              "        -1.31297672e+00],\n",
              "       [-1.14301693e+00,  1.06445365e-01, -1.28440666e+00,\n",
              "        -1.44444966e+00],\n",
              "       [-5.37177563e-01,  1.49486315e+00, -1.28440666e+00,\n",
              "        -1.31297672e+00],\n",
              "       [-1.26418483e+00,  8.00654233e-01, -1.22754097e+00,\n",
              "        -1.31297672e+00],\n",
              "       [-1.26418483e+00, -1.24957599e-01, -1.34127235e+00,\n",
              "        -1.44444966e+00],\n",
              "       [-1.87002409e+00, -1.24957599e-01, -1.51186955e+00,\n",
              "        -1.44444966e+00],\n",
              "       [-5.25060780e-02,  2.18907213e+00, -1.45500386e+00,\n",
              "        -1.31297672e+00],\n",
              "       [-1.73673943e-01,  3.11468387e+00, -1.28440666e+00,\n",
              "        -1.05003083e+00],\n",
              "       [-5.37177563e-01,  1.95766914e+00, -1.39813817e+00,\n",
              "        -1.05003083e+00],\n",
              "       [-9.00681198e-01,  1.03205717e+00, -1.34127235e+00,\n",
              "        -1.18150377e+00],\n",
              "       [-1.73673943e-01,  1.72626615e+00, -1.17067528e+00,\n",
              "        -1.18150377e+00],\n",
              "       [-9.00681198e-01,  1.72626615e+00, -1.28440666e+00,\n",
              "        -1.18150377e+00],\n",
              "       [-5.37177563e-01,  8.00654233e-01, -1.17067528e+00,\n",
              "        -1.31297672e+00],\n",
              "       [-9.00681198e-01,  1.49486315e+00, -1.28440666e+00,\n",
              "        -1.05003083e+00],\n",
              "       [-1.50652051e+00,  1.26346016e+00, -1.56873524e+00,\n",
              "        -1.31297672e+00],\n",
              "       [-9.00681198e-01,  5.69251299e-01, -1.17067528e+00,\n",
              "        -9.18557823e-01],\n",
              "       [-1.26418483e+00,  8.00654233e-01, -1.05694389e+00,\n",
              "        -1.31297672e+00],\n",
              "       [-1.02184904e+00, -1.24957599e-01, -1.22754097e+00,\n",
              "        -1.31297672e+00],\n",
              "       [-1.02184904e+00,  8.00654233e-01, -1.22754097e+00,\n",
              "        -1.05003083e+00],\n",
              "       [-7.79513299e-01,  1.03205717e+00, -1.28440666e+00,\n",
              "        -1.31297672e+00],\n",
              "       [-7.79513299e-01,  8.00654233e-01, -1.34127235e+00,\n",
              "        -1.31297672e+00],\n",
              "       [-1.38535261e+00,  3.37848336e-01, -1.22754097e+00,\n",
              "        -1.31297672e+00],\n",
              "       [-1.26418483e+00,  1.06445365e-01, -1.22754097e+00,\n",
              "        -1.31297672e+00],\n",
              "       [-5.37177563e-01,  8.00654233e-01, -1.28440666e+00,\n",
              "        -1.05003083e+00],\n",
              "       [-7.79513299e-01,  2.42047501e+00, -1.28440666e+00,\n",
              "        -1.44444966e+00],\n",
              "       [-4.16009694e-01,  2.65187788e+00, -1.34127235e+00,\n",
              "        -1.31297672e+00],\n",
              "       [-1.14301693e+00,  1.06445365e-01, -1.28440666e+00,\n",
              "        -1.44444966e+00],\n",
              "       [-1.02184904e+00,  3.37848336e-01, -1.45500386e+00,\n",
              "        -1.31297672e+00],\n",
              "       [-4.16009694e-01,  1.03205717e+00, -1.39813817e+00,\n",
              "        -1.31297672e+00],\n",
              "       [-1.14301693e+00,  1.06445365e-01, -1.28440666e+00,\n",
              "        -1.44444966e+00],\n",
              "       [-1.74885631e+00, -1.24957599e-01, -1.39813817e+00,\n",
              "        -1.31297672e+00],\n",
              "       [-9.00681198e-01,  8.00654233e-01, -1.28440666e+00,\n",
              "        -1.31297672e+00],\n",
              "       [-1.02184904e+00,  1.03205717e+00, -1.39813817e+00,\n",
              "        -1.18150377e+00],\n",
              "       [-1.62768841e+00, -1.74477839e+00, -1.39813817e+00,\n",
              "        -1.18150377e+00],\n",
              "       [-1.74885631e+00,  3.37848336e-01, -1.39813817e+00,\n",
              "        -1.31297672e+00],\n",
              "       [-1.02184904e+00,  1.03205717e+00, -1.22754097e+00,\n",
              "        -7.87084818e-01],\n",
              "       [-9.00681198e-01,  1.72626615e+00, -1.05694389e+00,\n",
              "        -1.05003083e+00],\n",
              "       [-1.26418483e+00, -1.24957599e-01, -1.34127235e+00,\n",
              "        -1.18150377e+00],\n",
              "       [-9.00681198e-01,  1.72626615e+00, -1.22754097e+00,\n",
              "        -1.31297672e+00],\n",
              "       [-1.50652051e+00,  3.37848336e-01, -1.34127235e+00,\n",
              "        -1.31297672e+00],\n",
              "       [-6.58345401e-01,  1.49486315e+00, -1.28440666e+00,\n",
              "        -1.31297672e+00],\n",
              "       [-1.02184904e+00,  5.69251299e-01, -1.34127235e+00,\n",
              "        -1.31297672e+00],\n",
              "       [ 1.40150833e+00,  3.37848336e-01,  5.35295844e-01,\n",
              "         2.64698923e-01],\n",
              "       [ 6.74501121e-01,  3.37848336e-01,  4.21564430e-01,\n",
              "         3.96171898e-01],\n",
              "       [ 1.28034055e+00,  1.06445365e-01,  6.49027228e-01,\n",
              "         3.96171898e-01],\n",
              "       [-4.16009694e-01, -1.74477839e+00,  1.37235895e-01,\n",
              "         1.33225948e-01],\n",
              "       [ 7.95669019e-01, -5.87763548e-01,  4.78430122e-01,\n",
              "         3.96171898e-01],\n",
              "       [-1.73673943e-01, -5.87763548e-01,  4.21564430e-01,\n",
              "         1.33225948e-01],\n",
              "       [ 5.53333282e-01,  5.69251299e-01,  5.35295844e-01,\n",
              "         5.27644873e-01],\n",
              "       [-1.14301693e+00, -1.51337540e+00, -2.60824025e-01,\n",
              "        -2.61192977e-01],\n",
              "       [ 9.16836858e-01, -3.56360555e-01,  4.78430122e-01,\n",
              "         1.33225948e-01],\n",
              "       [-7.79513299e-01, -8.19166481e-01,  8.03701952e-02,\n",
              "         2.64698923e-01],\n",
              "       [-1.02184904e+00, -2.43898726e+00, -1.47092625e-01,\n",
              "        -2.61192977e-01],\n",
              "       [ 6.86617941e-02, -1.24957599e-01,  2.50967294e-01,\n",
              "         3.96171898e-01],\n",
              "       [ 1.89829662e-01, -1.97618127e+00,  1.37235895e-01,\n",
              "        -2.61192977e-01],\n",
              "       [ 3.10997546e-01, -3.56360555e-01,  5.35295844e-01,\n",
              "         2.64698923e-01],\n",
              "       [-2.94841826e-01, -3.56360555e-01, -9.02269185e-02,\n",
              "         1.33225948e-01],\n",
              "       [ 1.03800476e+00,  1.06445365e-01,  3.64698708e-01,\n",
              "         2.64698923e-01],\n",
              "       [-2.94841826e-01, -1.24957599e-01,  4.21564430e-01,\n",
              "         3.96171898e-01],\n",
              "       [-5.25060780e-02, -8.19166481e-01,  1.94101602e-01,\n",
              "        -2.61192977e-01],\n",
              "       [ 4.32165414e-01, -1.97618127e+00,  4.21564430e-01,\n",
              "         3.96171898e-01],\n",
              "       [-2.94841826e-01, -1.28197241e+00,  8.03701952e-02,\n",
              "        -1.29720002e-01],\n",
              "       [ 6.86617941e-02,  3.37848336e-01,  5.92161536e-01,\n",
              "         7.90590823e-01],\n",
              "       [ 3.10997546e-01, -5.87763548e-01,  1.37235895e-01,\n",
              "         1.33225948e-01],\n",
              "       [ 5.53333282e-01, -1.28197241e+00,  6.49027228e-01,\n",
              "         3.96171898e-01],\n",
              "       [ 3.10997546e-01, -5.87763548e-01,  5.35295844e-01,\n",
              "         1.75297295e-03],\n",
              "       [ 6.74501121e-01, -3.56360555e-01,  3.07833016e-01,\n",
              "         1.33225948e-01],\n",
              "       [ 9.16836858e-01, -1.24957599e-01,  3.64698708e-01,\n",
              "         2.64698923e-01],\n",
              "       [ 1.15917265e+00, -5.87763548e-01,  5.92161536e-01,\n",
              "         2.64698923e-01],\n",
              "       [ 1.03800476e+00, -1.24957599e-01,  7.05892920e-01,\n",
              "         6.59117818e-01],\n",
              "       [ 1.89829662e-01, -3.56360555e-01,  4.21564430e-01,\n",
              "         3.96171898e-01],\n",
              "       [-1.73673943e-01, -1.05056942e+00, -1.47092625e-01,\n",
              "        -2.61192977e-01],\n",
              "       [-4.16009694e-01, -1.51337540e+00,  2.35044919e-02,\n",
              "        -1.29720002e-01],\n",
              "       [-4.16009694e-01, -1.51337540e+00, -3.33612114e-02,\n",
              "        -2.61192977e-01],\n",
              "       [-5.25060780e-02, -8.19166481e-01,  8.03701952e-02,\n",
              "         1.75297295e-03],\n",
              "       [ 1.89829662e-01, -8.19166481e-01,  7.62758672e-01,\n",
              "         5.27644873e-01],\n",
              "       [-5.37177563e-01, -1.24957599e-01,  4.21564430e-01,\n",
              "         3.96171898e-01],\n",
              "       [ 1.89829662e-01,  8.00654233e-01,  4.21564430e-01,\n",
              "         5.27644873e-01],\n",
              "       [ 1.03800476e+00,  1.06445365e-01,  5.35295844e-01,\n",
              "         3.96171898e-01],\n",
              "       [ 5.53333282e-01, -1.74477839e+00,  3.64698708e-01,\n",
              "         1.33225948e-01],\n",
              "       [-2.94841826e-01, -1.24957599e-01,  1.94101602e-01,\n",
              "         1.33225948e-01],\n",
              "       [-4.16009694e-01, -1.28197241e+00,  1.37235895e-01,\n",
              "         1.33225948e-01],\n",
              "       [-4.16009694e-01, -1.05056942e+00,  3.64698708e-01,\n",
              "         1.75297295e-03],\n",
              "       [ 3.10997546e-01, -1.24957599e-01,  4.78430122e-01,\n",
              "         2.64698923e-01],\n",
              "       [-5.25060780e-02, -1.05056942e+00,  1.37235895e-01,\n",
              "         1.75297295e-03],\n",
              "       [-1.02184904e+00, -1.74477839e+00, -2.60824025e-01,\n",
              "        -2.61192977e-01],\n",
              "       [-2.94841826e-01, -8.19166481e-01,  2.50967294e-01,\n",
              "         1.33225948e-01],\n",
              "       [-1.73673943e-01, -1.24957599e-01,  2.50967294e-01,\n",
              "         1.75297295e-03],\n",
              "       [-1.73673943e-01, -3.56360555e-01,  2.50967294e-01,\n",
              "         1.33225948e-01],\n",
              "       [ 4.32165414e-01, -3.56360555e-01,  3.07833016e-01,\n",
              "         1.33225948e-01],\n",
              "       [-9.00681198e-01, -1.28197241e+00, -4.31421131e-01,\n",
              "        -1.29720002e-01],\n",
              "       [-1.73673943e-01, -5.87763548e-01,  1.94101602e-01,\n",
              "         1.33225948e-01],\n",
              "       [ 5.53333282e-01,  5.69251299e-01,  1.27454996e+00,\n",
              "         1.71090162e+00],\n",
              "       [-5.25060780e-02, -8.19166481e-01,  7.62758672e-01,\n",
              "         9.22063768e-01],\n",
              "       [ 1.52267623e+00, -1.24957599e-01,  1.21768427e+00,\n",
              "         1.18500972e+00],\n",
              "       [ 5.53333282e-01, -3.56360555e-01,  1.04708719e+00,\n",
              "         7.90590823e-01],\n",
              "       [ 7.95669019e-01, -1.24957599e-01,  1.16081858e+00,\n",
              "         1.31648266e+00],\n",
              "       [ 2.12851548e+00, -1.24957599e-01,  1.61574423e+00,\n",
              "         1.18500972e+00],\n",
              "       [-1.14301693e+00, -1.28197241e+00,  4.21564430e-01,\n",
              "         6.59117818e-01],\n",
              "       [ 1.76501203e+00, -3.56360555e-01,  1.44514704e+00,\n",
              "         7.90590823e-01],\n",
              "       [ 1.03800476e+00, -1.28197241e+00,  1.16081858e+00,\n",
              "         7.90590823e-01],\n",
              "       [ 1.64384413e+00,  1.26346016e+00,  1.33141565e+00,\n",
              "         1.71090162e+00],\n",
              "       [ 7.95669019e-01,  3.37848336e-01,  7.62758672e-01,\n",
              "         1.05353677e+00],\n",
              "       [ 6.74501121e-01, -8.19166481e-01,  8.76490057e-01,\n",
              "         9.22063768e-01],\n",
              "       [ 1.15917265e+00, -1.24957599e-01,  9.90221441e-01,\n",
              "         1.18500972e+00],\n",
              "       [-1.73673943e-01, -1.28197241e+00,  7.05892920e-01,\n",
              "         1.05353677e+00],\n",
              "       [-5.25060780e-02, -5.87763548e-01,  7.62758672e-01,\n",
              "         1.57942855e+00],\n",
              "       [ 6.74501121e-01,  3.37848336e-01,  8.76490057e-01,\n",
              "         1.44795561e+00],\n",
              "       [ 7.95669019e-01, -1.24957599e-01,  9.90221441e-01,\n",
              "         7.90590823e-01],\n",
              "       [ 2.24968338e+00,  1.72626615e+00,  1.67260993e+00,\n",
              "         1.31648266e+00],\n",
              "       [ 2.24968338e+00, -1.05056942e+00,  1.78634131e+00,\n",
              "         1.44795561e+00],\n",
              "       [ 1.89829662e-01, -1.97618127e+00,  7.05892920e-01,\n",
              "         3.96171898e-01],\n",
              "       [ 1.28034055e+00,  3.37848336e-01,  1.10395288e+00,\n",
              "         1.44795561e+00],\n",
              "       [-2.94841826e-01, -5.87763548e-01,  6.49027228e-01,\n",
              "         1.05353677e+00],\n",
              "       [ 2.24968338e+00, -5.87763548e-01,  1.67260993e+00,\n",
              "         1.05353677e+00],\n",
              "       [ 5.53333282e-01, -8.19166481e-01,  6.49027228e-01,\n",
              "         7.90590823e-01],\n",
              "       [ 1.03800476e+00,  5.69251299e-01,  1.10395288e+00,\n",
              "         1.18500972e+00],\n",
              "       [ 1.64384413e+00,  3.37848336e-01,  1.27454996e+00,\n",
              "         7.90590823e-01],\n",
              "       [ 4.32165414e-01, -5.87763548e-01,  5.92161536e-01,\n",
              "         7.90590823e-01],\n",
              "       [ 3.10997546e-01, -1.24957599e-01,  6.49027228e-01,\n",
              "         7.90590823e-01],\n",
              "       [ 6.74501121e-01, -5.87763548e-01,  1.04708719e+00,\n",
              "         1.18500972e+00],\n",
              "       [ 1.64384413e+00, -1.24957599e-01,  1.16081858e+00,\n",
              "         5.27644873e-01],\n",
              "       [ 1.88617980e+00, -5.87763548e-01,  1.33141565e+00,\n",
              "         9.22063768e-01],\n",
              "       [ 2.49201918e+00,  1.72626615e+00,  1.50201285e+00,\n",
              "         1.05353677e+00],\n",
              "       [ 6.74501121e-01, -5.87763548e-01,  1.04708719e+00,\n",
              "         1.31648266e+00],\n",
              "       [ 5.53333282e-01, -5.87763548e-01,  7.62758672e-01,\n",
              "         3.96171898e-01],\n",
              "       [ 3.10997546e-01, -1.05056942e+00,  1.04708719e+00,\n",
              "         2.64698923e-01],\n",
              "       [ 2.24968338e+00, -1.24957599e-01,  1.33141565e+00,\n",
              "         1.44795561e+00],\n",
              "       [ 5.53333282e-01,  8.00654233e-01,  1.04708719e+00,\n",
              "         1.57942855e+00],\n",
              "       [ 6.74501121e-01,  1.06445365e-01,  9.90221441e-01,\n",
              "         7.90590823e-01],\n",
              "       [ 1.89829662e-01, -1.24957599e-01,  5.92161536e-01,\n",
              "         7.90590823e-01],\n",
              "       [ 1.28034055e+00,  1.06445365e-01,  9.33355749e-01,\n",
              "         1.18500972e+00],\n",
              "       [ 1.03800476e+00,  1.06445365e-01,  1.04708719e+00,\n",
              "         1.57942855e+00],\n",
              "       [ 1.28034055e+00,  1.06445365e-01,  7.62758672e-01,\n",
              "         1.44795561e+00],\n",
              "       [-5.25060780e-02, -8.19166481e-01,  7.62758672e-01,\n",
              "         9.22063768e-01],\n",
              "       [ 1.15917265e+00,  3.37848336e-01,  1.21768427e+00,\n",
              "         1.44795561e+00],\n",
              "       [ 1.03800476e+00,  5.69251299e-01,  1.10395288e+00,\n",
              "         1.71090162e+00],\n",
              "       [ 1.03800476e+00, -1.24957599e-01,  8.19624364e-01,\n",
              "         1.44795561e+00],\n",
              "       [ 5.53333282e-01, -1.28197241e+00,  7.05892920e-01,\n",
              "         9.22063768e-01],\n",
              "       [ 7.95669019e-01, -1.24957599e-01,  8.19624364e-01,\n",
              "         1.05353677e+00],\n",
              "       [ 4.32165414e-01,  8.00654233e-01,  9.33355749e-01,\n",
              "         1.44795561e+00],\n",
              "       [ 6.86617941e-02, -1.24957599e-01,  7.62758672e-01,\n",
              "         7.90590823e-01]], dtype=float32)"
            ]
          },
          "metadata": {
            "tags": []
          },
          "execution_count": 89
        }
      ]
    },
    {
      "cell_type": "code",
      "metadata": {
        "id": "uR6xeRx4c75C"
      },
      "source": [
        "MiniSom()"
      ],
      "execution_count": null,
      "outputs": []
    },
    {
      "cell_type": "code",
      "metadata": {
        "id": "KF5MZhjjYokJ",
        "colab": {
          "base_uri": "https://localhost:8080/",
          "height": 52
        },
        "outputId": "f9398a03-a268-44d8-a743-a3e081b825f8"
      },
      "source": [
        "som = MiniSom(1, 3, data_som.shape[1], sigma=.5, learning_rate=.5)\n",
        "\n",
        "som.train_batch(data_som, 250, verbose=True)"
      ],
      "execution_count": null,
      "outputs": [
        {
          "output_type": "stream",
          "text": [
            "\r [   0 / 250 ]   0% - ? it/s\r [   0 / 250 ]   0% - ? it/s\r [   1 / 250 ]   0% - 0:00:00 left \r [   2 / 250 ]   1% - 0:00:00 left \r [   3 / 250 ]   1% - 0:00:00 left \r [   4 / 250 ]   2% - 0:00:00 left \r [   5 / 250 ]   2% - 0:00:00 left \r [   6 / 250 ]   2% - 0:00:00 left \r [   7 / 250 ]   3% - 0:00:00 left \r [   8 / 250 ]   3% - 0:00:00 left \r [   9 / 250 ]   4% - 0:00:00 left \r [  10 / 250 ]   4% - 0:00:00 left \r [  11 / 250 ]   4% - 0:00:00 left \r [  12 / 250 ]   5% - 0:00:00 left \r [  13 / 250 ]   5% - 0:00:00 left \r [  14 / 250 ]   6% - 0:00:00 left \r [  15 / 250 ]   6% - 0:00:00 left \r [  16 / 250 ]   6% - 0:00:00 left \r [  17 / 250 ]   7% - 0:00:00 left \r [  18 / 250 ]   7% - 0:00:00 left \r [  19 / 250 ]   8% - 0:00:00 left \r [  20 / 250 ]   8% - 0:00:00 left \r [  21 / 250 ]   8% - 0:00:00 left \r [  22 / 250 ]   9% - 0:00:00 left \r [  23 / 250 ]   9% - 0:00:00 left \r [  24 / 250 ]  10% - 0:00:00 left \r [  25 / 250 ]  10% - 0:00:00 left \r [  26 / 250 ]  10% - 0:00:00 left \r [  27 / 250 ]  11% - 0:00:00 left \r [  28 / 250 ]  11% - 0:00:00 left \r [  29 / 250 ]  12% - 0:00:00 left \r [  30 / 250 ]  12% - 0:00:00 left \r [  31 / 250 ]  12% - 0:00:00 left \r [  32 / 250 ]  13% - 0:00:00 left \r [  33 / 250 ]  13% - 0:00:00 left \r [  34 / 250 ]  14% - 0:00:00 left \r [  35 / 250 ]  14% - 0:00:00 left \r [  36 / 250 ]  14% - 0:00:00 left \r [  37 / 250 ]  15% - 0:00:00 left \r [  38 / 250 ]  15% - 0:00:00 left \r [  39 / 250 ]  16% - 0:00:00 left \r [  40 / 250 ]  16% - 0:00:00 left \r [  41 / 250 ]  16% - 0:00:00 left \r [  42 / 250 ]  17% - 0:00:00 left \r [  43 / 250 ]  17% - 0:00:00 left \r [  44 / 250 ]  18% - 0:00:00 left \r [  45 / 250 ]  18% - 0:00:00 left \r [  46 / 250 ]  18% - 0:00:00 left \r [  47 / 250 ]  19% - 0:00:00 left \r [  48 / 250 ]  19% - 0:00:00 left \r [  49 / 250 ]  20% - 0:00:00 left \r [  50 / 250 ]  20% - 0:00:00 left \r [  51 / 250 ]  20% - 0:00:00 left \r [  52 / 250 ]  21% - 0:00:00 left \r [  53 / 250 ]  21% - 0:00:00 left \r [  54 / 250 ]  22% - 0:00:00 left \r [  55 / 250 ]  22% - 0:00:00 left \r [  56 / 250 ]  22% - 0:00:00 left \r [  57 / 250 ]  23% - 0:00:00 left \r [  58 / 250 ]  23% - 0:00:00 left \r [  59 / 250 ]  24% - 0:00:00 left \r [  60 / 250 ]  24% - 0:00:00 left \r [  61 / 250 ]  24% - 0:00:00 left \r [  62 / 250 ]  25% - 0:00:00 left \r [  63 / 250 ]  25% - 0:00:00 left \r [  64 / 250 ]  26% - 0:00:00 left \r [  65 / 250 ]  26% - 0:00:00 left \r [  66 / 250 ]  26% - 0:00:00 left \r [  67 / 250 ]  27% - 0:00:00 left \r [  68 / 250 ]  27% - 0:00:00 left \r [  69 / 250 ]  28% - 0:00:00 left \r [  70 / 250 ]  28% - 0:00:00 left \r [  71 / 250 ]  28% - 0:00:00 left \r [  72 / 250 ]  29% - 0:00:00 left \r [  73 / 250 ]  29% - 0:00:00 left \r [  74 / 250 ]  30% - 0:00:00 left \r [  75 / 250 ]  30% - 0:00:00 left \r [  76 / 250 ]  30% - 0:00:00 left \r [  77 / 250 ]  31% - 0:00:00 left \r [  78 / 250 ]  31% - 0:00:00 left \r [  79 / 250 ]  32% - 0:00:00 left \r [  80 / 250 ]  32% - 0:00:00 left \r [  81 / 250 ]  32% - 0:00:00 left \r [  82 / 250 ]  33% - 0:00:00 left \r [  83 / 250 ]  33% - 0:00:00 left \r [  84 / 250 ]  34% - 0:00:00 left \r [  85 / 250 ]  34% - 0:00:00 left \r [  86 / 250 ]  34% - 0:00:00 left \r [  87 / 250 ]  35% - 0:00:00 left \r [  88 / 250 ]  35% - 0:00:00 left \r [  89 / 250 ]  36% - 0:00:00 left \r [  90 / 250 ]  36% - 0:00:00 left \r [  91 / 250 ]  36% - 0:00:00 left \r [  92 / 250 ]  37% - 0:00:00 left \r [  93 / 250 ]  37% - 0:00:00 left \r [  94 / 250 ]  38% - 0:00:00 left \r [  95 / 250 ]  38% - 0:00:00 left \r [  96 / 250 ]  38% - 0:00:00 left \r [  97 / 250 ]  39% - 0:00:00 left \r [  98 / 250 ]  39% - 0:00:00 left \r [  99 / 250 ]  40% - 0:00:00 left \r [ 100 / 250 ]  40% - 0:00:00 left \r [ 101 / 250 ]  40% - 0:00:00 left \r [ 102 / 250 ]  41% - 0:00:00 left \r [ 103 / 250 ]  41% - 0:00:00 left \r [ 104 / 250 ]  42% - 0:00:00 left \r [ 105 / 250 ]  42% - 0:00:00 left \r [ 106 / 250 ]  42% - 0:00:00 left \r [ 107 / 250 ]  43% - 0:00:00 left \r [ 108 / 250 ]  43% - 0:00:00 left \r [ 109 / 250 ]  44% - 0:00:00 left \r [ 110 / 250 ]  44% - 0:00:00 left \r [ 111 / 250 ]  44% - 0:00:00 left \r [ 112 / 250 ]  45% - 0:00:00 left \r [ 113 / 250 ]  45% - 0:00:00 left \r [ 114 / 250 ]  46% - 0:00:00 left \r [ 115 / 250 ]  46% - 0:00:00 left \r [ 116 / 250 ]  46% - 0:00:00 left \r [ 117 / 250 ]  47% - 0:00:00 left \r [ 118 / 250 ]  47% - 0:00:00 left \r [ 119 / 250 ]  48% - 0:00:00 left \r [ 120 / 250 ]  48% - 0:00:00 left \r [ 121 / 250 ]  48% - 0:00:00 left \r [ 122 / 250 ]  49% - 0:00:00 left \r [ 123 / 250 ]  49% - 0:00:00 left \r [ 124 / 250 ]  50% - 0:00:00 left \r [ 125 / 250 ]  50% - 0:00:00 left \r [ 126 / 250 ]  50% - 0:00:00 left \r [ 127 / 250 ]  51% - 0:00:00 left \r [ 128 / 250 ]  51% - 0:00:00 left \r [ 129 / 250 ]  52% - 0:00:00 left \r [ 130 / 250 ]  52% - 0:00:00 left \r [ 131 / 250 ]  52% - 0:00:00 left \r [ 132 / 250 ]  53% - 0:00:00 left \r [ 133 / 250 ]  53% - 0:00:00 left \r [ 134 / 250 ]  54% - 0:00:00 left \r [ 135 / 250 ]  54% - 0:00:00 left \r [ 136 / 250 ]  54% - 0:00:00 left \r [ 137 / 250 ]  55% - 0:00:00 left \r [ 138 / 250 ]  55% - 0:00:00 left \r [ 139 / 250 ]  56% - 0:00:00 left \r [ 140 / 250 ]  56% - 0:00:00 left \r [ 141 / 250 ]  56% - 0:00:00 left \r [ 142 / 250 ]  57% - 0:00:00 left \r [ 143 / 250 ]  57% - 0:00:00 left \r [ 144 / 250 ]  58% - 0:00:00 left \r [ 145 / 250 ]  58% - 0:00:00 left \r [ 146 / 250 ]  58% - 0:00:00 left \r [ 147 / 250 ]  59% - 0:00:00 left \r [ 148 / 250 ]  59% - 0:00:00 left \r [ 149 / 250 ]  60% - 0:00:00 left \r [ 150 / 250 ]  60% - 0:00:00 left \r [ 151 / 250 ]  60% - 0:00:00 left \r [ 152 / 250 ]  61% - 0:00:00 left \r [ 153 / 250 ]  61% - 0:00:00 left \r [ 154 / 250 ]  62% - 0:00:00 left \r [ 155 / 250 ]  62% - 0:00:00 left \r [ 156 / 250 ]  62% - 0:00:00 left \r [ 157 / 250 ]  63% - 0:00:00 left \r [ 158 / 250 ]  63% - 0:00:00 left \r [ 159 / 250 ]  64% - 0:00:00 left \r [ 160 / 250 ]  64% - 0:00:00 left \r [ 161 / 250 ]  64% - 0:00:00 left \r [ 162 / 250 ]  65% - 0:00:00 left \r [ 163 / 250 ]  65% - 0:00:00 left \r [ 164 / 250 ]  66% - 0:00:00 left \r [ 165 / 250 ]  66% - 0:00:00 left \r [ 166 / 250 ]  66% - 0:00:00 left \r [ 167 / 250 ]  67% - 0:00:00 left \r [ 168 / 250 ]  67% - 0:00:00 left \r [ 169 / 250 ]  68% - 0:00:00 left \r [ 170 / 250 ]  68% - 0:00:00 left \r [ 171 / 250 ]  68% - 0:00:00 left \r [ 172 / 250 ]  69% - 0:00:00 left \r [ 173 / 250 ]  69% - 0:00:00 left \r [ 174 / 250 ]  70% - 0:00:00 left \r [ 175 / 250 ]  70% - 0:00:00 left \r [ 176 / 250 ]  70% - 0:00:00 left \r [ 177 / 250 ]  71% - 0:00:00 left \r [ 178 / 250 ]  71% - 0:00:00 left \r [ 179 / 250 ]  72% - 0:00:00 left \r [ 180 / 250 ]  72% - 0:00:00 left \r [ 181 / 250 ]  72% - 0:00:00 left \r [ 182 / 250 ]  73% - 0:00:00 left \r [ 183 / 250 ]  73% - 0:00:00 left \r [ 184 / 250 ]  74% - 0:00:00 left \r [ 185 / 250 ]  74% - 0:00:00 left \r [ 186 / 250 ]  74% - 0:00:00 left \r [ 187 / 250 ]  75% - 0:00:00 left \r [ 188 / 250 ]  75% - 0:00:00 left \r [ 189 / 250 ]  76% - 0:00:00 left \r [ 190 / 250 ]  76% - 0:00:00 left \r [ 191 / 250 ]  76% - 0:00:00 left \r [ 192 / 250 ]  77% - 0:00:00 left \r [ 193 / 250 ]  77% - 0:00:00 left \r [ 194 / 250 ]  78% - 0:00:00 left \r [ 195 / 250 ]  78% - 0:00:00 left \r [ 196 / 250 ]  78% - 0:00:00 left \r [ 197 / 250 ]  79% - 0:00:00 left \r [ 198 / 250 ]  79% - 0:00:00 left \r [ 199 / 250 ]  80% - 0:00:00 left \r [ 200 / 250 ]  80% - 0:00:00 left \r [ 201 / 250 ]  80% - 0:00:00 left \r [ 202 / 250 ]  81% - 0:00:00 left \r [ 203 / 250 ]  81% - 0:00:00 left \r [ 204 / 250 ]  82% - 0:00:00 left \r [ 205 / 250 ]  82% - 0:00:00 left \r [ 206 / 250 ]  82% - 0:00:00 left \r [ 207 / 250 ]  83% - 0:00:00 left \r [ 208 / 250 ]  83% - 0:00:00 left \r [ 209 / 250 ]  84% - 0:00:00 left \r [ 210 / 250 ]  84% - 0:00:00 left \r [ 211 / 250 ]  84% - 0:00:00 left \r [ 212 / 250 ]  85% - 0:00:00 left \r [ 213 / 250 ]  85% - 0:00:00 left \r [ 214 / 250 ]  86% - 0:00:00 left \r [ 215 / 250 ]  86% - 0:00:00 left \r [ 216 / 250 ]  86% - 0:00:00 left \r [ 217 / 250 ]  87% - 0:00:00 left \r [ 218 / 250 ]  87% - 0:00:00 left \r [ 219 / 250 ]  88% - 0:00:00 left \r [ 220 / 250 ]  88% - 0:00:00 left \r [ 221 / 250 ]  88% - 0:00:00 left \r [ 222 / 250 ]  89% - 0:00:00 left \r [ 223 / 250 ]  89% - 0:00:00 left \r [ 224 / 250 ]  90% - 0:00:00 left \r [ 225 / 250 ]  90% - 0:00:00 left \r [ 226 / 250 ]  90% - 0:00:00 left \r [ 227 / 250 ]  91% - 0:00:00 left \r [ 228 / 250 ]  91% - 0:00:00 left \r [ 229 / 250 ]  92% - 0:00:00 left \r [ 230 / 250 ]  92% - 0:00:00 left \r [ 231 / 250 ]  92% - 0:00:00 left \r [ 232 / 250 ]  93% - 0:00:00 left \r [ 233 / 250 ]  93% - 0:00:00 left \r [ 234 / 250 ]  94% - 0:00:00 left \r [ 235 / 250 ]  94% - 0:00:00 left \r [ 236 / 250 ]  94% - 0:00:00 left \r [ 237 / 250 ]  95% - 0:00:00 left \r [ 238 / 250 ]  95% - 0:00:00 left \r [ 239 / 250 ]  96% - 0:00:00 left \r [ 240 / 250 ]  96% - 0:00:00 left \r [ 241 / 250 ]  96% - 0:00:00 left \r [ 242 / 250 ]  97% - 0:00:00 left \r [ 243 / 250 ]  97% - 0:00:00 left \r [ 244 / 250 ]  98% - 0:00:00 left \r [ 245 / 250 ]  98% - 0:00:00 left \r [ 246 / 250 ]  98% - 0:00:00 left \r [ 247 / 250 ]  99% - 0:00:00 left \r [ 248 / 250 ]  99% - 0:00:00 left \r [ 249 / 250 ] 100% - 0:00:00 left \r [ 250 / 250 ] 100% - 0:00:00 left \n",
            " quantization error: 0.9538908562059836\n"
          ],
          "name": "stdout"
        }
      ]
    },
    {
      "cell_type": "code",
      "metadata": {
        "id": "MRvfB_yKY0Xr"
      },
      "source": [
        "winner_coordinates = np.array([som.winner(x) for x in data_som]).T\n",
        "cluster_index = np.ravel_multi_index(winner_coordinates, som_shape)"
      ],
      "execution_count": null,
      "outputs": []
    },
    {
      "cell_type": "code",
      "metadata": {
        "id": "9xBQ_uVuY61c",
        "colab": {
          "base_uri": "https://localhost:8080/",
          "height": 265
        },
        "outputId": "80294145-bd82-41aa-cc73-a083a3df6bb9"
      },
      "source": [
        "import matplotlib.pyplot as plt\n",
        "%matplotlib inline\n",
        "\n",
        "# plotting the clusters using the first 2 dimentions of the data\n",
        "for c in np.unique(cluster_index):\n",
        "    plt.scatter(data_som[cluster_index == c, 0],\n",
        "                data_som[cluster_index == c, 1], label='cluster='+str(c), alpha=.7)\n",
        "\n",
        "# plotting centroids\n",
        "for centroid in som.get_weights():\n",
        "    plt.scatter(centroid[:, 0], centroid[:, 1], marker='x', \n",
        "                s=80, linewidths=35, color='k', label='centroid')\n",
        "plt.legend();"
      ],
      "execution_count": null,
      "outputs": [
        {
          "output_type": "display_data",
          "data": {
            "image/png": "[encoded data removed]",
            "text/plain": [
              "<Figure size 432x288 with 1 Axes>"
            ]
          },
          "metadata": {
            "tags": [],
            "needs_background": "light"
          }
        }
      ]
    }
  ]
}